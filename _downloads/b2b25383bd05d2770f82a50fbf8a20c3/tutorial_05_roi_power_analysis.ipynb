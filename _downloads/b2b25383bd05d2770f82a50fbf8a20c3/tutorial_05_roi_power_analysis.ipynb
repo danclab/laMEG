{
  "cells": [
    {
      "cell_type": "code",
      "execution_count": null,
      "metadata": {
        "collapsed": false
      },
      "outputs": [],
      "source": [
        "%matplotlib inline"
      ]
    },
    {
      "cell_type": "markdown",
      "metadata": {},
      "source": [
        "\n# Laminar ROI analysis of power in source space\nThis tutorial demonstrates how to perform laminar inference using an ROI analysis of power in source space, described in [Bonaiuto et al., 2018, Non-invasive laminar inference with MEG: Comparison of methods and source inversion algorithms](https://doi.org/10.1016/j.neuroimage.2017.11.068), and used in [Bonaiuto et al., 2018, Lamina-specific cortical dynamics in human visual and sensorimotor cortices](https://doi.org/10.7554/eLife.33977). A 20Hz oscillation is simulated at a particular cortical location in various layers. Source reconstruction is performed using the Empirical Bayesian Beamformer on the simulated sensor data using a forward model based on a multilayer mesh, thus providing an estimate of source activity on each layer. An ROI is defined by comparing power in the 10-30 Hz frequency band during the time period containing the simulated activity with a prior baseline period at each vertex using paired t-tests. Vertices in either surface with a t-statistic above a percentile threshold of the t-statistics over all vertices in that surface, as well as the corresponding vertices in the other surface, are included in the ROI. This ensures that the contrast used to define the ROI was orthogonal to the subsequent laminar contrast. For each trial, ROI values for each layer are computed by averaging the absolute value of the change in power compared to baseline in that surface within the ROI. Finally, a paired t-test is used to compare the ROI values from each layer over trials. All t-tests are done using corrected noise variance estimates in order to attenuate artifactually high significance values [Ridgway et al., 2012](https://doi.org/10.1016/j.neuroimage.2011.10.027).\n"
      ]
    },
    {
      "cell_type": "markdown",
      "metadata": {},
      "source": [
        "## Setting up the simulations\n\nSimulations are based on an existing dataset, which is used to define the sampling rate, number of trials, duration of each trial, and the channel layout.\n\n"
      ]
    },
    {
      "cell_type": "code",
      "execution_count": null,
      "metadata": {
        "collapsed": false
      },
      "outputs": [],
      "source": [
        "import os\nimport shutil\nimport numpy as np\nimport matplotlib.pyplot as plt\nimport tempfile\n\nfrom lameg.invert import invert_ebb, coregister, load_source_time_series\nfrom lameg.laminar import roi_power_comparison\nfrom lameg.simulate import run_current_density_simulation\nfrom lameg.surf import LayerSurfaceSet\nfrom lameg.util import get_fiducial_coords\nfrom lameg.viz import show_surface, color_map\nimport spm_standalone\n\n# Subject information for data to base the simulations on\nsubj_id = 'sub-104'\nses_id = 'ses-01'\n\n# Fiducial coil coordinates\nfid_coords = get_fiducial_coords(subj_id, '../test_data/participants.tsv')\n\n# Data file to base simulations on\ndata_file = os.path.join(\n    '../test_data',\n    subj_id,\n    'meg',\n    ses_id,\n    f'spm/spm-converted_autoreject-{subj_id}-{ses_id}-001-btn_trial-epo.mat'\n)\n\nspm = spm_standalone.initialize()"
      ]
    },
    {
      "cell_type": "markdown",
      "metadata": {},
      "source": [
        "For source reconstructions, we need an MRI and a surface mesh. The simulations and source reconstructions will be based on a forward model using the multilayer mesh\n\n"
      ]
    },
    {
      "cell_type": "code",
      "execution_count": null,
      "metadata": {
        "collapsed": false
      },
      "outputs": [],
      "source": [
        "surf_set_bilam = LayerSurfaceSet(subj_id, 2)\nsurf_set = LayerSurfaceSet(subj_id, 11)\n\nverts_per_surf = surf_set.get_vertices_per_layer()"
      ]
    },
    {
      "cell_type": "markdown",
      "metadata": {},
      "source": [
        "We're going to copy the data file to a temporary directory and direct all output there.\n\n"
      ]
    },
    {
      "cell_type": "code",
      "execution_count": null,
      "metadata": {
        "collapsed": false
      },
      "outputs": [],
      "source": [
        "# Extract base name and path of data file\ndata_path, data_file_name = os.path.split(data_file)\ndata_base = os.path.splitext(data_file_name)[0]\n\n# Where to put simulated data\ntmp_dir = tempfile.mkdtemp()\n\n# Copy data files to tmp directory\nshutil.copy(\n    os.path.join(data_path, f'{data_base}.mat'), \n    os.path.join(tmp_dir, f'{data_base}.mat')\n)\nshutil.copy(\n    os.path.join(data_path, f'{data_base}.dat'), \n    os.path.join(tmp_dir, f'{data_base}.dat')\n)\n\n# Construct base file name for simulations\nbase_fname = os.path.join(tmp_dir, f'{data_base}.mat')"
      ]
    },
    {
      "cell_type": "markdown",
      "metadata": {},
      "source": [
        "Invert the subject's data using the multilayer mesh. This step only has to be done once - this is just to compute the forward model that will be used in the simulations\n\n"
      ]
    },
    {
      "cell_type": "code",
      "execution_count": null,
      "metadata": {
        "collapsed": false
      },
      "outputs": [],
      "source": [
        "# Patch size to use for inversion (in this case it matches the simulated patch size)\npatch_size = 5\n# Number of temporal modes to use for EBB inversion\nn_temp_modes = 4\n\n# Coregister data to multilayer mesh\ncoregister(\n    fid_coords,\n    base_fname,\n    surf_set,\n    spm_instance=spm\n)\n\n# Run inversion\n[_,_] = invert_ebb(\n    base_fname,\n    surf_set,\n    patch_size=patch_size, \n    n_temp_modes=n_temp_modes,\n    spm_instance=spm\n)"
      ]
    },
    {
      "cell_type": "markdown",
      "metadata": {},
      "source": [
        "## Simulating a signal on the pial surface\nWe're going to simulate 1s of signal with a 20Hz sine wave that starts at 0.5s with a dipole moment of 10nAm\n\n"
      ]
    },
    {
      "cell_type": "code",
      "execution_count": null,
      "metadata": {
        "collapsed": false
      },
      "outputs": [],
      "source": [
        "# Frequency of simulated sinusoid (Hz)\nfreq = 20\n# Strength of simulated activity (nAm)\ndipole_moment = 10\n# Sampling rate (must match the data file)\ns_rate = 600\n\n# Generate 1s of a sine wave at a sampling rate of 600Hz (to match the data file)\ntime = np.linspace(0,1,s_rate+1)\nsim_signal = np.zeros(time.shape).reshape(1,-1)\nt_idx=np.where(time>=0.5)[0]\nsim_signal[0,t_idx] = np.sin(time[t_idx]*freq*2*np.pi)\n\nplt.plot(time,dipole_moment*sim_signal[0,:])\nplt.xlabel('Time (s)')\nplt.ylabel('Amplitude (nAm)')"
      ]
    },
    {
      "cell_type": "markdown",
      "metadata": {},
      "source": [
        "<img src=\"file://../_static/tutorial_05_sim_signal.png\" width=\"800\"\n   :alt:>\n\n"
      ]
    },
    {
      "cell_type": "markdown",
      "metadata": {},
      "source": [
        "We need to pick a location (mesh vertex) to simulate at\n\n"
      ]
    },
    {
      "cell_type": "code",
      "execution_count": null,
      "metadata": {
        "collapsed": false
      },
      "outputs": [],
      "source": [
        "# Vertex to simulate activity at\nsim_vertex=50492\n\ncam_view = [335, 9.5, 51,\n            60, 37, 17,\n            0, 0, 1]\nplot = show_surface(\n    surf_set,\n    marker_vertices=sim_vertex,\n    marker_size=5,\n    camera_view=cam_view\n)"
      ]
    },
    {
      "cell_type": "markdown",
      "metadata": {},
      "source": [
        "<img src=\"file://../_static/tutorial_05_sim_location.png\" width=\"800\"\n   :alt:>\n\n"
      ]
    },
    {
      "cell_type": "markdown",
      "metadata": {},
      "source": [
        "We'll simulate a 5mm patch of activity with -5 dB SNR at the sensor level. The desired level of SNR is achieved by adding white noise to the projected sensor signals\n\n"
      ]
    },
    {
      "cell_type": "code",
      "execution_count": null,
      "metadata": {
        "collapsed": false
      },
      "outputs": [],
      "source": [
        "# Simulate at a vertex on the pial surface\npial_vertex = surf_set.get_multilayer_vertex('pial', sim_vertex)\nprefix = f'sim_{sim_vertex}_pial_'\n\n# Size of simulated patch of activity (mm)\nsim_patch_size = 5\n# SNR of simulated data (dB)\nSNR = -10\n\n# Generate simulated data\npial_sim_fname = run_current_density_simulation(\n    base_fname, \n    prefix, \n    pial_vertex, \n    sim_signal, \n    dipole_moment, \n    sim_patch_size, \n    SNR,\n    spm_instance=spm\n)"
      ]
    },
    {
      "cell_type": "markdown",
      "metadata": {},
      "source": [
        "Laminar comparison (pial - white matter)\n\nNow we can run source reconstruction using a source model based on the multi-laminar surface, define an ROI based on the change in power from a baseline time period, and then compare the change in power between the pial and white matter surfaces. First we'll run the inversion.\n\n"
      ]
    },
    {
      "cell_type": "code",
      "execution_count": null,
      "metadata": {
        "collapsed": false
      },
      "outputs": [],
      "source": [
        "# Coregister data to multilayer mesh\ncoregister(\n    fid_coords,\n    pial_sim_fname,\n    surf_set_bilam,\n    spm_instance=spm\n)\n\n# Run inversion on simulated data in a 5Hz window around the simulated frequency using the multilayer surface\n[_,_,MU] = invert_ebb(\n    pial_sim_fname,\n    surf_set_bilam,\n    foi=[freq-10, freq+10],\n    patch_size=patch_size, \n    n_temp_modes=n_temp_modes,\n    return_mu_matrix=True,\n    spm_instance=spm\n)"
      ]
    },
    {
      "cell_type": "markdown",
      "metadata": {},
      "source": [
        "Now we can defined the ROI based on where the change in power from baseline exceeds some percentile threshold in either the pial or the white matter surface, then average the change in power within the ROI, and compare the magnitude of the change between layers. The t-statistic here should be positive, indicating a greater change in power from baseline in the pial surface, because we simulated activity on the pial surface\n\n"
      ]
    },
    {
      "cell_type": "code",
      "execution_count": null,
      "metadata": {
        "collapsed": false
      },
      "outputs": [],
      "source": [
        "laminar_t_statistic, laminar_p_value, df, roi_idx = roi_power_comparison(\n    pial_sim_fname,\n    [0, 500],\n    [-500, 0],\n    99.99,\n    surf_set_bilam,\n    mu_matrix=MU\n)\nprint(f't({df})={laminar_t_statistic}, p={laminar_p_value}')\n\nroi=np.zeros(verts_per_surf)\nroi[roi_idx]=1\n\n# Plot colors and camera view\nc_range = [-1, 1]\ncam_view = [335, 9.5, 51,\n            60, 37, 17,\n            0, 0, 1]\n\n# Plot change in power on each surface\ncolors,_ = color_map(\n    roi,\n    \"RdYlBu_r\",\n    c_range[0],\n    c_range[1]\n)\nthresh_colors=np.ones((colors.shape[0],4))*255\nthresh_colors[:,:3]=colors\nthresh_colors[roi<1,3]=0\n\nplot = show_surface(\n    surf_set,\n    vertex_colors=thresh_colors,\n    info=True,\n    camera_view=cam_view\n)"
      ]
    },
    {
      "cell_type": "markdown",
      "metadata": {},
      "source": [
        "<img src=\"file://../_static/tutorial_05_localizer.png\" width=\"800\"\n   :alt:>\n\n"
      ]
    },
    {
      "cell_type": "markdown",
      "metadata": {},
      "source": [
        "## White matter surface simulation with pial - white matter ROI comparison\nLet's simulate the same pattern of activity, in the same location, but on the white matter surface. This time, there should be a greater change in power on the white matter surface.\n\n"
      ]
    },
    {
      "cell_type": "code",
      "execution_count": null,
      "metadata": {
        "collapsed": false
      },
      "outputs": [],
      "source": [
        "# Simulate at the corresponding vertex on the white matter surface\nwhite_vertex = surf_set.get_multilayer_vertex('white', sim_vertex)\nprefix = f'sim_{sim_vertex}_white_'\n\n# Generate simulated data\nwhite_sim_fname = run_current_density_simulation(\n    base_fname,\n    prefix,\n    white_vertex,\n    sim_signal,\n    dipole_moment,\n    sim_patch_size,\n    SNR,\n    spm_instance=spm\n)\n\n# Coregister data to multilayer mesh\ncoregister(\n    fid_coords,\n    white_sim_fname,\n    surf_set_bilam,\n    spm_instance=spm\n)\n\n# Run inversion on simulated data in a 5Hz window around the simulated frequency using the multilayer surface\n[_,_,MU] = invert_ebb(\n    white_sim_fname,\n    surf_set_bilam,\n    foi=[freq-10, freq+10],\n    patch_size=patch_size,\n    n_temp_modes=n_temp_modes,\n    return_mu_matrix=True,\n    spm_instance=spm\n)\n\n# Compare power t statistic should be negative (more power in white matter layer)\nlaminar_t_statistic, laminar_p_value, df, roi_idx = roi_power_comparison(\n    white_sim_fname,\n    [0, 500],\n    [-500, 0],\n    99.99,\n    surf_set_bilam,\n    mu_matrix=MU,\n    roi_idx=roi_idx\n)\nprint(f't({df})={laminar_t_statistic}, p={laminar_p_value}')"
      ]
    },
    {
      "cell_type": "markdown",
      "metadata": {},
      "source": [
        "## Simulation in each layer with ROI power analysis across layers\nThat was the ROI analysis with two surfaces: the white matter and pial surfaces. Let's now simulate on each layer, and for each simulation, look at the change in power from baseline within the ROI across all layers. We'll turn off SPM visualization here.\n\n"
      ]
    },
    {
      "cell_type": "code",
      "execution_count": null,
      "metadata": {
        "collapsed": false
      },
      "outputs": [],
      "source": [
        "# Now simulate at the corresponding vertex on each layer, and for each simulation, compute power in\n# all layers\nall_layerPow = []\n\nfor sl in range(surf_set.n_layers):\n    print(f'Simulating in layer {sl}')\n    l_vertex = surf_set.get_multilayer_vertex(sl, sim_vertex)\n    prefix = f'sim_{sim_vertex}_{sl}_'\n\n    l_sim_fname = run_current_density_simulation(\n        base_fname,\n        prefix,\n        l_vertex,\n        sim_signal,\n        dipole_moment,\n        sim_patch_size,\n        SNR,\n        spm_instance=spm\n    )\n\n    coregister(\n        fid_coords,\n        l_sim_fname,\n        surf_set,\n        viz=False,\n        spm_instance=spm\n    )\n\n    [_, _, MU] = invert_ebb(\n        l_sim_fname,\n        surf_set,\n        foi=[freq - 10, freq + 10],\n        patch_size=patch_size,\n        n_temp_modes=n_temp_modes,\n        return_mu_matrix=True,\n        viz=False,\n        spm_instance=spm\n    )\n\n    roi_pow = []\n    for il in range(surf_set.n_layers):\n        layer_roi_verts = il * verts_per_surf + roi_idx\n        layer_ts, time, _ = load_source_time_series(\n            l_sim_fname,\n            mu_matrix=MU,\n            vertices=layer_roi_verts.astype(int)\n        )\n        # Compute power in baseline and stimulus time periods\n        base_t_idx = np.where(time < 0)[0]\n        exp_t_idx = np.where(time >= 0)[0]\n\n        layer_base_power = np.squeeze(np.var(layer_ts[:, base_t_idx, :], axis=1))\n        layer_exp_power = np.squeeze(np.var(layer_ts[:, exp_t_idx, :], axis=1))\n        layer_power_change = (layer_exp_power - layer_base_power) / layer_base_power\n\n        roi_pow.append(np.abs(np.mean(layer_power_change, axis=0)))\n\n    all_layerPow.append(roi_pow)\nall_layerPow = np.array(all_layerPow)\n\n## Average power over trials\nmean_layerPow=np.mean(all_layerPow,axis=-1)\n\ncol_r = plt.cm.cool(np.linspace(0,1, num=surf_set.n_layers))\nplt.figure(figsize=(10,4))\n\n# For each simulation, plot the power in each layer model\nplt.subplot(1,2,1)\nfor l in range(surf_set.n_layers):\n    layerPow=mean_layerPow[l,:]\n    plt.plot(layerPow, label=f'{l}', color=col_r[l,:])\nplt.legend()\nplt.xlabel('Eval layer')\nplt.ylabel('ROI mean power')\n\n# For each simulation, find which layer had the greatest power\nplt.subplot(1,2,2)\npeaks=[]\nfor l in range(surf_set.n_layers):\n    layerPow=mean_layerPow[l,:]\n    pk=np.argmax(layerPow)\n    peaks.append(pk)\nplt.plot(peaks)\nplt.xlim([-0.5,10.5])\nplt.ylim([-0.5,10.5])\nplt.plot([0,10],[0,10],'k--')\nplt.xlabel('Sim layer')\nplt.ylabel('Peak power')\nplt.tight_layout()"
      ]
    },
    {
      "cell_type": "markdown",
      "metadata": {},
      "source": [
        "<img src=\"file://../_static/tutorial_05_results.png\" width=\"800\"\n   :alt:>\n\n"
      ]
    },
    {
      "cell_type": "code",
      "execution_count": null,
      "metadata": {
        "collapsed": false
      },
      "outputs": [],
      "source": [
        "mean_layerPow=np.mean(all_layerPow,axis=-1)\n\n# Normalization step\nnorm_mean_layerPow = np.zeros(mean_layerPow.shape)\nfor l in range(surf_set.n_layers):\n    norm_mean_layerPow[l,:] = mean_layerPow[l,:] - np.min(mean_layerPow[l,:])\n\n# Transpose for visualization\nim=plt.imshow(norm_mean_layerPow.T, cmap='Spectral_r')\n\n# Find the indices of the max value in each column\nmax_indices = np.argmax(norm_mean_layerPow, axis=1)\n\n# Plot an 'X' at the center of the square for each column's maximum\nfor idx, max_idx in enumerate(max_indices):\n    plt.text(idx, max_idx, 'X', fontsize=12, ha='center', va='center', color='black', weight='bold')\n\nplt.xlabel('Simulated layer', fontsize=14)\nplt.ylabel('Evaluated layer', fontsize=14)\ncb=plt.colorbar(im)\ncb.set_label('ROI mean power', fontsize=14)"
      ]
    },
    {
      "cell_type": "markdown",
      "metadata": {},
      "source": [
        "<img src=\"file://../_static/tutorial_05_results_matrix.png\" width=\"800\"\n   :alt:>\n\n"
      ]
    },
    {
      "cell_type": "code",
      "execution_count": null,
      "metadata": {
        "collapsed": false
      },
      "outputs": [],
      "source": [
        "spm.terminate()\n\n# Delete simulation files\nshutil.rmtree(tmp_dir)"
      ]
    }
  ],
  "metadata": {
    "kernelspec": {
      "display_name": "Python 3",
      "language": "python",
      "name": "python3"
    },
    "language_info": {
      "codemirror_mode": {
        "name": "ipython",
        "version": 3
      },
      "file_extension": ".py",
      "mimetype": "text/x-python",
      "name": "python",
      "nbconvert_exporter": "python",
      "pygments_lexer": "ipython3",
      "version": "3.7.16"
    }
  },
  "nbformat": 4,
  "nbformat_minor": 0
}