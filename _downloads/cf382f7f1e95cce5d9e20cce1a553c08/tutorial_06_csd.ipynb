{
  "cells": [
    {
      "cell_type": "code",
      "execution_count": null,
      "metadata": {
        "collapsed": false
      },
      "outputs": [],
      "source": [
        "%matplotlib inline"
      ]
    },
    {
      "cell_type": "markdown",
      "metadata": {},
      "source": [
        "\n# Laminar CSD analysis\nThis tutorial demonstrates how to perform laminar inference using a CSD analysis of event-related source signals. A temporal Gaussian function is simulated at a particular cortical location in various layers. Source reconstruction is performed on the whole time window using the Empirical Bayesian Beamformer on the simulated sensor data using a forward model based on the multilayer mesh, thus providing an estimate of source activity on each layer. A laminar CSD is run on the laminar signals at the location with the peak variance.\n"
      ]
    },
    {
      "cell_type": "markdown",
      "metadata": {},
      "source": [
        "## Setting up the simulations\n\nSimulations are based on an existing dataset, which is used to define the sampling rate, number of trials, duration of each trial, and the channel layout.\n\n"
      ]
    },
    {
      "cell_type": "code",
      "execution_count": null,
      "metadata": {
        "collapsed": false
      },
      "outputs": [],
      "source": [
        "import os\nimport shutil\nimport numpy as np\nimport k3d\nimport matplotlib.pyplot as plt\nimport tempfile\n\nfrom lameg.invert import invert_ebb, coregister, load_source_time_series\nfrom lameg.laminar import compute_csd\nfrom lameg.simulate import run_dipole_simulation\nfrom lameg.surf import LayerSurfaceSet\nfrom lameg.util import get_fiducial_coords\nfrom lameg.viz import show_surface, color_map, plot_csd, rgbtoint\nimport spm_standalone\n\n# Subject information for data to base the simulations on\nsubj_id = 'sub-104'\nses_id = 'ses-01'\n\n# Fiducial coil coordinates\nfid_coords = get_fiducial_coords(subj_id, '../test_data/participants.tsv')\n\n# Data file to base simulations on\ndata_file = os.path.join(\n    '../test_data',\n    subj_id,\n    'meg',\n    ses_id,\n    f'spm/pspm-converted_autoreject-{subj_id}-{ses_id}-001-btn_trial-epo.mat'\n)\n\nspm = spm_standalone.initialize()"
      ]
    },
    {
      "cell_type": "markdown",
      "metadata": {},
      "source": [
        "The simulations and source reconstructions will be based on a forward model using the multilayer mesh\n\n"
      ]
    },
    {
      "cell_type": "code",
      "execution_count": null,
      "metadata": {
        "collapsed": false
      },
      "outputs": [],
      "source": [
        "surf_set = LayerSurfaceSet(subj_id, 15)\n\nverts_per_surf = surf_set.get_vertices_per_layer()"
      ]
    },
    {
      "cell_type": "markdown",
      "metadata": {},
      "source": [
        "We're going to copy the data file to a temporary directory and direct all output there.\n\n"
      ]
    },
    {
      "cell_type": "code",
      "execution_count": null,
      "metadata": {
        "collapsed": false
      },
      "outputs": [],
      "source": [
        "# Extract base name and path of data file\ndata_path, data_file_name = os.path.split(data_file)\ndata_base = os.path.splitext(data_file_name)[0]\n\n# Where to put simulated data\ntmp_dir = tempfile.mkdtemp()\n\n# Copy data files to tmp directory\nshutil.copy(\n    os.path.join(data_path, f'{data_base}.mat'), \n    os.path.join(tmp_dir, f'{data_base}.mat')\n)\nshutil.copy(\n    os.path.join(data_path, f'{data_base}.dat'), \n    os.path.join(tmp_dir, f'{data_base}.dat')\n)\n\n# Construct base file name for simulations\nbase_fname = os.path.join(tmp_dir, f'{data_base}.mat')"
      ]
    },
    {
      "cell_type": "markdown",
      "metadata": {},
      "source": [
        "Invert the subject's data using the multilayer mesh. This step only has to be done once - this is just to compute the forward model that will be used in the simulations\n\n"
      ]
    },
    {
      "cell_type": "code",
      "execution_count": null,
      "metadata": {
        "collapsed": false
      },
      "outputs": [],
      "source": [
        "# Patch size to use for inversion (in this case it matches the simulated patch size)\npatch_size = 5\n# Number of temporal modes to use for EBB inversion\nn_temp_modes = 4\n\n# Coregister data to multilayer mesh\ncoregister(\n    fid_coords,\n    base_fname,\n    surf_set,\n    spm_instance=spm\n)\n\n# Run inversion\n[_,_] = invert_ebb(\n    base_fname,\n    surf_set,\n    patch_size=patch_size, \n    n_temp_modes=n_temp_modes,\n    spm_instance=spm\n)"
      ]
    },
    {
      "cell_type": "markdown",
      "metadata": {},
      "source": [
        "## Simulating a signal on a superficial surface\nWe're going to simulate 200ms of a Gaussian with a dipole moment of 5nAm and a width of 25ms\n\n"
      ]
    },
    {
      "cell_type": "code",
      "execution_count": null,
      "metadata": {
        "collapsed": false
      },
      "outputs": [],
      "source": [
        "# Strength of simulated activity (nAm)\ndipole_moment = 5\n# Temporal width of the simulated Gaussian\nsignal_width=.025 # 25ms\n# Sampling rate (must match the data file)\ns_rate = 600\n\n# Generate 200ms of a Gaussian at a sampling rate of 600Hz (to match the data file)\ntime=np.linspace(0,.2,121)\nzero_time=time[int((len(time)-1)/2+1)]\nsim_signal=np.exp(-((time-zero_time)**2)/(2*signal_width**2)).reshape(1,-1)\nplt.plot(time,dipole_moment*sim_signal[0,:])\nplt.xlabel('Time (s)')\nplt.ylabel('Amplitude (nAm)')"
      ]
    },
    {
      "cell_type": "markdown",
      "metadata": {},
      "source": [
        "<img src=\"file://../_static/tutorial_06_sim_signal.png\" width=\"800\"\n   :alt:>\n\n"
      ]
    },
    {
      "cell_type": "markdown",
      "metadata": {},
      "source": [
        "We need to pick a location (mesh vertex) to simulate at\n\n"
      ]
    },
    {
      "cell_type": "code",
      "execution_count": null,
      "metadata": {
        "collapsed": false
      },
      "outputs": [],
      "source": [
        "# Vertex to simulate activity at\nsim_vertex=50492\n\ncam_view = [335, 9.5, 51,\n            60, 37, 17,\n            0, 0, 1]\nplot = show_surface(\n    surf_set,\n    marker_vertices=sim_vertex,\n    marker_size=5,\n    camera_view=cam_view\n)"
      ]
    },
    {
      "cell_type": "markdown",
      "metadata": {},
      "source": [
        "<img src=\"file://../_static/tutorial_06_sim_location.png\" width=\"800\"\n   :alt:>\n\n"
      ]
    },
    {
      "cell_type": "markdown",
      "metadata": {},
      "source": [
        "We'll simulate a 5mm patch of activity with -5 dB SNR at the sensor level. The desired level of SNR is achieved by adding white noise to the projected sensor signals\n\n"
      ]
    },
    {
      "cell_type": "code",
      "execution_count": null,
      "metadata": {
        "collapsed": false
      },
      "outputs": [],
      "source": [
        "# Simulate at a vertex on the pial surface\npial_vertex = surf_set.get_multilayer_vertex('pial', sim_vertex)\nmultilayer_mesh = surf_set.load(stage='ds', orientation='link_vector', fixed=True)\nsim_unit_norm = multilayer_mesh.darrays[2].data[pial_vertex,:]\nprefix = f'sim_{sim_vertex}_pial_'\n\n# Size of simulated patch of activity (mm)\nsim_patch_size = 5\n# SNR of simulated data (dB)\nSNR = -5\n\n# Generate simulated data\npial_sim_fname = run_dipole_simulation(\n    base_fname, \n    prefix, \n    pial_vertex, \n    sim_signal, \n    sim_unit_norm, \n    dipole_moment, \n    sim_patch_size, \n    SNR,\n    spm_instance=spm\n)"
      ]
    },
    {
      "cell_type": "markdown",
      "metadata": {},
      "source": [
        "## Inversion\nNow we'll run a source reconstruction using the multilayer mesh, select the vertex to examine, extract the source signals at each layer in that location, and compute a laminar CSD\n\n"
      ]
    },
    {
      "cell_type": "code",
      "execution_count": null,
      "metadata": {
        "collapsed": false
      },
      "outputs": [],
      "source": [
        "[_,_,MU] = invert_ebb(\n    pial_sim_fname,\n    surf_set,\n    patch_size=patch_size,\n    n_temp_modes=n_temp_modes,\n    return_mu_matrix=True,\n    spm_instance=spm\n)\n\npial_layer_vertices = np.arange(verts_per_surf)\npial_layer_ts, time, _ = load_source_time_series(\n    pial_sim_fname,\n    mu_matrix=MU,\n    vertices=pial_layer_vertices\n)\n\n# Layer peak\nm_layer_max = np.max(np.mean(pial_layer_ts,axis=-1),-1)\npeak = np.argmax(m_layer_max)\n\nprint(f'Simulated vertex={sim_vertex}, Prior vertex={peak}')"
      ]
    },
    {
      "cell_type": "markdown",
      "metadata": {},
      "source": [
        "We can see that the peak is very close to the location we simulated at\n\n"
      ]
    },
    {
      "cell_type": "code",
      "execution_count": null,
      "metadata": {
        "collapsed": false
      },
      "outputs": [],
      "source": [
        "# Plot colors and camera view\nmax_abs = np.max(np.abs(m_layer_max))\nc_range = [-max_abs, max_abs]\ncam_view = [335, 9.5, 51,\n            60, 37, 17,\n            0, 0, 1]\n\n# Plot peak\ncolors,_ = color_map(\n    m_layer_max,\n    \"RdYlBu_r\",\n    c_range[0],\n    c_range[1]\n)\nthresh_colors=np.ones((colors.shape[0],4))*255\nthresh_colors[:,:3]=colors\nthresh_colors[m_layer_max<np.percentile(m_layer_max,99.9),3]=0\n\nplot = show_surface(\n    surf_set,\n    vertex_colors=thresh_colors,\n    info=True,\n    camera_view=cam_view,\n    marker_vertices=peak,\n    marker_size=5,\n    marker_color=[0,0,255]\n)"
      ]
    },
    {
      "cell_type": "markdown",
      "metadata": {},
      "source": [
        "<img src=\"file://../_static/tutorial_06_localizer.png\" width=\"800\"\n   :alt:>\n\n"
      ]
    },
    {
      "cell_type": "markdown",
      "metadata": {},
      "source": [
        "We need the indices of the vertex at each layer for this location, and the distances between them\n\n"
      ]
    },
    {
      "cell_type": "code",
      "execution_count": null,
      "metadata": {
        "collapsed": false
      },
      "outputs": [],
      "source": [
        "layer_verts = [surf_set.get_multilayer_vertex(l, peak) for l in range(surf_set.n_layers)]\nlayer_coords = multilayer_mesh.darrays[0].data[layer_verts,:]\nlayer_dists = np.sqrt(np.sum(np.diff(layer_coords,axis=0)**2,axis=1))\nprint(layer_dists)"
      ]
    },
    {
      "cell_type": "markdown",
      "metadata": {},
      "source": [
        "Now we can compute and plot the laminar CSD\n\n"
      ]
    },
    {
      "cell_type": "code",
      "execution_count": null,
      "metadata": {
        "collapsed": false
      },
      "outputs": [],
      "source": [
        "# Get source time series for each layer\nlayer_ts, time, _ = load_source_time_series(pial_sim_fname, vertices=layer_verts)\n\n# Average over trials and compute CSD and smoothed CSD\nmean_layer_ts = np.mean(layer_ts, axis=-1)\n[csd, smooth_csd] = compute_csd(mean_layer_ts, np.sum(layer_dists), s_rate, smoothing='cubic')\n\ncol_r = plt.cm.cool(np.linspace(0, 1, num=surf_set.n_layers))\nplt.figure(figsize=(15, 4))\nplt.subplot(1, 3, 1)\nfor l in range(surf_set.n_layers):\n    plt.plot(time, mean_layer_ts[l, :], label=f'{l}', color=col_r[l, :])\nplt.legend(loc='upper left')\nplt.xlabel('Time (ms)')\nplt.ylabel('Source (nAm)')\n\nplt.subplot(1, 3, 2)\nfor l in range(surf_set.n_layers):\n    plt.plot(time, csd[l, :], label=f'{l}', color=col_r[l, :])\nplt.legend(loc='upper left')\nplt.xlabel('Time (ms)')\nplt.ylabel('CSD')\n\nax = plt.subplot(1, 3, 3)\nplot_csd(smooth_csd, time, ax, n_layers=surf_set.n_layers)\nplt.xlabel('Time (ms)')\nplt.ylabel('Layer')\nplt.tight_layout()"
      ]
    },
    {
      "cell_type": "markdown",
      "metadata": {},
      "source": [
        "<img src=\"file://../_static/tutorial_06_pial_sim_results.png\" width=\"800\"\n   :alt:>\n\n"
      ]
    },
    {
      "cell_type": "markdown",
      "metadata": {},
      "source": [
        "## White matter surface simulation with laminar CSD\nLet's simulate the same pattern of activity, in the same location, but on the white matter surface.\n\n"
      ]
    },
    {
      "cell_type": "code",
      "execution_count": null,
      "metadata": {
        "collapsed": false
      },
      "outputs": [],
      "source": [
        "# Simulate at the corresponding vertex on the white matter surface\nwhite_vertex = surf_set.get_multilayer_vertex('white', sim_vertex)\nprefix = f'sim_{sim_vertex}_white_'\n\n# Generate simulated data\nwhite_sim_fname = run_dipole_simulation(\n    base_fname,\n    prefix,\n    white_vertex,\n    sim_signal,\n    sim_unit_norm,\n    dipole_moment,\n    sim_patch_size,\n    SNR,\n    spm_instance=spm\n)\n\n[_, _, MU] = invert_ebb(\n    white_sim_fname,\n    surf_set,\n    patch_size=patch_size,\n    n_temp_modes=n_temp_modes,\n    return_mu_matrix=True,\n    spm_instance=spm\n)\n\npial_layer_ts, time, _ = load_source_time_series(\n    white_sim_fname,\n    mu_matrix=MU,\n    vertices=pial_layer_vertices\n)\n\n# Layer peak\nm_layer_max = np.max(np.mean(pial_layer_ts, axis=-1), -1)\npeak = np.argmax(m_layer_max)\n\nprint(f'Simulated vertex={sim_vertex}, Prior vertex={peak}')\n\nlayer_verts = [surf_set.get_multilayer_vertex(l, peak) for l in range(surf_set.n_layers)]\nlayer_coords = multilayer_mesh.darrays[0].data[layer_verts, :]\nlayer_dists = np.sqrt(np.sum(np.diff(layer_coords, axis=0) ** 2, axis=1))\nprint(layer_dists)\n\n# Get source time series for each layer\nlayer_ts, time, _ = load_source_time_series(white_sim_fname, mu_matrix=MU, vertices=layer_verts)\n\n# Average over trials and compute CSD and smoothed CSD\nmean_layer_ts = np.mean(layer_ts, axis=-1)\n[csd, smooth_csd] = compute_csd(mean_layer_ts, np.sum(layer_dists), s_rate, smoothing='cubic')\n\ncol_r = plt.cm.cool(np.linspace(0, 1, num=surf_set.n_layers))\nplt.figure(figsize=(15, 4))\nplt.subplot(1, 3, 1)\nfor l in range(surf_set.n_layers):\n    plt.plot(time, mean_layer_ts[l, :], label=f'{l}', color=col_r[l, :])\nplt.legend(loc='upper left')\nplt.xlabel('Time (ms)')\nplt.ylabel('Source (nAm)')\n\nplt.subplot(1, 3, 2)\nfor l in range(surf_set.n_layers):\n    plt.plot(time, csd[l, :], label=f'{l}', color=col_r[l, :])\nplt.legend(loc='upper left')\nplt.xlabel('Time (ms)')\nplt.ylabel('CSD')\n\nax = plt.subplot(1, 3, 3)\nplot_csd(smooth_csd, time, ax, n_layers=surf_set.n_layers)\nplt.xlabel('Time (ms)')\nplt.ylabel('Layer')\nplt.tight_layout()"
      ]
    },
    {
      "cell_type": "markdown",
      "metadata": {},
      "source": [
        "<img src=\"file://../_static/tutorial_06_white_sim_results.png\" width=\"800\"\n   :alt:>\n\n"
      ]
    },
    {
      "cell_type": "markdown",
      "metadata": {},
      "source": [
        "## Simulation in each layer\nLet's now simulate on each layer, and for each simulation, run the laminar CSD. We'll turn off SPM visualization here.\n\n"
      ]
    },
    {
      "cell_type": "code",
      "execution_count": null,
      "metadata": {
        "collapsed": false
      },
      "outputs": [],
      "source": [
        "# Now simulate at the corresponding vertex on each layer, and for each simulation compute CSD\nlayer_csds = []\nfor l in range(surf_set.n_layers):\n    print(f'Simulating in layer {l}')\n    prefix = f'sim_{sim_vertex}_{l}_'\n    l_vertex = surf_set.get_multilayer_vertex(l, sim_vertex)\n\n    l_sim_fname = run_dipole_simulation(\n        base_fname,\n        prefix,\n        l_vertex,\n        sim_signal,\n        sim_unit_norm,\n        dipole_moment,\n        sim_patch_size,\n        SNR,\n        spm_instance=spm\n    )\n\n    [_, _, MU] = invert_ebb(\n        l_sim_fname,\n        surf_set,\n        patch_size=patch_size,\n        n_temp_modes=n_temp_modes,\n        viz=False,\n        return_mu_matrix=True,\n        spm_instance=spm\n    )\n\n    pial_layer_ts, time, _ = load_source_time_series(\n        l_sim_fname,\n        mu_matrix=MU,\n        vertices=pial_layer_vertices\n    )\n\n    # Layer peak\n    m_layer_max = np.max(np.mean(pial_layer_ts, axis=-1), -1)\n    peak = np.argmax(m_layer_max)\n\n    print(f'Simulated vertex={sim_vertex}, Prior vertex={peak}')\n\n    layer_verts = [surf_set.get_multilayer_vertex(l, peak) for l in range(surf_set.n_layers)]\n    layer_coords = multilayer_mesh.darrays[0].data[layer_verts, :]\n    layer_dists = np.sqrt(np.sum(np.diff(layer_coords, axis=0) ** 2, axis=1))\n    print(layer_dists)\n\n    # Get source time series for each layer\n    layer_ts, time, _ = load_source_time_series(l_sim_fname, mu_matrix=MU, vertices=layer_verts)\n\n    mean_layer_ts = np.mean(layer_ts, axis=-1)\n    [csd, smooth_csd] = compute_csd(mean_layer_ts, np.sum(layer_dists), 600, smoothing='cubic')\n\n    col_r = plt.cm.cool(np.linspace(0, 1, num=surf_set.n_layers))\n    plt.figure(figsize=(15, 4))\n    plt.subplot(1, 3, 1)\n    for l_idx in range(surf_set.n_layers):\n        plt.plot(time, mean_layer_ts[l_idx, :], label=f'{l_idx}', color=col_r[l_idx, :])\n    plt.legend(loc='upper left')\n    plt.xlabel('Time (ms)')\n    plt.ylabel('Source (nAm)')\n\n    plt.subplot(1, 3, 2)\n    for l_idx in range(surf_set.n_layers):\n        plt.plot(time, csd[l_idx, :], label=f'{l_idx}', color=col_r[l_idx, :])\n    plt.legend(loc='upper left')\n    plt.xlabel('Time (ms)')\n    plt.ylabel('CSD')\n\n    ax = plt.subplot(1, 3, 3)\n    plot_csd(smooth_csd, time, ax, n_layers=surf_set.n_layers)\n    plt.xlabel('Time (ms)')\n    plt.ylabel('Layer')\n    plt.tight_layout()\n\n    layer_csds.append(smooth_csd)"
      ]
    },
    {
      "cell_type": "markdown",
      "metadata": {},
      "source": [
        "<img src=\"file://../_static/tutorial_06_pial_sim_results.png\" width=\"800\"\n   :alt:>\n\n"
      ]
    },
    {
      "cell_type": "markdown",
      "metadata": {},
      "source": [
        "<img src=\"file://../_static/tutorial_06_1_sim_results.png\" width=\"800\"\n   :alt:>\n\n"
      ]
    },
    {
      "cell_type": "markdown",
      "metadata": {},
      "source": [
        "<img src=\"file://../_static/tutorial_06_2_sim_results.png\" width=\"800\"\n   :alt:>\n\n"
      ]
    },
    {
      "cell_type": "markdown",
      "metadata": {},
      "source": [
        "<img src=\"file://../_static/tutorial_06_3_sim_results.png\" width=\"800\"\n   :alt:>\n\n"
      ]
    },
    {
      "cell_type": "markdown",
      "metadata": {},
      "source": [
        "<img src=\"file://../_static/tutorial_06_4_sim_results.png\" width=\"800\"\n   :alt:>\n\n"
      ]
    },
    {
      "cell_type": "markdown",
      "metadata": {},
      "source": [
        "<img src=\"file://../_static/tutorial_06_5_sim_results.png\" width=\"800\"\n   :alt:>\n\n"
      ]
    },
    {
      "cell_type": "markdown",
      "metadata": {},
      "source": [
        "<img src=\"file://../_static/tutorial_06_6_sim_results.png\" width=\"800\"\n   :alt:>\n\n"
      ]
    },
    {
      "cell_type": "markdown",
      "metadata": {},
      "source": [
        "<img src=\"file://../_static/tutorial_06_7_sim_results.png\" width=\"800\"\n   :alt:>\n\n"
      ]
    },
    {
      "cell_type": "markdown",
      "metadata": {},
      "source": [
        "<img src=\"file://../_static/tutorial_06_8_sim_results.png\" width=\"800\"\n   :alt:>\n\n"
      ]
    },
    {
      "cell_type": "markdown",
      "metadata": {},
      "source": [
        "<img src=\"file://../_static/tutorial_06_9_sim_results.png\" width=\"800\"\n   :alt:>\n\n"
      ]
    },
    {
      "cell_type": "markdown",
      "metadata": {},
      "source": [
        "<img src=\"file://../_static/tutorial_06_10_sim_results.png\" width=\"800\"\n   :alt:>\n\n"
      ]
    },
    {
      "cell_type": "markdown",
      "metadata": {},
      "source": [
        "<img src=\"file://../_static/tutorial_06_11_sim_results.png\" width=\"800\"\n   :alt:>\n\n"
      ]
    },
    {
      "cell_type": "markdown",
      "metadata": {},
      "source": [
        "<img src=\"file://../_static/tutorial_06_12_sim_results.png\" width=\"800\"\n   :alt:>\n\n"
      ]
    },
    {
      "cell_type": "markdown",
      "metadata": {},
      "source": [
        "<img src=\"file://../_static/tutorial_06_13_sim_results.png\" width=\"800\"\n   :alt:>\n\n"
      ]
    },
    {
      "cell_type": "markdown",
      "metadata": {},
      "source": [
        "<img src=\"file://../_static/tutorial_06_white_sim_results.png\" width=\"800\"\n   :alt:>\n\n"
      ]
    },
    {
      "cell_type": "markdown",
      "metadata": {},
      "source": [
        "For each simulation, we can plot a slice of the CSD through layers around a central time window. The layer model where the CSD signal crosses from negative to positive should correspond to the layer that the activity was simulated in.\n\n"
      ]
    },
    {
      "cell_type": "code",
      "execution_count": null,
      "metadata": {
        "collapsed": false
      },
      "outputs": [],
      "source": [
        "scale_factor=500/surf_set.n_layers\ncsd_patterns = []\npeaks = []\nfor layer_csd in layer_csds:\n    t_idx = np.where((time>=-0.05) & (time<=0.05))[0]\n    csd_pattern = np.mean(layer_csd[:,t_idx],axis=1)\n    peak = np.argmax(np.abs(csd_pattern))\n    #cross_before = np.argmax(0-csd_pattern[:peak]))\n    peaks.append(np.argmax(np.abs(csd_pattern))/scale_factor)\n    csd_patterns.append(csd_pattern)\n\ncol_r = plt.cm.cool(np.linspace(0,1, num=surf_set.n_layers))\nplt.figure(figsize=(10,4))\n\n# For each simulation, plot the CV error of each layer model relative to that of the worst\n# model for that simulation\nplt.subplot(1,2,1)\nfor l in range(surf_set.n_layers):\n    plt.plot(np.arange(len(csd_patterns[l]))/scale_factor,csd_patterns[l], label=f'{l}', color=col_r[l,:])\nplt.legend()\nplt.xlabel('Eval layer')\nplt.ylabel('CSD')\n\n# For each simulation, find which layer model had the lowest CV error\nplt.subplot(1,2,2)\nplt.plot(np.arange(surf_set.n_layers),peaks)\nplt.xlim([-0.5,surf_set.n_layers-.5])\nplt.ylim([-0.5,surf_set.n_layers-.5])\nplt.plot([0,surf_set.n_layers-1],[0,surf_set.n_layers-1],'k--')\nplt.xlabel('Sim layer')\nplt.ylabel('Peak CSD')\nplt.tight_layout()"
      ]
    },
    {
      "cell_type": "markdown",
      "metadata": {},
      "source": [
        "<img src=\"file://../_static/tutorial_06_results.png\" width=\"800\"\n   :alt:>\n\n"
      ]
    },
    {
      "cell_type": "code",
      "execution_count": null,
      "metadata": {
        "collapsed": false
      },
      "outputs": [],
      "source": [
        "csd_patterns=np.array(csd_patterns)\n# Transpose for visualization\nim=plt.imshow(csd_patterns.T,aspect='auto', cmap='Spectral_r',extent=[0, surf_set.n_layers, surf_set.n_layers, 0])\n\n# Find the indices of the max value in each column\nmax_indices = np.argmax(csd_patterns, axis=1)\n\n# Plot an 'X' at the center of the square for each column's maximum\nfor idx, max_idx in enumerate(max_indices):\n    plt.text(idx, max_idx/scale_factor, 'X', fontsize=12, ha='center', va='center', color='black', weight='bold')\n\nplt.xlabel('Simulated layer', fontsize=14)\nplt.ylabel('Evaluated layer', fontsize=14)\ncb=plt.colorbar(im)\ncb.set_label('CSD', fontsize=14)"
      ]
    },
    {
      "cell_type": "markdown",
      "metadata": {},
      "source": [
        "<img src=\"file://../_static/tutorial_06_results_matrix.png\" width=\"800\"\n   :alt:>\n\n"
      ]
    },
    {
      "cell_type": "markdown",
      "metadata": {},
      "source": [
        "## Beta burst CSD\nThat was a simulation of a source in a single layer. Let's try a beta burst simulation, with simultaneous sources in deep and superficial layers (see [Bonaiuto et al., 2021, Laminar dynamics of high amplitude beta bursts in human motor cortex](https://doi.org/10.1016/j.neuroimage.2021.118479))\n\n"
      ]
    },
    {
      "cell_type": "code",
      "execution_count": null,
      "metadata": {
        "collapsed": false
      },
      "outputs": [],
      "source": [
        "# Strength of each simulated source (nAm)\ndipole_moment = [8, 6]\n# Temporal width of the simulated superficial signal\nsuperficial_width = .01 # 10ms\n# Temporal width of the simulated deep signal\ndeep_width = .025 # 25ms\n\n# Sampling rate (must match the data file)\ns_rate = 600\n\n# Generate 200ms of a Gaussian at a sampling rate of 600Hz (to match the data file)\ntime = np.linspace(0,.2,121)\nzero_time = time[int((len(time)-1)/2+1)]\nsuperficial_signal = np.exp(-((time-zero_time)**2)/(2*superficial_width**2))\ndeep_signal = np.exp(-((time-zero_time)**2)/(2*deep_width**2))\n\nplt.plot(time,superficial_signal*dipole_moment[0], 'b', label='superficial')\nplt.plot(time,deep_signal*dipole_moment[1], 'r', label='deep')\nplt.legend()\nplt.xlabel('Time (s)')\nplt.ylabel('Amplitude (nAm)')"
      ]
    },
    {
      "cell_type": "markdown",
      "metadata": {},
      "source": [
        "<img src=\"file://../_static/tutorial_06_burst_sim_signal.png\" width=\"800\"\n   :alt:>\n\n"
      ]
    },
    {
      "cell_type": "markdown",
      "metadata": {},
      "source": [
        "We need to pick a location (mesh vertex) to simulate at. The superficial signal will be simulated as a dipole at the corresponding vertex on the pial surface, and the deep signal on the white matter surface. The dipole orientations will be in opposite directions (with the superficial one pointing toward the deep one, and vice versa). This will yield a cumulative dipole moment with a beta burst-like shape\n\n"
      ]
    },
    {
      "cell_type": "code",
      "execution_count": null,
      "metadata": {
        "collapsed": false
      },
      "outputs": [],
      "source": [
        "# Location to simulate activity at\nsim_vertex=24581\n# Corresponding pial and white matter vertices\npial_vertex = sim_vertex\nwhite_vertex = (surf_set.n_layers-1)*int(verts_per_surf)+sim_vertex\npial_coord = multilayer_mesh.darrays[0].data[pial_vertex,:]\nwhite_coord = multilayer_mesh.darrays[0].data[white_vertex,:]\n\n# Orientation of the simulated superficial dipole\npial_ori=multilayer_mesh.darrays[2].data[pial_vertex,:]\n# Orientation of the simulated deep dipole\nwhite_ori=-1*multilayer_mesh.darrays[2].data[white_vertex,:]\n\ncol_r = plt.cm.cool(np.linspace(0,1, num=surf_set.n_layers))\n\npial_mesh = surf_set.load(layer_name='pial', stage='combined')\nwhite_mesh = surf_set.load(layer_name='white', stage='combined')\n\ncam_view = [85.5, -10.5, 32,\n            0.5, 17, 43,\n            0, 0, 1]\n\nplot = k3d.plot(\n    grid_visible=False, menu_visibility=False, camera_auto_fit=False\n)\n\npial_vertices, pial_faces, _ = pial_mesh.agg_data()\npial_k3d_mesh = k3d.mesh(pial_vertices, pial_faces, side=\"double\", color=rgbtoint(col_r[0,:3]*255), opacity=0.5)\nplot += pial_k3d_mesh\n\nwhite_vertices, white_faces, _ = white_mesh.agg_data()\nwhite_k3d_mesh = k3d.mesh(white_vertices, white_faces, side=\"double\", color=rgbtoint(col_r[-1,:3]*255), opacity=1)\nplot += white_k3d_mesh\n\npts = k3d.points(\n    np.vstack([pial_coord, white_coord]),\n    point_size=1,\n    color=rgbtoint([0,0,0])\n)\nplot += pts\n\ndipole_vectors = k3d.vectors(\n    np.vstack([pial_coord, white_coord]),\n    vectors=np.vstack([pial_ori, white_ori])*2.3,\n    head_size=5,\n    line_width=0.1,\n    colors=[rgbtoint([0,0,255]), rgbtoint([0,0,255]),\n            rgbtoint([255,0,0]), rgbtoint([255,0,0])]\n)\nplot += dipole_vectors\n\nplot.camera=cam_view\n\nplot.display()"
      ]
    },
    {
      "cell_type": "markdown",
      "metadata": {},
      "source": [
        "<img src=\"file://../_static/tutorial_06_burst_orientation.png\" width=\"800\"\n   :alt:>\n\n"
      ]
    },
    {
      "cell_type": "markdown",
      "metadata": {},
      "source": [
        "We'll simulate a 5mm patch of activity with -10 dB SNR at the sensor level. The desired level of SNR is achieved by adding white noise to the projected sensor signals\n\n"
      ]
    },
    {
      "cell_type": "code",
      "execution_count": null,
      "metadata": {
        "collapsed": false
      },
      "outputs": [],
      "source": [
        "# Simulate a beta burst as two sources: one deep and one superficial\nprefix=f'sim_{sim_vertex}_burst_'\n\n# Size of simulated sources (mm)\nsim_dipfwhm=[5, 5] # mm\n# SNR of simulated data (dB)\nSNR=-10\n\n# Generate simulated data\nburst_sim_fname=run_dipole_simulation(\n    base_fname, \n    prefix, \n    [pial_vertex, white_vertex],\n    np.vstack([superficial_signal, deep_signal]),\n    np.vstack([pial_ori, white_ori]),\n    dipole_moment, \n    sim_dipfwhm, \n    SNR,\n    spm_instance=spm\n)"
      ]
    },
    {
      "cell_type": "markdown",
      "metadata": {},
      "source": [
        "Now we'll run a source reconstruction using the multilayer mesh, select the vertex to examine, extract the source signals at each layer in that location, and compute a laminar CSD\n\n"
      ]
    },
    {
      "cell_type": "code",
      "execution_count": null,
      "metadata": {
        "collapsed": false
      },
      "outputs": [],
      "source": [
        "[_, _, MU] = invert_ebb(\n    burst_sim_fname,\n    surf_set,\n    patch_size=patch_size,\n    n_temp_modes=n_temp_modes,\n    return_mu_matrix=True,\n    spm_instance=spm\n)\n\npial_layer_vertices = np.arange(verts_per_surf)\npial_layer_ts, time, _ = load_source_time_series(\n    burst_sim_fname,\n    mu_matrix=MU,\n    vertices=pial_layer_vertices\n)\n\n# Layer peak\nm_layer_max = np.max(np.mean(pial_layer_ts, axis=-1), -1)\npeak = np.argmax(m_layer_max)\n\nprint(f'Simulated vertex={sim_vertex}, Prior vertex={peak}')\n\nlayer_verts = [surf_set.get_multilayer_vertex(l, peak) for l in range(surf_set.n_layers)]\nlayer_coords = multilayer_mesh.darrays[0].data[layer_verts, :]\nlayer_dists = np.sqrt(np.sum(np.diff(layer_coords, axis=0) ** 2, axis=1))\nprint(layer_dists)\n\n# Get source time series for each layer\nlayer_ts, time, _ = load_source_time_series(burst_sim_fname, mu_matrix=MU, vertices=layer_verts)\n\n# Average over trials and compute CSD and smoothed CSD\nmean_layer_ts = np.mean(layer_ts, axis=-1)\n[csd, smooth_csd] = compute_csd(mean_layer_ts, np.sum(layer_dists), s_rate, smoothing='cubic')\n\ncol_r = plt.cm.cool(np.linspace(0, 1, num=surf_set.n_layers))\nplt.figure(figsize=(15, 4))\nplt.subplot(1, 3, 1)\nfor l in range(surf_set.n_layers):\n    plt.plot(mean_layer_ts[l, :], label=f'{l}', color=col_r[l, :])\nplt.legend(loc='upper left')\nplt.xlabel('Time (ms)')\nplt.ylabel('Source (nAm)')\n\nplt.subplot(1, 3, 2)\nfor l in range(surf_set.n_layers):\n    plt.plot(csd[l, :], label=f'{l}', color=col_r[l, :])\nplt.legend(loc='upper left')\nplt.xlabel('Time (ms)')\nplt.ylabel('CSD')\n\nax = plt.subplot(1, 3, 3)\nplot_csd(smooth_csd, time, ax)\nplt.xlabel('Time (ms)')\nplt.ylabel('Layer')\nplt.tight_layout()"
      ]
    },
    {
      "cell_type": "markdown",
      "metadata": {},
      "source": [
        "<img src=\"file://../_static/tutorial_06_burst_results.png\" width=\"800\"\n   :alt:>\n\n"
      ]
    },
    {
      "cell_type": "code",
      "execution_count": null,
      "metadata": {
        "collapsed": false
      },
      "outputs": [],
      "source": [
        "spm.terminate()\n\n# Delete simulation files\nshutil.rmtree(tmp_dir)"
      ]
    }
  ],
  "metadata": {
    "kernelspec": {
      "display_name": "Python 3",
      "language": "python",
      "name": "python3"
    },
    "language_info": {
      "codemirror_mode": {
        "name": "ipython",
        "version": 3
      },
      "file_extension": ".py",
      "mimetype": "text/x-python",
      "name": "python",
      "nbconvert_exporter": "python",
      "pygments_lexer": "ipython3",
      "version": "3.7.16"
    }
  },
  "nbformat": 4,
  "nbformat_minor": 0
}