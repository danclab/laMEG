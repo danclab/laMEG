{
  "cells": [
    {
      "cell_type": "code",
      "execution_count": null,
      "metadata": {
        "collapsed": false
      },
      "outputs": [],
      "source": [
        "%matplotlib inline"
      ]
    },
    {
      "cell_type": "markdown",
      "metadata": {},
      "source": [
        "\n# Laminar model comparison using cross-validation error\n\nThis tutorial demonstrates how to perform laminar inference using model comparison based on cross-validation error as a metric of model fit, described in [Bonaiuto et al., 2018, Non-invasive laminar inference with MEG: Comparison of methods and source inversion algorithms](https://doi.org/10.1016/j.neuroimage.2017.11.068). A 20Hz oscillation is simulated at a particular cortical location in various layers. Source reconstruction is performed using the Empirical Bayesian Beamformer on the simulated sensor data using forward models based on different layer meshes. These models are then compared using cross-validation error. Cross-validation error is computed by fitting the model N times, each time leaving out a certain percentage of the channels and seeing how well the resulting model can predict the signal in those channels\n"
      ]
    },
    {
      "cell_type": "markdown",
      "metadata": {},
      "source": [
        "## Setting up the simulations\n\nSimulations are based on an existing dataset, which is used to define the sampling rate, number of trials, duration of each trial, and the channel layout.\n\n"
      ]
    },
    {
      "cell_type": "code",
      "execution_count": null,
      "metadata": {
        "collapsed": false
      },
      "outputs": [],
      "source": [
        "import os\nimport shutil\nimport numpy as np\nimport nibabel as nib\nimport matplotlib.pyplot as plt\nimport tempfile\n\nfrom lameg.invert import coregister, invert_ebb\nfrom lameg.simulate import run_current_density_simulation\nfrom lameg.laminar import model_comparison\nfrom lameg.util import get_surface_names, get_fiducial_coords\nfrom lameg.viz import show_surface\nimport spm_standalone\n\n# Subject information for data to base the simulations on\nsubj_id = 'sub-104'\nses_id = 'ses-01'\n\n# Fiducial coil coordinates\nnas, lpa, rpa = get_fiducial_coords(subj_id, '../test_data/participants.tsv')\n\n# Data file to base simulations on\ndata_file = os.path.join(\n    '../test_data', \n    subj_id,\n    'meg',\n    ses_id, \n    'spm/spm-converted_autoreject-sub-104-ses-01-001-btn_trial-epo.mat'\n)\n\nspm = spm_standalone.initialize()"
      ]
    },
    {
      "cell_type": "markdown",
      "metadata": {},
      "source": [
        "For source reconstructions, we need an MRI and a surface mesh. The simulations will be based on a forward model using the multilayer mesh, and the model comparison will use each layer mesh\n\n"
      ]
    },
    {
      "cell_type": "code",
      "execution_count": null,
      "metadata": {
        "collapsed": false
      },
      "outputs": [],
      "source": [
        "# Native space MRI to use for coregistration\nmri_fname = os.path.join('../test_data', subj_id, 'mri', 's2023-02-28_13-33-133958-00001-00224-1.nii' )\n\n# Mesh to use for forward model in the simulations\nmultilayer_mesh_fname = os.path.join('../test_data', subj_id, 'surf', 'multilayer.11.ds.link_vector.fixed.gii')\n\n# Load multilayer mesh and compute the number of vertices per layer\nmesh = nib.load(multilayer_mesh_fname)\nn_layers = 11\nverts_per_surf = int(mesh.darrays[0].data.shape[0]/n_layers)\n\n# Get name of each mesh that makes up the layers of the multilayer mesh - these will be used for the source \n# reconstruction\nlayer_fnames = get_surface_names(\n    n_layers, \n    os.path.join('../test_data', subj_id, 'surf'), \n    'link_vector.fixed'\n)"
      ]
    },
    {
      "cell_type": "markdown",
      "metadata": {},
      "source": [
        "We're going to copy the data file to a temporary directory and direct all output there.\n\n"
      ]
    },
    {
      "cell_type": "code",
      "execution_count": null,
      "metadata": {
        "collapsed": false
      },
      "outputs": [],
      "source": [
        "# Extract base name and path of data file\ndata_path, data_file_name = os.path.split(data_file)\ndata_base = os.path.splitext(data_file_name)[0]\n\n# Where to put simulated data\ntmp_dir = tempfile.mkdtemp()\n\n# Copy data files to tmp directory\nshutil.copy(\n    os.path.join(data_path, f'{data_base}.mat'), \n    os.path.join(tmp_dir, f'{data_base}.mat')\n)\nshutil.copy(\n    os.path.join(data_path, f'{data_base}.dat'), \n    os.path.join(tmp_dir, f'{data_base}.dat')\n)\n\n# Construct base file name for simulations\nbase_fname = os.path.join(tmp_dir, f'{data_base}.mat')"
      ]
    },
    {
      "cell_type": "markdown",
      "metadata": {},
      "source": [
        "Invert the subject's data using the multilayer mesh. This step only has to be done once - this is just to compute the forward model that will be used in the simulations\n\n"
      ]
    },
    {
      "cell_type": "code",
      "execution_count": null,
      "metadata": {
        "collapsed": false
      },
      "outputs": [],
      "source": [
        "# Patch size to use for inversion (in this case it matches the simulated patch size)\npatch_size = 5\n# Number of temporal modes to use for EBB inversion\nn_temp_modes = 4\n\n# Coregister data to multilayer mesh\ncoregister(\n    nas, \n    lpa, \n    rpa, \n    mri_fname, \n    multilayer_mesh_fname, \n    base_fname,\n    spm_instance=spm\n)\n\n# Run inversion\n[_,_] = invert_ebb(\n    multilayer_mesh_fname, \n    base_fname, \n    n_layers, \n    patch_size=patch_size, \n    n_temp_modes=n_temp_modes,\n    spm_instance=spm\n)"
      ]
    },
    {
      "cell_type": "markdown",
      "metadata": {},
      "source": [
        "## Simulating a signal on the pial surface\nWe're going to simulate 1s of a 20Hz sine wave with a dipole moment of 10nAm\n\n"
      ]
    },
    {
      "cell_type": "code",
      "execution_count": null,
      "metadata": {
        "collapsed": false
      },
      "outputs": [],
      "source": [
        "# Frequency of simulated sinusoid (Hz)\nfreq = 20\n# Strength of simulated activity (nAm)\ndipole_moment = 10\n# Sampling rate (must match the data file)\ns_rate = 600\n\n# Generate 1s of a sine wave at a sampling rate of 600Hz (to match the data file)\ntime = np.linspace(0,1,s_rate+1)\nsim_signal = np.sin(time*freq*2*np.pi).reshape(1,-1)\n\nplt.plot(time,dipole_moment*sim_signal[0,:])\nplt.xlabel('Time (s)')\nplt.ylabel('Amplitude (nAm)')"
      ]
    },
    {
      "cell_type": "markdown",
      "metadata": {},
      "source": [
        "<img src=\"file://../_static/tutorial_03_sim_signal.png\" width=\"800\"\n   :alt:>\n\n"
      ]
    },
    {
      "cell_type": "markdown",
      "metadata": {},
      "source": [
        "We need to pick a location (mesh vertex) to simulate at\n\n"
      ]
    },
    {
      "cell_type": "code",
      "execution_count": null,
      "metadata": {
        "collapsed": false
      },
      "outputs": [],
      "source": [
        "# Vertex to simulate activity at\nsim_vertex=24585\n\npial_ds_mesh_fname = os.path.join('../test_data', subj_id, 'surf', 'pial.ds.link_vector.fixed.gii')\npial_ds_mesh = nib.load(pial_ds_mesh_fname)\npial_coord = pial_ds_mesh.darrays[0].data[sim_vertex,:]\npial_mesh_fname = os.path.join('../test_data', subj_id, 'surf', 'pial.gii')\npial_mesh = nib.load(pial_mesh_fname)\ncam_view = [152, 28, 15,\n            3.5, 26, 38.5,\n            0, 0, 1]\nplot = show_surface(\n    pial_mesh, \n    opacity=1, \n    coords=pial_coord,\n    coord_size=2,\n    camera_view=cam_view\n)"
      ]
    },
    {
      "cell_type": "markdown",
      "metadata": {},
      "source": [
        "<img src=\"file://../_static/tutorial_03_sim_location.png\" width=\"800\"\n   :alt:>\n\n"
      ]
    },
    {
      "cell_type": "markdown",
      "metadata": {},
      "source": [
        "We'll simulate a 5mm patch of activity with -5 dB SNR at the sensor level. The desired level of SNR is achieved by adding white noise to the projected sensor signals\n\n"
      ]
    },
    {
      "cell_type": "markdown",
      "metadata": {},
      "source": [
        "Simulate at a vertex on the pial surface\n\n"
      ]
    },
    {
      "cell_type": "code",
      "execution_count": null,
      "metadata": {
        "collapsed": false
      },
      "outputs": [],
      "source": [
        "pial_vertex = sim_vertex\nprefix = f'sim_{sim_vertex}_pial_'\n\n# Size of simulated patch of activity (mm)\nsim_patch_size = 5\n# SNR of simulated data (dB)\nSNR = -5\n\n# Generate simulated data\npial_sim_fname = run_current_density_simulation(\n    base_fname, \n    prefix, \n    pial_vertex, \n    sim_signal, \n    dipole_moment, \n    sim_patch_size, \n    SNR,\n    spm_instance=spm\n)"
      ]
    },
    {
      "cell_type": "markdown",
      "metadata": {},
      "source": [
        "## Model comparison (pial - white matter)\nNow we can run model comparison between source models based on the pial and white matter surfaces using cross-validation error. For computing cross-validation error, we'll run 10 folds, leaving out 10% of the channels in each fold. We'll then look at the difference in cross-validation error between the two models (pial - white matter). This should be lower for the pial surface model because we simulated activity on the pial surface\n\n"
      ]
    },
    {
      "cell_type": "code",
      "execution_count": null,
      "metadata": {
        "collapsed": false
      },
      "outputs": [],
      "source": [
        "# Number of cross validation folds\nn_folds = 10\n# Percentage of test channels in cross validation\nideal_pc_test = 10 # may not use this number as we need integer number of channels\n\n# Run model comparison between the first layer (pial) and the last layer (white matter)\n[_,cvErr] = model_comparison(\n    nas, \n    lpa, \n    rpa, \n    mri_fname, \n    [layer_fnames[0], layer_fnames[-1]], \n    pial_sim_fname, \n    spm_instance=spm,\n    invert_kwargs={\n        'patch_size': patch_size, \n        'n_temp_modes': n_temp_modes, \n        'n_folds': n_folds, \n        'ideal_pc_test': ideal_pc_test    \n    }\n)\n    \n# The difference in cross validation error after averaging over test channels and folds\n# This value should be negative (less error for the pial layer model)\nnp.mean(np.mean(cvErr[0],axis=-1),axis=-1)-np.mean(np.mean(cvErr[1],axis=-1),axis=-1)"
      ]
    },
    {
      "cell_type": "markdown",
      "metadata": {},
      "source": [
        "## White matter surface simulation with pial - white matter model comparison\nLet's simulate the same pattern of activity, in the same location, but on the white matter surface. This time, model comparison should yield lower cross-validation error for the white matter surface.\n\n"
      ]
    },
    {
      "cell_type": "code",
      "execution_count": null,
      "metadata": {
        "collapsed": false
      },
      "outputs": [],
      "source": [
        "# Simulate at the corresponding vertex on the white matter surface\nwhite_vertex = (n_layers-1)*verts_per_surf+sim_vertex\nprefix = f'sim_{sim_vertex}_white_'\n\n# Generate simulated data\nwhite_sim_fname = run_current_density_simulation(\n    base_fname, \n    prefix, \n    white_vertex, \n    sim_signal, \n    dipole_moment, \n    sim_patch_size, \n    SNR,\n    spm_instance=spm\n) \n\n# Run model comparison between the first layer (pial) and the last layer (white matter)\n[_,cvErr] = model_comparison(\n    nas, \n    lpa, \n    rpa, \n    mri_fname, \n    [layer_fnames[0], layer_fnames[-1]], \n    white_sim_fname, \n    spm_instance=spm,\n    invert_kwargs={\n        'patch_size': patch_size, \n        'n_temp_modes': n_temp_modes, \n        'n_folds': n_folds, \n        'ideal_pc_test': ideal_pc_test    \n    }\n)\n\n# The difference in cross validation error after averaging over test channels and folds\n# This value should be positive (less error for the white matter layer model)\nnp.mean(np.mean(cvErr[0],axis=-1),axis=-1)-np.mean(np.mean(cvErr[1],axis=-1),axis=-1)"
      ]
    },
    {
      "cell_type": "markdown",
      "metadata": {},
      "source": [
        "## Simulation in each layer with model comparison across layers\nThat was model comparison with two candidate models: one based on the white matter surface, and one on the pial. Let's now simulate on each layer, and for each simulation, run model comparison across all layers. We'll turn off SPM visualization here.\n\n"
      ]
    },
    {
      "cell_type": "code",
      "execution_count": null,
      "metadata": {
        "collapsed": false
      },
      "outputs": [],
      "source": [
        "# Now simulate at the corresponding vertex on each layer, and for each simulation, run model comparison across\n# all layers\nall_layerCvErr = []\n\nfor l in range(n_layers):\n    print(f'Simulating in layer {l}')\n    l_vertex = l*verts_per_surf+sim_vertex\n    prefix = f'sim_{sim_vertex}_{l}_'\n\n    l_sim_fname = run_current_density_simulation(\n        base_fname, \n        prefix, \n        l_vertex, \n        sim_signal, \n        dipole_moment, \n        sim_patch_size, \n        SNR,\n        spm_instance=spm\n    ) \n\n    [_,layerCvErr] = model_comparison(\n        nas, \n        lpa, \n        rpa, \n        mri_fname, \n        layer_fnames, \n        l_sim_fname, \n        viz=False,\n        spm_instance=spm,\n        invert_kwargs={\n            'patch_size': patch_size, \n            'n_temp_modes': n_temp_modes, \n            'n_folds': n_folds, \n            'ideal_pc_test': ideal_pc_test    \n        }\n    )\n    all_layerCvErr.append(layerCvErr)    \nall_layerCvErr = np.array(all_layerCvErr)\n\n# Average over test channels and folds\nall_layerCvErr = np.mean(np.mean(all_layerCvErr, axis=-1), axis=-1)"
      ]
    },
    {
      "cell_type": "markdown",
      "metadata": {},
      "source": [
        "For each simulation, we can plot the cross-validation error for all models relative to the worst model. The layer model with the lowest cross-validation error should correspond to the layer that the activity was simulated in.\n\n"
      ]
    },
    {
      "cell_type": "code",
      "execution_count": null,
      "metadata": {
        "collapsed": false
      },
      "outputs": [],
      "source": [
        "col_r = plt.cm.cool(np.linspace(0,1, num=n_layers))\nplt.figure(figsize=(10,4))\n\n# For each simulation, plot the CV error of each layer model relative to that of the worst\n# model for that simulation\nplt.subplot(1,2,1)\nfor l in range(n_layers):\n    layerCvErr=all_layerCvErr[l,:]\n    plt.plot(layerCvErr, label=f'{l}', color=col_r[l,:])\nplt.legend()\nplt.xlabel('Eval layer')\nplt.ylabel('CVErr')\n\n# For each simulation, find which layer model had the lowest CV error\nplt.subplot(1,2,2)\npeaks=[]\nfor l in range(n_layers):\n    layerCvErr=all_layerCvErr[l,:]\n    pk=np.argmin(layerCvErr)\n    peaks.append(pk)\nplt.plot(peaks)\nplt.xlim([-0.5,10.5])\nplt.ylim([-0.5,10.5])\nplt.plot([0,10],[0,10],'k--')\nplt.xlabel('Sim layer')\nplt.ylabel('Min CVErr')\nplt.tight_layout()"
      ]
    },
    {
      "cell_type": "markdown",
      "metadata": {},
      "source": [
        "<img src=\"file://../_static/tutorial_03_results.png\" width=\"800\"\n   :alt:>\n\n"
      ]
    },
    {
      "cell_type": "code",
      "execution_count": null,
      "metadata": {
        "collapsed": false
      },
      "outputs": [],
      "source": [
        "# Transpose for visualization\nim=plt.imshow(all_layerCvErr.T, cmap='Spectral_r')\n\n# Find the indices of the min value in each column\nmin_indices = np.argmin(all_layerCvErr, axis=1)\n\n# Plot an 'X' at the center of the square for each column's minimum\nfor idx, min_idx in enumerate(min_indices):\n    plt.text(idx, min_idx, 'X', fontsize=12, ha='center', va='center', color='black', weight='bold')\n\nplt.xlabel('Simulated layer', fontsize=14)\nplt.ylabel('Evaluated layer', fontsize=14)\ncb=plt.colorbar(im)\ncb.set_label('CVerr', fontsize=14)"
      ]
    },
    {
      "cell_type": "markdown",
      "metadata": {},
      "source": [
        "<img src=\"file://../_static/tutorial_03_results_matrix.png\" width=\"800\"\n   :alt:>\n\n"
      ]
    },
    {
      "cell_type": "code",
      "execution_count": null,
      "metadata": {
        "collapsed": false
      },
      "outputs": [],
      "source": [
        "spm.terminate()\n\n# Delete simulation files\nshutil.rmtree(tmp_dir)"
      ]
    }
  ],
  "metadata": {
    "kernelspec": {
      "display_name": "Python 3",
      "language": "python",
      "name": "python3"
    },
    "language_info": {
      "codemirror_mode": {
        "name": "ipython",
        "version": 3
      },
      "file_extension": ".py",
      "mimetype": "text/x-python",
      "name": "python",
      "nbconvert_exporter": "python",
      "pygments_lexer": "ipython3",
      "version": "3.7.16"
    }
  },
  "nbformat": 4,
  "nbformat_minor": 0
}