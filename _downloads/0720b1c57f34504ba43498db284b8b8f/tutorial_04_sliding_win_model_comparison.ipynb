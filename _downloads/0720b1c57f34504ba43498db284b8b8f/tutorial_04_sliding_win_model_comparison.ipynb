{
  "cells": [
    {
      "cell_type": "code",
      "execution_count": null,
      "metadata": {
        "collapsed": false
      },
      "outputs": [],
      "source": [
        "%matplotlib inline"
      ]
    },
    {
      "cell_type": "markdown",
      "metadata": {},
      "source": [
        "Sliding time window laminar model comparison using free energy\n"
      ]
    },
    {
      "cell_type": "markdown",
      "metadata": {},
      "source": [
        "This tutorial demonstrates how to perform laminar inference of event-related responses in a sliding time window using model comparison based on free energy as a metric of model fit, described in [Bonaiuto et al., 2021, Laminar dynamics of high amplitude beta bursts in human motor cortex](https://doi.org/10.1016/j.neuroimage.2021.118479). A temporal Gaussian function is simulated at a particular cortical location in various layers. Source reconstruction is performed on the whole time window using the Empirical Bayesian Beamformer on the simulated sensor data using a forward model based on the multilayer mesh as a localizer. This is used to select priors on each layer mesh for a sliding time window model comparison using free energy.\n\n## Setting up the simulations\n\nSimulations are based on an existing dataset, which is used to define the sampling rate, number of trials, duration of each trial, and the channel layout.\n\n"
      ]
    },
    {
      "cell_type": "code",
      "execution_count": null,
      "metadata": {
        "collapsed": false
      },
      "outputs": [],
      "source": [
        "import os\nimport shutil\nimport numpy as np\nimport nibabel as nib\nfrom matplotlib import colors\nimport matplotlib.pyplot as plt\nimport tempfile\n\nfrom lameg.invert import coregister, invert_ebb, load_source_time_series\nfrom lameg.laminar import sliding_window_model_comparison\nfrom lameg.simulate import run_dipole_simulation\nfrom lameg.surf import interpolate_data\nfrom lameg.util import get_surface_names\nfrom lameg.viz import show_surface, color_map\nimport spm_standalone\n\n# Subject information for data to base the simulations on\nsubj_id = 'sub-104'\nses_id = 'ses-01'\n\n# Fiducial coil coordinates\nnas = [0.9662503311032098, 108.83514306876269, 1.6712361927090313]\nlpa = [-74.28671169006893, 20.15061014698176, -29.849056272705948]\nrpa = [76.02110531729883, 18.9467849625573, -25.779407159603114]\n\n# Data file to base simulations on\ndata_file = os.path.join(\n    '../test_data', \n    subj_id, \n    'meg',\n    ses_id, \n    'spm/pspm-converted_autoreject-sub-104-ses-01-001-btn_trial-epo.mat'\n)\n\nspm = spm_standalone.initialize()"
      ]
    },
    {
      "cell_type": "markdown",
      "metadata": {},
      "source": [
        "For source reconstructions, we need an MRI and a surface mesh. The simulations will be based on a forward model using the multilayer mesh, and the model comparison will use each layer mesh\n\n"
      ]
    },
    {
      "cell_type": "markdown",
      "metadata": {},
      "source": [
        "Native space MRI to use for coregistration\n\n"
      ]
    },
    {
      "cell_type": "code",
      "execution_count": null,
      "metadata": {
        "collapsed": false
      },
      "outputs": [],
      "source": [
        "mri_fname = os.path.join('../test_data', subj_id, 'mri/s2023-02-28_13-33-133958-00001-00224-1.nii' )\n\n# Mesh to use for forward model in the simulations\nmultilayer_mesh_fname = os.path.join('../test_data', subj_id, 'surf/multilayer.11.ds.link_vector.fixed.gii')\n\n# Load multilayer mesh and compute the number of vertices per layer\nmesh = nib.load(multilayer_mesh_fname)\nn_layers = 11\nverts_per_surf = int(mesh.darrays[0].data.shape[0]/n_layers)\n\n# Get name of each mesh that makes up the layers of the multilayer mesh - these will be used for the source \n# reconstruction\nlayer_fnames = get_surface_names(\n    n_layers, \n    os.path.join('../test_data', subj_id, 'surf'), \n    'link_vector.fixed'\n)\n\n# Inflated meshes for plotting\nds_inflated = nib.load(os.path.join('../test_data', subj_id, 'surf', 'inflated.ds.gii'))\norig_inflated = nib.load(os.path.join('../test_data', subj_id, 'surf', 'inflated.gii'))"
      ]
    },
    {
      "cell_type": "markdown",
      "metadata": {},
      "source": [
        "We're going to copy the data file to a temporary directory and direct all output there.\n\n"
      ]
    },
    {
      "cell_type": "markdown",
      "metadata": {},
      "source": [
        "Extract base name and path of data file\n\n"
      ]
    },
    {
      "cell_type": "code",
      "execution_count": null,
      "metadata": {
        "collapsed": false
      },
      "outputs": [],
      "source": [
        "data_path, data_file_name = os.path.split(data_file)\ndata_base = os.path.splitext(data_file_name)[0]\n\n# Where to put simulated data\ntmp_dir = tempfile.mkdtemp()\n\n# Copy data files to tmp directory\nshutil.copy(\n    os.path.join(data_path, f'{data_base}.mat'), \n    os.path.join(tmp_dir, f'{data_base}.mat')\n)\nshutil.copy(\n    os.path.join(data_path, f'{data_base}.dat'), \n    os.path.join(tmp_dir, f'{data_base}.dat')\n)\n\n# Construct base file name for simulations\nbase_fname = os.path.join(tmp_dir, f'{data_base}.mat')"
      ]
    },
    {
      "cell_type": "markdown",
      "metadata": {},
      "source": [
        "Invert the subject's data using the multilayer mesh. This step only has to be done once - this is just to compute the forward model that will be used in the simulations\n\n"
      ]
    },
    {
      "cell_type": "markdown",
      "metadata": {},
      "source": [
        "Patch size to use for inversion (in this case it matches the simulated patch size)\n\n"
      ]
    },
    {
      "cell_type": "code",
      "execution_count": null,
      "metadata": {
        "collapsed": false
      },
      "outputs": [],
      "source": [
        "patch_size = 5\n# Number of temporal modes to use for EBB inversion\nn_temp_modes = 4\n\n# Coregister data to multilayer mesh\ncoregister(\n    nas, \n    lpa, \n    rpa, \n    mri_fname, \n    multilayer_mesh_fname, \n    base_fname,\n    spm_instance=spm\n)\n\n# Run inversion\n[_,_] = invert_ebb(\n    multilayer_mesh_fname, \n    base_fname, \n    n_layers, \n    patch_size=patch_size, \n    n_temp_modes=n_temp_modes,\n    spm_instance=spm\n)"
      ]
    },
    {
      "cell_type": "markdown",
      "metadata": {},
      "source": [
        "## Simulating a signal on the pial surface\nWe're going to simulate 200ms of a Gaussian with a dipole moment of 5nAm and a width of 25ms\n\n"
      ]
    },
    {
      "cell_type": "markdown",
      "metadata": {},
      "source": [
        "Strength of simulated activity (nAm)\n\n"
      ]
    },
    {
      "cell_type": "code",
      "execution_count": null,
      "metadata": {
        "collapsed": false
      },
      "outputs": [],
      "source": [
        "dipole_moment = 8\n# Temporal width of the simulated Gaussian\nsignal_width=.025 # 25ms\n# Sampling rate (must match the data file)\ns_rate = 600\n\n# Generate 200ms of a Gaussian at a sampling rate of 600Hz (to match the data file)\ntime=np.linspace(0,.2,121)\nzero_time=time[int((len(time)-1)/2+1)]\nsim_signal=np.exp(-((time-zero_time)**2)/(2*signal_width**2)).reshape(1,-1)\nplt.plot(time,dipole_moment*sim_signal[0,:])\nplt.xlabel('Time (s)')\nplt.ylabel('Amplitude (nAm)')"
      ]
    },
    {
      "cell_type": "markdown",
      "metadata": {},
      "source": [
        "We need to pick a location (mesh vertex) to simulate at\n\n"
      ]
    },
    {
      "cell_type": "markdown",
      "metadata": {},
      "source": [
        "Vertex to simulate activity at\n\n"
      ]
    },
    {
      "cell_type": "code",
      "execution_count": null,
      "metadata": {
        "collapsed": false
      },
      "outputs": [],
      "source": [
        "sim_vertex=24585\n\npial_ds_mesh_fname = os.path.join('../test_data', subj_id, 'surf', 'pial.ds.link_vector.fixed.gii')\npial_ds_mesh = nib.load(pial_ds_mesh_fname)\npial_coord = pial_ds_mesh.darrays[0].data[sim_vertex,:]\npial_mesh_fname = os.path.join('../test_data', subj_id, 'surf', 'pial.gii')\npial_mesh = nib.load(pial_mesh_fname)\ncam_view = [152, 28, 15,\n            3.5, 26, 38.5,\n            0, 0, 1]\nplot = show_surface(\n    pial_mesh, \n    opacity=1, \n    coords=pial_coord,\n    coord_size=2,\n    camera_view=cam_view\n)"
      ]
    },
    {
      "cell_type": "markdown",
      "metadata": {},
      "source": [
        "We'll simulate a 5mm patch of activity with -5 dB SNR at the sensor level. The desired level of SNR is achieved by adding white noise to the projected sensor signals\n\n"
      ]
    },
    {
      "cell_type": "markdown",
      "metadata": {},
      "source": [
        "Simulate at a vertex on the pial surface\n\n"
      ]
    },
    {
      "cell_type": "code",
      "execution_count": null,
      "metadata": {
        "collapsed": false
      },
      "outputs": [],
      "source": [
        "pial_vertex = sim_vertex\n# Orientation of the simulated dipole\npial_unit_norm = mesh.darrays[2].data[pial_vertex,:]\nprefix = f'sim_{sim_vertex}_pial_'\n\n# Size of simulated patch of activity (mm)\nsim_patch_size = 5\n# SNR of simulated data (dB)\nSNR = -10\n\n# Generate simulated data\npial_sim_fname = run_dipole_simulation(\n    base_fname, \n    prefix, \n    pial_vertex, \n    sim_signal, \n    pial_unit_norm, \n    dipole_moment, \n    sim_patch_size, \n    SNR,\n    spm_instance=spm\n)"
      ]
    },
    {
      "cell_type": "markdown",
      "metadata": {},
      "source": [
        "## Localizer inversion\nNow we'll run a source reconstruction using the multilayer mesh, extract the signal in the pial layer, and select a prior based on the peak.\n\n"
      ]
    },
    {
      "cell_type": "code",
      "execution_count": null,
      "metadata": {
        "collapsed": false
      },
      "outputs": [],
      "source": [
        "[_,_,MU] = invert_ebb(\n    multilayer_mesh_fname, \n    pial_sim_fname, \n    n_layers, \n    patch_size=patch_size, \n    n_temp_modes=n_temp_modes,\n    return_mu_matrix=True,\n    spm_instance=spm\n)\n\nlayer_vertices = np.arange(verts_per_surf)\nlayer_ts, time, ch_names = load_source_time_series(\n    pial_sim_fname, \n    mu_matrix=MU, \n    vertices=layer_vertices\n)\n\n# Layer peak\nm_layer_max = np.max(np.mean(layer_ts,axis=-1),-1)\nprior = np.argmax(m_layer_max)\n\nsim_coord = ds_inflated.darrays[0].data[sim_vertex,:]\nprior_coord = ds_inflated.darrays[0].data[prior,:]\n\nprint(f'Simulated vertex={sim_vertex}, Prior vertex={prior}')\nprint('Simulated coordinate')\nprint(sim_coord)\nprint('Prior coordinate')\nprint(prior_coord)"
      ]
    },
    {
      "cell_type": "markdown",
      "metadata": {},
      "source": [
        "We can see that the prior is the same as the location we simulated at\n\n"
      ]
    },
    {
      "cell_type": "markdown",
      "metadata": {},
      "source": [
        "Interpolate for display on the original inflated surface\n\n"
      ]
    },
    {
      "cell_type": "code",
      "execution_count": null,
      "metadata": {
        "collapsed": false
      },
      "outputs": [],
      "source": [
        "interpolated_data = interpolate_data(orig_inflated, ds_inflated, m_layer_max)\n          \n# Plot colors and camera view\nmax_abs = np.max(np.abs(m_layer_max))\nc_range = [-max_abs, max_abs]\ncam_view=[289, 32, -19,\n          3.5, 29, 26,\n          0, 0, 1]\n\n# Plot peak\ncolors,_ = color_map(\n    interpolated_data, \n    \"RdYlBu_r\", \n    c_range[0], \n    c_range[1]    \n)\n\nplot = show_surface(\n    orig_inflated, \n    vertex_colors=colors, \n    info=True, \n    camera_view=cam_view, \n    coords=prior_coord, \n    coord_size=2, \n    coord_color=[0,0,255]\n)"
      ]
    },
    {
      "cell_type": "markdown",
      "metadata": {},
      "source": [
        "## Sliding time window model comparison (pial - white matter)\nNow we can run sliding time window model comparison between source models based on the pial and white matter surfaces using free energy. Specifically, we'll look at the difference in free energy between the two models (pial - white matter), in sliding and overlapping windows of 16ms. The free energy difference (pial - white matter) should be positive (more model evidence for the pial surface model) because we simulated activity on the pial surface.\n\n"
      ]
    },
    {
      "cell_type": "markdown",
      "metadata": {},
      "source": [
        "Number of temporal models for sliding time window inversion\n\n"
      ]
    },
    {
      "cell_type": "code",
      "execution_count": null,
      "metadata": {
        "collapsed": false
      },
      "outputs": [],
      "source": [
        "sliding_n_temp_modes = 4\n# Size of sliding window (in ms)\nwin_size = 50\n# Whether or not windows overlap\nwin_overlap = True\n\n# Run sliding time window model comparison between the first layer (pial) and the last layer (white matter)\n[Fs,wois] = sliding_window_model_comparison(\n    prior, \n    nas, \n    lpa, \n    rpa, \n    mri_fname, \n    [layer_fnames[0], layer_fnames[-1]], \n    pial_sim_fname,     \n    spm_instance=spm,\n    invert_kwargs={\n        'patch_size': patch_size, \n        'n_temp_modes': sliding_n_temp_modes,\n        'win_size': win_size, \n        'win_overlap': win_overlap,\n    }\n)\n\n# Plot difference in free energy over time (pial minus white) - this should be positive\nplt.plot(np.mean(wois,axis=-1), Fs[0,:]-Fs[1,:])\nplt.xlabel('Time (ms)')\nplt.ylabel(r'$\\Delta$F')"
      ]
    },
    {
      "cell_type": "markdown",
      "metadata": {},
      "source": [
        "## White matter surface simulation with pial - white matter sliding time window model comparison\nLet's simulate the same pattern of activity, in the same location, but on the white matter surface. This time, sliding time window model comparison should yield greater model evidence for the white matter surface, and therefore the difference in free energy (pial - white matter) should be negative.\n\n"
      ]
    },
    {
      "cell_type": "markdown",
      "metadata": {},
      "source": [
        "Simulate at the corresponding vertex on the white matter surface\n\n"
      ]
    },
    {
      "cell_type": "code",
      "execution_count": null,
      "metadata": {
        "collapsed": false
      },
      "outputs": [],
      "source": [
        "white_vertex = (n_layers-1)*verts_per_surf+sim_vertex\nprefix = f'sim_{sim_vertex}_white_'\n\n# Generate simulated data\nwhite_sim_fname = run_dipole_simulation(\n    base_fname, \n    prefix, \n    white_vertex, \n    sim_signal, \n    pial_unit_norm, \n    dipole_moment, \n    sim_patch_size, \n    SNR,\n    spm_instance=spm\n) \n\n# Localizer\n[_,_,MU] = invert_ebb(\n    multilayer_mesh_fname, \n    white_sim_fname, \n    n_layers, \n    patch_size=patch_size, \n    n_temp_modes=n_temp_modes,\n    return_mu_matrix=True,\n    spm_instance=spm\n)\n\nlayer_vertices = np.arange(verts_per_surf)\nlayer_ts, time, _ = load_source_time_series(\n    white_sim_fname, \n    mu_matrix=MU, \n    vertices=layer_vertices\n)\n\n# Layer peak\nm_layer_max = np.max(np.mean(layer_ts,axis=-1),-1)\nprior = np.argmax(m_layer_max)\nprior_coord = ds_inflated.darrays[0].data[prior,:]\n\nprint(f'Simulated vertex={sim_vertex}, Prior vertex={prior}')\nprint('Simulated coordinate')\nprint(sim_coord)\nprint('Prior coordinate')\nprint(prior_coord)\n\n# Run sliding time window model comparison between the first layer (pial) and the last layer (white matter)\n[Fs,wois] = sliding_window_model_comparison(\n    prior, \n    nas, \n    lpa, \n    rpa, \n    mri_fname, \n    [layer_fnames[0], layer_fnames[-1]], \n    white_sim_fname, \n    spm_instance=spm,\n    invert_kwargs={\n        'patch_size': patch_size, \n        'n_temp_modes': sliding_n_temp_modes,\n        'win_size': win_size, \n        'win_overlap': win_overlap,\n    }\n)\n\n# Plot difference in free energy over time (pial minus white) - this should be negative\nplt.plot(np.mean(wois,axis=-1), Fs[0,:]-Fs[1,:])\nplt.xlabel('Time (ms)')\nplt.ylabel(r'$\\Delta$F')"
      ]
    },
    {
      "cell_type": "markdown",
      "metadata": {},
      "source": [
        "## Simulation in each layer with sliding time window model comparison across layers\nThat was sliding time window model comparison with two candidate models: one based on the white matter surface, and one on the pial. Let's now simulate on each layer, and for each simulation, run sliding time window model comparison across all layers. We'll turn off SPM visualization here.\n\n"
      ]
    },
    {
      "cell_type": "markdown",
      "metadata": {},
      "source": [
        "Now simulate at the corresponding vertex on each layer, and for each simulation, run sliding window model \ncomparison across all layers\n\n"
      ]
    },
    {
      "cell_type": "code",
      "execution_count": null,
      "metadata": {
        "collapsed": false
      },
      "outputs": [],
      "source": [
        "all_layerF = []\nfor l in range(n_layers):\n    print(f'Simulating in layer {l}')\n    l_vertex = l*verts_per_surf+sim_vertex\n    prefix = f'sim_{sim_vertex}{l}_'\n    \n    l_sim_fname = run_dipole_simulation(\n        base_fname, \n        prefix, \n        l_vertex, \n        sim_signal, \n        pial_unit_norm, \n        dipole_moment, \n        sim_patch_size, \n        SNR, \n        spm_instance=spm\n    ) \n    \n    # Localizer\n    [_,_,MU] = invert_ebb(\n        multilayer_mesh_fname, \n        l_sim_fname, \n        n_layers, \n        patch_size=patch_size, \n        n_temp_modes=n_temp_modes,\n        return_mu_matrix=True,\n        viz=False,\n        spm_instance=spm\n    )\n\n    layer_vertices = np.arange(verts_per_surf)\n    layer_ts, time, _ = load_source_time_series(\n        l_sim_fname, \n        mu_matrix=MU, \n        vertices=layer_vertices\n    )\n\n    # Layer peak\n    m_layer_max = np.max(np.mean(layer_ts,axis=-1),-1)\n    prior = np.argmax(m_layer_max)    \n    prior_coord = ds_inflated.darrays[0].data[prior,:]\n\n    print(f'Simulated vertex={sim_vertex}, Prior vertex={prior}')\n    print('Simulated coordinate')\n    print(sim_coord)\n    print('Prior coordinate')\n    print(prior_coord)\n\n    [Fs,wois] = sliding_window_model_comparison(\n        prior, \n        nas, \n        lpa, \n        rpa, \n        mri_fname, \n        layer_fnames, \n        l_sim_fname, \n        viz=False,\n        spm_instance=spm,\n        invert_kwargs={\n            'patch_size': patch_size, \n            'n_temp_modes': sliding_n_temp_modes,\n            'win_size': win_size, \n            'win_overlap': win_overlap,\n        }\n    )\n    \n    all_layerF.append(Fs)\nall_layerF = np.squeeze(np.array(all_layerF))"
      ]
    },
    {
      "cell_type": "markdown",
      "metadata": {},
      "source": [
        "For each simulation, we can plot the free energy for all models relative to the worst model within a central time window. The layer model with the highest free energy should correspond to the layer that the activity was simulated in.\n\n"
      ]
    },
    {
      "cell_type": "markdown",
      "metadata": {},
      "source": [
        "Average free energy within small time window in center of the epoch\n\n"
      ]
    },
    {
      "cell_type": "code",
      "execution_count": null,
      "metadata": {
        "collapsed": false
      },
      "outputs": [],
      "source": [
        "woi_t = np.mean(wois,axis=-1)\nwoi_idx = np.where((woi_t>=-20) & (woi_t<=20))[0]\nm_all_layerF = np.mean(all_layerF[:,:,woi_idx],axis=2)\n\ncol_r = plt.cm.cool(np.linspace(0,1, num=n_layers))\nplt.figure(figsize=(10,4))\n\n# For each simulation, plot the mean free energy of each layer model relative to that of the worst\n# model for that simulation\nplt.subplot(1,2,1)\nfor l in range(n_layers):\n    layerF = m_all_layerF[l,:]\n    plt.plot(layerF-np.min(layerF), label=f'{l}', color=col_r[l,:])\nplt.legend()\nplt.xlabel('Eval layer')\nplt.ylabel(r'$\\Delta$F')\n\n# For each simulation, find which layer model had the greatest free energy\nplt.subplot(1,2,2)\npeaks=[]\nfor l in range(n_layers):\n    layerF = m_all_layerF[l,:]\n    layerF = layerF-np.min(layerF)\n    pk = np.argmax(layerF)\n    peaks.append(pk)\nplt.plot(peaks)\nplt.xlim([-0.5,10.5])\nplt.ylim([-0.5,10.5])\nplt.plot([0,10],[0,10],'k--')\nplt.xlabel('Sim layer')\nplt.ylabel(r'Peak $\\Delta$F')\nplt.tight_layout()"
      ]
    },
    {
      "cell_type": "markdown",
      "metadata": {},
      "source": [
        "Normalization step\n\n"
      ]
    },
    {
      "cell_type": "code",
      "execution_count": null,
      "metadata": {
        "collapsed": false
      },
      "outputs": [],
      "source": [
        "norm_layerF = np.zeros(m_all_layerF.shape)\nfor l in range(n_layers):\n    norm_layerF[l,:] = m_all_layerF[l,:] - np.min(m_all_layerF[l,:])\n\n# Transpose for visualization\nim=plt.imshow(norm_layerF.T, cmap='Spectral_r')\n\n# Find the indices of the max value in each column\nmax_indices = np.argmax(norm_layerF, axis=1)\n\n# Plot an 'X' at the center of the square for each column's maximum\nfor idx, max_idx in enumerate(max_indices):\n    plt.text(idx, max_idx, 'X', fontsize=12, ha='center', va='center', color='black', weight='bold')\n\nplt.xlabel('Simulated layer', fontsize=14)\nplt.ylabel('Evaluated layer', fontsize=14)\ncb=plt.colorbar(im)\ncb.set_label(r'$\\Delta F$', fontsize=14)"
      ]
    },
    {
      "cell_type": "code",
      "execution_count": null,
      "metadata": {
        "collapsed": false
      },
      "outputs": [],
      "source": [
        "spm.terminate()\n\n# Delete simulation files\nshutil.rmtree(tmp_dir)"
      ]
    }
  ],
  "metadata": {
    "kernelspec": {
      "display_name": "Python 3",
      "language": "python",
      "name": "python3"
    },
    "language_info": {
      "codemirror_mode": {
        "name": "ipython",
        "version": 3
      },
      "file_extension": ".py",
      "mimetype": "text/x-python",
      "name": "python",
      "nbconvert_exporter": "python",
      "pygments_lexer": "ipython3",
      "version": "3.7.16"
    }
  },
  "nbformat": 4,
  "nbformat_minor": 0
}