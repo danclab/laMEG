{
  "cells": [
    {
      "cell_type": "code",
      "execution_count": null,
      "metadata": {
        "collapsed": false
      },
      "outputs": [],
      "source": [
        "%matplotlib inline"
      ]
    },
    {
      "cell_type": "markdown",
      "metadata": {},
      "source": [
        "\n# Laminar model comparison using free energy\n\nThis tutorial demonstrates how to perform laminar \ninference using model comparison based on free energy \nas a metric of model fit, described in \n[Bonaiuto et al., 2018, Non-invasive laminar inference with MEG: Comparison of methods and source inversion algorithms](https://doi.org/10.1016/j.neuroimage.2017.11.068).\nA 20Hz oscillation is simulated at a particular cortical \nlocation in various layers. Source reconstruction is performed \nusing the Empirical Bayesian Beamformer on the simulated \nsensor data using forward models based on different layer \nmeshes. These models are then compared using free energy.\n"
      ]
    },
    {
      "cell_type": "markdown",
      "metadata": {},
      "source": [
        "## Setting up the simulations\n\nSimulations are based on an existing dataset, which is used to define the sampling rate, number of trials, duration of each trial, and the channel layout.\n\n"
      ]
    },
    {
      "cell_type": "code",
      "execution_count": null,
      "metadata": {
        "collapsed": false
      },
      "outputs": [],
      "source": [
        "import os\nimport shutil\nimport numpy as np\nimport matplotlib.pyplot as plt\nimport tempfile\n\nfrom lameg.invert import coregister, invert_ebb\nfrom lameg.simulate import run_current_density_simulation\nfrom lameg.laminar import model_comparison\nfrom lameg.surf import LayerSurfaceSet\nfrom lameg.util import load_meg_sensor_data, get_fiducial_coords\nfrom lameg.viz import show_surface\nimport spm_standalone\n\n# Subject information for data to base the simulations on\nsubj_id = 'sub-104'\nses_id = 'ses-01'\n\n# Fiducial coil coordinates\nfid_coords = get_fiducial_coords(subj_id, '../test_data/participants.tsv')\n\n# Data file to base simulations on\ndata_file = os.path.join(\n    '../test_data',\n    subj_id,\n    'meg',\n    ses_id,\n    f'spm/spm-converted_autoreject-{subj_id}-{ses_id}-001-btn_trial-epo.mat'\n)\n\nspm = spm_standalone.initialize()"
      ]
    },
    {
      "cell_type": "markdown",
      "metadata": {},
      "source": [
        "For source reconstructions, we need an MRI and a surface mesh. The simulations will be based on a forward model using the multilayer mesh, and the model comparison will use each layer mesh\n\n"
      ]
    },
    {
      "cell_type": "code",
      "execution_count": null,
      "metadata": {
        "collapsed": false
      },
      "outputs": [],
      "source": [
        "surf_set_bilam = LayerSurfaceSet(subj_id, 2)\nsurf_set = LayerSurfaceSet(subj_id, 11)"
      ]
    },
    {
      "cell_type": "markdown",
      "metadata": {},
      "source": [
        "We're going to copy the data file to a temporary directory and direct all output there.\n\n"
      ]
    },
    {
      "cell_type": "code",
      "execution_count": null,
      "metadata": {
        "collapsed": false
      },
      "outputs": [],
      "source": [
        "# Extract base name and path of data file\ndata_path, data_file_name = os.path.split(data_file)\ndata_base = os.path.splitext(data_file_name)[0]\n\n# Where to put simulated data\ntmp_dir = tempfile.mkdtemp()\n\n# Copy data files to tmp directory\nshutil.copy(\n    os.path.join(data_path, f'{data_base}.mat'), \n    os.path.join(tmp_dir, f'{data_base}.mat')\n)\nshutil.copy(\n    os.path.join(data_path, f'{data_base}.dat'), \n    os.path.join(tmp_dir, f'{data_base}.dat')\n)\n\n# Construct base file name for simulations\nbase_fname = os.path.join(tmp_dir, f'{data_base}.mat')"
      ]
    },
    {
      "cell_type": "markdown",
      "metadata": {},
      "source": [
        "Invert the subject's data using the multilayer mesh. This step only has to be done once - this is just to compute the forward model that will be used in the simulations\n\n"
      ]
    },
    {
      "cell_type": "code",
      "execution_count": null,
      "metadata": {
        "collapsed": false
      },
      "outputs": [],
      "source": [
        "# Patch size to use for inversion (in this case it matches the simulated patch size)\npatch_size = 5\n# Number of temporal modes to use for EBB inversion\nn_temp_modes = 4\n\n# Coregister data to multilayer mesh\ncoregister(\n    fid_coords,\n    base_fname,\n    surf_set,\n    spm_instance=spm\n)\n\n# Run inversion\n[_,_] = invert_ebb(\n    base_fname,\n    surf_set,\n    patch_size=patch_size, \n    n_temp_modes=n_temp_modes,\n    spm_instance=spm\n)"
      ]
    },
    {
      "cell_type": "markdown",
      "metadata": {},
      "source": [
        "## Simulating a signal on the pial surface\nWe're going to simulate 1s of a 20Hz sine wave with a dipole moment of 10nAm\n\n"
      ]
    },
    {
      "cell_type": "code",
      "execution_count": null,
      "metadata": {
        "collapsed": false
      },
      "outputs": [],
      "source": [
        "# Frequency of simulated sinusoid (Hz)\nfreq = 20\n# Strength of simulated activity (nAm)\ndipole_moment = 10\n# Sampling rate (must match the data file)\ns_rate = 600\n\n# Generate 1s of a sine wave at a sampling rate of 600Hz (to match the data file)\ntime = np.linspace(0,1,s_rate+1)\nsim_signal = np.sin(time*freq*2*np.pi).reshape(1,-1)\n\nplt.plot(time,dipole_moment*sim_signal[0,:])\nplt.xlabel('Time (s)')\nplt.ylabel('Amplitude (nAm)')"
      ]
    },
    {
      "cell_type": "markdown",
      "metadata": {},
      "source": [
        "<img src=\"file://../_static/tutorial_02_sim_signal.png\" width=\"800\"\n   :alt:>\n\n"
      ]
    },
    {
      "cell_type": "markdown",
      "metadata": {},
      "source": [
        "We need to pick a location (mesh vertex) to simulate at\n\n"
      ]
    },
    {
      "cell_type": "code",
      "execution_count": null,
      "metadata": {
        "collapsed": false
      },
      "outputs": [],
      "source": [
        "# Vertex to simulate activity at\nsim_vertex=50492\n\ncam_view = [335, 9.5, 51,\n            60, 37, 17,\n            0, 0, 1]\nplot = show_surface(\n    surf_set,\n    marker_vertices=sim_vertex,\n    marker_size=5,\n    camera_view=cam_view\n)"
      ]
    },
    {
      "cell_type": "markdown",
      "metadata": {},
      "source": [
        "<img src=\"file://../_static/tutorial_02_sim_location.png\" width=\"800\"\n   :alt:>\n\n"
      ]
    },
    {
      "cell_type": "markdown",
      "metadata": {},
      "source": [
        "We'll simulate a 5mm patch of activity with -5 dB SNR at the sensor level. The desired level of SNR is achieved by adding white noise to the projected sensor signals\n\n"
      ]
    },
    {
      "cell_type": "code",
      "execution_count": null,
      "metadata": {
        "collapsed": false
      },
      "outputs": [],
      "source": [
        "# Simulate at a vertex on the pial surface\npial_vertex = surf_set.get_multilayer_vertex('pial', sim_vertex)\nprefix = f'sim_{sim_vertex}_pial_'\n\n# Size of simulated patch of activity (mm)\nsim_patch_size = 5\n# SNR of simulated data (dB)\nSNR = -5\n\n# Generate simulated data\npial_sim_fname = run_current_density_simulation(\n    base_fname, \n    prefix, \n    pial_vertex, \n    sim_signal, \n    dipole_moment, \n    sim_patch_size, \n    SNR,\n    spm_instance=spm\n)   \n\n# Load simulated sensor data and plot\npial_sim_sensor_data, time, ch_names = load_meg_sensor_data(pial_sim_fname)\n_ = plt.plot(time, np.mean(pial_sim_sensor_data,axis=-1).T)\nplt.xlabel('Time (s)')\nplt.ylabel('Amplitude (fT)')\nplt.ylim([-225, 225])"
      ]
    },
    {
      "cell_type": "markdown",
      "metadata": {},
      "source": [
        "<img src=\"file://../_static/tutorial_02_pial_sim_sensor_signal.png\" width=\"800\"\n   :alt:>\n\n"
      ]
    },
    {
      "cell_type": "markdown",
      "metadata": {},
      "source": [
        "## Model comparison (pial - white matter)\nNow we can run model comparison between source models based on the pial and white matter surfaces using free energy. Specifically, we'll look at the difference in free energy between the two models (pial - white matter). This should be positive (more model evidence for the pial surface model) because we simulated activity on the pial surface\n\n"
      ]
    },
    {
      "cell_type": "code",
      "execution_count": null,
      "metadata": {
        "collapsed": false
      },
      "outputs": [],
      "source": [
        "# Run model comparison between the first layer (pial) and the last layer (white matter)\n[F,_] = model_comparison(\n    fid_coords,\n    pial_sim_fname,\n    surf_set_bilam,\n    spm_instance=spm,\n    invert_kwargs={\n        'patch_size': patch_size, \n        'n_temp_modes': n_temp_modes    \n    }\n)"
      ]
    },
    {
      "cell_type": "markdown",
      "metadata": {},
      "source": [
        "The difference in free energy is an approximation of the Bayes factor between the two models\nThis value should be positive (more model evidence for the pial layer model)\n\n"
      ]
    },
    {
      "cell_type": "code",
      "execution_count": null,
      "metadata": {
        "collapsed": false
      },
      "outputs": [],
      "source": [
        "F[0]-F[1]"
      ]
    },
    {
      "cell_type": "markdown",
      "metadata": {},
      "source": [
        "## White matter surface simulation with pial - white matter model comparison\nLet's simulate the same pattern of activity, in the same location, but on the white matter surface. This time, model comparison should yield greater model evidence for the white matter surface, and therefore the difference in free energy (pial - white matter) should be negative.\n\n"
      ]
    },
    {
      "cell_type": "code",
      "execution_count": null,
      "metadata": {
        "collapsed": false
      },
      "outputs": [],
      "source": [
        "# Simulate at the corresponding vertex on the white matter surface\nwhite_vertex = surf_set.get_multilayer_vertex('white', sim_vertex)\nprefix = f'sim_{sim_vertex}_white_'\n\n# Generate simulated data\nwhite_sim_fname = run_current_density_simulation(\n    base_fname,\n    prefix,\n    white_vertex,\n    sim_signal,\n    dipole_moment,\n    sim_patch_size,\n    SNR,\n    spm_instance=spm\n)\n# Run model comparison between the first layer (pial) and the last layer (white matter)\n[F,_] = model_comparison(\n    fid_coords,\n    white_sim_fname,\n    surf_set_bilam,\n    spm_instance=spm,\n    invert_kwargs={\n        'patch_size': patch_size, \n        'n_temp_modes': n_temp_modes,    \n    }\n)"
      ]
    },
    {
      "cell_type": "markdown",
      "metadata": {},
      "source": [
        "The difference in free energy is an approximation of the Bayes factor between the two models\nThis value should be negative (more model evidence for the white matter layer model)\n\n"
      ]
    },
    {
      "cell_type": "code",
      "execution_count": null,
      "metadata": {
        "collapsed": false
      },
      "outputs": [],
      "source": [
        "F[0]-F[1]"
      ]
    },
    {
      "cell_type": "markdown",
      "metadata": {},
      "source": [
        "Here's the sensor signals from the simulation of activity on the white matter surface. It's very similar to the sensor signals from the pial surface simulation\n\n"
      ]
    },
    {
      "cell_type": "code",
      "execution_count": null,
      "metadata": {
        "collapsed": false
      },
      "outputs": [],
      "source": [
        "# Load simulated sensor data and plot\nwhite_sim_sensor_data, time, ch_names = load_meg_sensor_data(white_sim_fname)\n_ = plt.plot(time, np.mean(white_sim_sensor_data,axis=-1).T)\nplt.xlabel('Time (s)')\nplt.ylabel('Amplitude (fT)')\nplt.ylim([-225, 225])"
      ]
    },
    {
      "cell_type": "markdown",
      "metadata": {},
      "source": [
        "<img src=\"file://../_static/tutorial_02_white_sim_sensor_signal.png\" width=\"800\"\n   :alt:>\n\n"
      ]
    },
    {
      "cell_type": "markdown",
      "metadata": {},
      "source": [
        "The difference between the two simulated sensor signals is quite small\n\n"
      ]
    },
    {
      "cell_type": "code",
      "execution_count": null,
      "metadata": {
        "collapsed": false
      },
      "outputs": [],
      "source": [
        "sensor_diff = pial_sim_sensor_data - white_sim_sensor_data\n_ = plt.plot(time, np.mean(sensor_diff,axis=-1).T)\nplt.xlabel('Time (s)')\nplt.ylabel('Amplitude (fT)')\nplt.ylim([-225, 225])"
      ]
    },
    {
      "cell_type": "markdown",
      "metadata": {},
      "source": [
        "<img src=\"file://../_static/tutorial_02_pial_white_sim_sensor_difference.png\" width=\"800\"\n   :alt:>\n\n"
      ]
    },
    {
      "cell_type": "markdown",
      "metadata": {},
      "source": [
        "## Simulation in each layer with model comparison across layers\nThat was model comparison with two candidate models: one based on the white matter surface, and one on the pial. Let's now simulate on each layer, and for each simulation, run model comparison across all layers. We'll turn off SPM visualization here.\n\n"
      ]
    },
    {
      "cell_type": "code",
      "execution_count": null,
      "metadata": {
        "collapsed": false
      },
      "outputs": [],
      "source": [
        "# Now simulate at the corresponding vertex on each layer, and for each simulation, run model comparison across\n# all layers\nall_layerF = []\n\nfor l in range(surf_set.n_layers):\n    print(f'Simulating in layer {l}')\n    l_vertex = surf_set.get_multilayer_vertex(l, sim_vertex)\n    prefix = f'sim_{sim_vertex}_{l}_'\n\n    l_sim_fname = run_current_density_simulation(\n        base_fname,\n        prefix,\n        l_vertex,\n        sim_signal,\n        dipole_moment,\n        sim_patch_size,\n        SNR,\n        spm_instance=spm\n    )\n\n    [layerF,_] = model_comparison(\n        fid_coords,\n        l_sim_fname,\n        surf_set,\n        viz=False,\n        spm_instance=spm,\n        invert_kwargs={\n            'patch_size': patch_size, \n            'n_temp_modes': n_temp_modes        \n        }\n    )\n    all_layerF.append(layerF)\nall_layerF = np.array(all_layerF)"
      ]
    },
    {
      "cell_type": "markdown",
      "metadata": {},
      "source": [
        "For each simulation, we can plot the free energy for all models relative to the worst model. The layer model with the highest free energy should correspond to the layer that the activity was simulated in.\n\n"
      ]
    },
    {
      "cell_type": "code",
      "execution_count": null,
      "metadata": {
        "collapsed": false
      },
      "outputs": [],
      "source": [
        "col_r = plt.cm.cool(np.linspace(0,1, num=surf_set.n_layers))\nplt.figure(figsize=(10,4))\n\n# For each simulation, plot the free energy of each layer model relative to that of the worst\n# model for that simulation\nplt.subplot(1,2,1)\nfor l in range(surf_set.n_layers):\n    layerF = all_layerF[l,:]\n    plt.plot(layerF-np.min(layerF), label=f'{l}', color=col_r[l,:])\nplt.legend()\nplt.xlabel('Eval layer')\nplt.ylabel(r'$\\Delta$F')\n\n# For each simulation, find which layer model had the greatest free energy\nplt.subplot(1,2,2)\npeaks = []\nfor l in range(surf_set.n_layers):\n    layerF = all_layerF[l,:]\n    pk = np.argmax(layerF)\n    peaks.append(pk)\nplt.plot(peaks)\nplt.xlim([-0.5,10.5])\nplt.ylim([-0.5,10.5])\nplt.plot([0,10],[0,10],'k--')\nplt.xlabel('Sim layer')\nplt.ylabel(r'Peak $\\Delta$F')\nplt.tight_layout()"
      ]
    },
    {
      "cell_type": "markdown",
      "metadata": {},
      "source": [
        "<img src=\"file://../_static/tutorial_02_results.png\" width=\"800\"\n   :alt:>\n\n"
      ]
    },
    {
      "cell_type": "code",
      "execution_count": null,
      "metadata": {
        "collapsed": false
      },
      "outputs": [],
      "source": [
        "# Normalization step\nnorm_layerF = np.zeros(all_layerF.shape)\nfor l in range(surf_set.n_layers):\n    norm_layerF[l,:] = all_layerF[l,:] - np.min(all_layerF[l,:])\n\n# Transpose for visualization\nim=plt.imshow(norm_layerF.T,cmap='Spectral_r')\n\n# Find the indices of the max value in each column\nmax_indices = np.argmax(norm_layerF, axis=1)\n\n# Plot an 'X' at the center of the square for each column's maximum\nfor idx, max_idx in enumerate(max_indices):\n    plt.text(idx, max_idx, 'X', fontsize=12, ha='center', va='center', color='black', weight='bold')\n\nplt.xlabel('Simulated layer', fontsize=14)\nplt.ylabel('Evaluated layer', fontsize=14)\ncb=plt.colorbar(im)\ncb.set_label(r'$\\Delta F$', fontsize=14)"
      ]
    },
    {
      "cell_type": "markdown",
      "metadata": {},
      "source": [
        "<img src=\"file://../_static/tutorial_02_results_matrix.png\" width=\"800\"\n   :alt:>\n\n"
      ]
    },
    {
      "cell_type": "code",
      "execution_count": null,
      "metadata": {
        "collapsed": false
      },
      "outputs": [],
      "source": [
        "spm.terminate()\n\n# Delete simulation files\nshutil.rmtree(tmp_dir)"
      ]
    }
  ],
  "metadata": {
    "kernelspec": {
      "display_name": "Python 3",
      "language": "python",
      "name": "python3"
    },
    "language_info": {
      "codemirror_mode": {
        "name": "ipython",
        "version": 3
      },
      "file_extension": ".py",
      "mimetype": "text/x-python",
      "name": "python",
      "nbconvert_exporter": "python",
      "pygments_lexer": "ipython3",
      "version": "3.7.16"
    }
  },
  "nbformat": 4,
  "nbformat_minor": 0
}