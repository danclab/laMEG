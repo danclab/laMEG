{
  "cells": [
    {
      "cell_type": "code",
      "execution_count": null,
      "metadata": {
        "collapsed": false
      },
      "outputs": [],
      "source": [
        "%matplotlib inline"
      ]
    },
    {
      "cell_type": "markdown",
      "metadata": {},
      "source": [
        "\n# Surface processing\n"
      ]
    },
    {
      "cell_type": "markdown",
      "metadata": {},
      "source": [
        "## Create layer surfaces\nUses FreeSurfer mris-inflate. Based on the number of surfaces you specify. Each will be approximately equidistant. Vertex correspondence is maintained, i.e each layer will have vertices along the vector connecting a white matter surface vertex with the corresponding pial surface vertex. Each surface will then be converted to gifti format and the vertex coordinates will adjusted by the RAS at the center of the volume to put them in native space.\n\n"
      ]
    },
    {
      "cell_type": "code",
      "execution_count": null,
      "metadata": {
        "collapsed": false
      },
      "outputs": [],
      "source": [
        "import os\nimport numpy as np\nimport nibabel as nib\nimport k3d\nimport matplotlib.pyplot as plt\nfrom lameg.viz import show_surface, rgbtoint\n\n# Get name of each mesh that makes up the layers of the multilayer mesh\nn_layers = 11\nlayers = np.linspace(1, 0, n_layers)\n\nsurf_path = '../test_data/sub-104/surf'\nlayer_fnames = []\nfor l, layer in enumerate(layers):\n    if layer == 1:\n        layer_fnames.append(os.path.join(surf_path, f'lh.pial.gii'))\n    elif layer > 0 and layer < 1:\n        layer_name = '{:.3f}'.format(layer)\n        layer_fnames.append(os.path.join(surf_path, f'lh.{layer_name}.gii'))\n    elif layer == 0:\n        layer_fnames.append(os.path.join(surf_path, f'lh.white.gii'))\n\ncam_view=[-143, 14, 31.5,\n          -32, 22.5, 38.5,\n          0, 0, 1]\ncol_r = plt.cm.cool(np.linspace(0,1, num=n_layers))\n\nfor l_idx,layer_fname in enumerate(layer_fnames):\n    mesh = nib.load(layer_fname)\n    plot = show_surface(mesh, camera_view=cam_view, color=col_r[l_idx,:3]*255, height=256)"
      ]
    },
    {
      "cell_type": "markdown",
      "metadata": {},
      "source": [
        "<img src=\"file://../_static/pial.png\" width=\"800\"\n   :alt:>\n<img src=\"file://../_static/0.9.png\" width=\"800\"\n   :alt:>\n<img src=\"file://../_static/0.8.png\" width=\"800\"\n   :alt:>\n<img src=\"file://../_static/0.7.png\" width=\"800\"\n   :alt:>\n<img src=\"file://../_static/0.6.png\" width=\"800\"\n   :alt:>\n<img src=\"file://../_static/0.5.png\" width=\"800\"\n   :alt:>\n<img src=\"file://../_static/0.4.png\" width=\"800\"\n   :alt:>\n<img src=\"file://../_static/0.3.png\" width=\"800\"\n   :alt:>\n<img src=\"file://../_static/0.2.png\" width=\"800\"\n   :alt:>\n<img src=\"file://../_static/0.1.png\" width=\"800\"\n   :alt:>\n<img src=\"file://../_static/white.png\" width=\"800\"\n   :alt:>\n\n"
      ]
    },
    {
      "cell_type": "markdown",
      "metadata": {},
      "source": [
        "## Remove deep vertices\nFreesurfer operates on hemispheres independently, resulting in deep vertices and mesh faces cutting through subcortical structures. These are removed because they are not part of the cortical source space. Any vertex not labelled or labelled as unknown in the Desikan-Killiany atlas are removed. This is applied to each hemisphere of each layer mesh.\n\n"
      ]
    },
    {
      "cell_type": "markdown",
      "metadata": {},
      "source": [
        "**Before**\n\n"
      ]
    },
    {
      "cell_type": "code",
      "execution_count": null,
      "metadata": {
        "collapsed": false
      },
      "outputs": [],
      "source": [
        "surf_fname = os.path.join(surf_path, f'lh.pial.gii')\n\ncam_view=[110, 18, 36,\n          -32, 22, 42,\n          0, 0, 1]\ncol_r = plt.cm.cool(np.linspace(0,1, num=n_layers))\n\nmesh = nib.load(surf_fname)\nplot = show_surface(mesh, camera_view=cam_view, color=col_r[0,:3]*255)"
      ]
    },
    {
      "cell_type": "markdown",
      "metadata": {},
      "source": [
        "<img src=\"file://../_static/rm_deep_before.png\" width=\"800\"\n   :alt:>\n\n"
      ]
    },
    {
      "cell_type": "markdown",
      "metadata": {},
      "source": [
        "**After**\n\n"
      ]
    },
    {
      "cell_type": "code",
      "execution_count": null,
      "metadata": {
        "collapsed": false
      },
      "outputs": [],
      "source": [
        "surf_fname = os.path.join(surf_path, f'lh.pial.nodeep.gii')\n\nmesh = nib.load(surf_fname)\nplot = show_surface(mesh, camera_view=cam_view, color=col_r[0,:3]*255)"
      ]
    },
    {
      "cell_type": "markdown",
      "metadata": {},
      "source": [
        "<img src=\"file://../_static/rm_deep_after.png\" width=\"800\"\n   :alt:>\n\n"
      ]
    },
    {
      "cell_type": "markdown",
      "metadata": {},
      "source": [
        "## Combine hemispheres\nThe left and right hemisphere meshes are combined by concatenation of their vertices and faces (left then right). No new faces are created. This is done for each layer.\n\n"
      ]
    },
    {
      "cell_type": "code",
      "execution_count": null,
      "metadata": {
        "collapsed": false
      },
      "outputs": [],
      "source": [
        "surf_fname = os.path.join(surf_path, f'pial.gii')\n\ncam_view=[13, 64, 217,\n          21, 21, 33,\n          0, 1, 0]\ncol_r = plt.cm.cool(np.linspace(0,1, num=n_layers))\n\nmesh = nib.load(surf_fname)\nplot = show_surface(mesh, camera_view=cam_view, color=col_r[0,:3]*255)"
      ]
    },
    {
      "cell_type": "markdown",
      "metadata": {},
      "source": [
        "<img src=\"file://../_static/combine_hemi.png\" width=\"800\"\n   :alt:>\n\n"
      ]
    },
    {
      "cell_type": "markdown",
      "metadata": {},
      "source": [
        "## Downsample\nThe surfaces are much too dense to use in source reconstruction. They must be downsampled, but we must maintain vertex correspondence between them (see [Bonaiuto et al. 2020, Estimates of cortical column orientation improve MEG source inversion](https://doi.org/10.1016/j.neuroimage.2020.116862)). The pial surface is therefore downsampled by a factor of 10 using the vtkDecimatePro algorithm, which only removes vertices rather than creating new ones. The removed vertices are also removed from each other layer mesh, and the face structure from the pial mesh is copied to them (though the faces are not used in the source reconstruction if link vector orientations are used).\n\n"
      ]
    },
    {
      "cell_type": "code",
      "execution_count": null,
      "metadata": {
        "collapsed": false
      },
      "outputs": [],
      "source": [
        "surf_fname = os.path.join(surf_path, f'pial.ds.link_vector.fixed.gii')\n\ncam_view=[13, 64, 217,\n          21, 21, 33,\n          0, 1, 0]\ncol_r = plt.cm.cool(np.linspace(0,1, num=n_layers))\n\nmesh = nib.load(surf_fname)\nplot = show_surface(mesh, camera_view=cam_view, color=col_r[0,:3]*255)"
      ]
    },
    {
      "cell_type": "markdown",
      "metadata": {},
      "source": [
        "<img src=\"file://../_static/downsample.png\" width=\"800\"\n   :alt:>\n\n"
      ]
    },
    {
      "cell_type": "markdown",
      "metadata": {},
      "source": [
        "## Compute link vectors\nThe dipole orientation at each source location is computed. Downsampled surface normals, original surface normals, cortical patch statistics, or link vectors can be specified (see [Bonaiuto et al. 2020, Estimates of cortical column orientation improve MEG source inversion](https://doi.org/10.1016/j.neuroimage.2020.116862)). The first three compute vertex normals based on the orientation of the surrounding faces. They can be either computed separately for each layer, or the pial surface orientations can be used for all layers. The link vectors method computes vectors connecting corresponding pial and white matter vertices (pointing toward the white matter), which are therefore the same across layer. The orientation vectors are stored in the normals attribute of the gifti object.\n\n"
      ]
    },
    {
      "cell_type": "code",
      "execution_count": null,
      "metadata": {
        "collapsed": false
      },
      "outputs": [],
      "source": [
        "plot = k3d.plot(\n    grid_visible=False, menu_visibility=False, camera_auto_fit=False\n)\npial_fname = os.path.join(surf_path, f'pial.ds.link_vector.fixed.gii')\npial_surf = nib.load(pial_fname)\npial_vertices, pial_faces, _ = pial_surf.agg_data()\n\nwhite_fname = os.path.join(surf_path, f'white.ds.link_vector.fixed.gii')\nwhite_surf = nib.load(white_fname)\nwhite_vertices, white_faces, _ = white_surf.agg_data()\n\ncam_view=[70, 40.5, 76.5,\n          22.5, 26, 73.5,\n          0, 0, 1]\ncol_r = plt.cm.cool(np.linspace(0,1, num=n_layers))\n\npial_mesh = k3d.mesh(pial_vertices, pial_faces, side=\"double\", color=rgbtoint(col_r[0,:3]*255), opacity=0.5)\nplot += pial_mesh\n\nwhite_mesh = k3d.mesh(white_vertices, white_faces, side=\"double\", color=rgbtoint(col_r[-1,:3]*255), opacity=1)\nplot += white_mesh\n\ndipole_vectors = k3d.vectors(\n    white_vertices,\n    vectors=pial_vertices - white_vertices,\n    head_size=5,\n    line_width=0.1\n)\nplot += dipole_vectors\n\nplot.camera=cam_view\n\nplot.display()"
      ]
    },
    {
      "cell_type": "markdown",
      "metadata": {},
      "source": [
        "<img src=\"file://../_static/link_vectors.png\" width=\"800\"\n   :alt:>\n\n"
      ]
    },
    {
      "cell_type": "markdown",
      "metadata": {},
      "source": [
        "## Combine layers\nThe layer meshes are then combined into a single mesh by concatenating their vertices and faces (from pial to white matter). No new faces are created (i.e. there are no edges connecting vertices across layers)\n\n"
      ]
    },
    {
      "cell_type": "code",
      "execution_count": null,
      "metadata": {
        "collapsed": false
      },
      "outputs": [],
      "source": [
        "layer_fnames = []\nfor l, layer in enumerate(layers):\n    if layer == 1:\n        layer_fnames.append(os.path.join(surf_path, f'pial.ds.link_vector.fixed.gii'))\n    elif layer > 0 and layer < 1:\n        layer_name = '{:.3f}'.format(layer)\n        layer_fnames.append(os.path.join(surf_path, f'{layer_name}.ds.link_vector.fixed.gii'))\n    elif layer == 0:\n        layer_fnames.append(os.path.join(surf_path, f'white.ds.link_vector.fixed.gii'))\n\ncol_r = plt.cm.cool(np.linspace(0,1, num=n_layers+1))\n\nplot = k3d.plot(\n    grid_visible=False, menu_visibility=False, camera_auto_fit=False\n)\n\nfor l_idx,layer_fname in enumerate(layer_fnames):\n    surface = nib.load(layer_fname)\n    vertices, faces, _ = surface.agg_data()\n    \n    mesh = k3d.mesh(vertices, faces, side=\"double\", color=rgbtoint(col_r[l_idx,:3]*255), opacity=l_idx/(n_layers-1))\n    plot += mesh\n    \nplot.camera=cam_view\n\nplot.display()"
      ]
    },
    {
      "cell_type": "markdown",
      "metadata": {},
      "source": [
        "<img src=\"file://../_static/combine_layers.png\" width=\"800\"\n   :alt:>\n\n"
      ]
    },
    {
      "cell_type": "markdown",
      "metadata": {},
      "source": [
        "## Putting it all together\nAll of these steps can be run using the function:\n\n> postprocess_freesurfer_surfaces\n\n"
      ]
    },
    {
      "cell_type": "code",
      "execution_count": null,
      "metadata": {
        "collapsed": false
      },
      "outputs": [],
      "source": [
        "from lameg.surf import postprocess_freesurfer_surfaces\n\n# Create a 2-layer surface (only pial and white)\npostprocess_freesurfer_surfaces(\n    'sub-104',                                \n    '../test_data/sub-104/surf', \n    'multilayer.2.ds.link_vector.fixed.gii',                                \n    n_surfaces=2,                                 \n    ds_factor=0.1,                                 \n    orientation='link_vector',                                 \n    remove_deep=True\n)\n\n# Create an 11-layer surface\npostprocess_freesurfer_surfaces(\n    'sub-104',                                \n    '../test_data/sub-104/surf', \n    'multilayer.11.ds.link_vector.fixed.gii',\n    n_surfaces=11, \n    ds_factor=0.1, \n    orientation='link_vector', \n    remove_deep=True\n)\n\n# Create a 15-layer surface\npostprocess_freesurfer_surfaces(\n    'sub-104',                                \n    '../test_data/sub-104/surf', \n    'multilayer.15.ds.link_vector.fixed.gii',\n    n_surfaces=15, \n    ds_factor=0.1, \n    orientation='link_vector', \n    remove_deep=True\n)"
      ]
    }
  ],
  "metadata": {
    "kernelspec": {
      "display_name": "Python 3",
      "language": "python",
      "name": "python3"
    },
    "language_info": {
      "codemirror_mode": {
        "name": "ipython",
        "version": 3
      },
      "file_extension": ".py",
      "mimetype": "text/x-python",
      "name": "python",
      "nbconvert_exporter": "python",
      "pygments_lexer": "ipython3",
      "version": "3.7.16"
    }
  },
  "nbformat": 4,
  "nbformat_minor": 0
}