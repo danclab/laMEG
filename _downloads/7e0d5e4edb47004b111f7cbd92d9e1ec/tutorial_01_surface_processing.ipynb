{
  "cells": [
    {
      "cell_type": "code",
      "execution_count": null,
      "metadata": {
        "collapsed": false
      },
      "outputs": [],
      "source": [
        "%matplotlib inline"
      ]
    },
    {
      "cell_type": "markdown",
      "metadata": {},
      "source": [
        "\n# Surface processing\nThis tutorial walks through the key steps involved in preparing laminar surfaces for MEG source reconstruction using laMEG. Starting from FreeSurfer outputs, we will generate multiple cortical layers, remove non-cortical vertices, merge hemispheres, downsample the meshes while preserving vertex correspondence, compute dipole orientations, and finally combine all layers into a single laminar surface model.\n\nThese operations are essential to obtain geometrically accurate, computationally efficient, and laminar-consistent source spaces.\n"
      ]
    },
    {
      "cell_type": "markdown",
      "metadata": {},
      "source": [
        "## Create layer surfaces\n\nThe first step is to generate a set of intermediate surfaces between the pial and white matter boundaries.\n\nThis step:\n- Uses FreeSurfer's `mris_inflate` utility to iteratively create surfaces that are approximately equidistant between the white and pial boundaries.\n- Maintains **vertex correspondence** across all layers: each vertex in the white surface is connected to its pial counterpart by a straight vector, and intermediate layer vertices lie along this line.\n- Converts each generated surface to GIFTI format and adjusts its coordinates using the FreeSurfer RAS offset (CRAS), ensuring that surfaces are in native anatomical space.\n\nThe resulting surfaces represent an anatomically consistent sampling of the cortical ribbon.\n\n"
      ]
    },
    {
      "cell_type": "code",
      "execution_count": null,
      "metadata": {
        "collapsed": false
      },
      "outputs": [],
      "source": [
        "import numpy as np\nimport k3d\nimport matplotlib.pyplot as plt\nfrom lameg.surf import LayerSurfaceSet\nfrom lameg.viz import show_surface, rgbtoint\n\nsurf_set = LayerSurfaceSet('sub-104', 11)\nlayer_names = surf_set.get_layer_names()\n\ncam_view=[-143, 14, 31.5,\n          -32, 22.5, 38.5,\n          0, 0, 1]\ncol_r = plt.cm.cool(np.linspace(0,1, num=surf_set.n_layers))\n\nfor l_idx,layer_name in enumerate(layer_names):\n    plot = show_surface(\n        surf_set,\n        layer_name=layer_name,\n        stage='converted',\n        hemi='lh',\n        plot_curvature=False,\n        camera_view=cam_view,\n        color=col_r[l_idx,:3]*255,\n        height=256\n    )"
      ]
    },
    {
      "cell_type": "markdown",
      "metadata": {},
      "source": [
        "<img src=\"file://../_static/tutorial_01_pial.png\" width=\"800\"\n   :alt:>\n<img src=\"file://../_static/tutorial_01_0.9.png\" width=\"800\"\n   :alt:>\n<img src=\"file://../_static/tutorial_01_0.8.png\" width=\"800\"\n   :alt:>\n<img src=\"file://../_static/tutorial_01_0.7.png\" width=\"800\"\n   :alt:>\n<img src=\"file://../_static/tutorial_01_0.6.png\" width=\"800\"\n   :alt:>\n<img src=\"file://../_static/tutorial_01_0.5.png\" width=\"800\"\n   :alt:>\n<img src=\"file://../_static/tutorial_01_0.4.png\" width=\"800\"\n   :alt:>\n<img src=\"file://../_static/tutorial_01_0.3.png\" width=\"800\"\n   :alt:>\n<img src=\"file://../_static/tutorial_01_0.2.png\" width=\"800\"\n   :alt:>\n<img src=\"file://../_static/tutorial_01_0.1.png\" width=\"800\"\n   :alt:>\n<img src=\"file://../_static/tutorial_01_white.png\" width=\"800\"\n   :alt:>\n\n"
      ]
    },
    {
      "cell_type": "markdown",
      "metadata": {},
      "source": [
        "## Remove deep vertices\n\nFreeSurfer surfaces include vertices that extend into deep structures (e.g., the corpus callosum), which are not part of the cortical source space.\n\nThis step removes those deep vertices and any associated faces by:\n- Identifying vertices not assigned to a cortical label in the Desikan-Killiany atlas.\n- Removing vertices labeled as \"unknown\".\n- Applying this filtering independently to each hemisphere and each layer.\n\nThe resulting surfaces strictly represent cortical gray matter.\n\n"
      ]
    },
    {
      "cell_type": "markdown",
      "metadata": {},
      "source": [
        "**Before:** deep vertices are visible within subcortical regions.\n\n"
      ]
    },
    {
      "cell_type": "code",
      "execution_count": null,
      "metadata": {
        "collapsed": false
      },
      "outputs": [],
      "source": [
        "cam_view=[110, 18, 36,\n          -32, 22, 42,\n          0, 0, 1]\nplot = show_surface(\n    surf_set,\n    layer_name='pial',\n    stage='converted',\n    hemi='lh',\n    plot_curvature=False,\n    camera_view=cam_view,\n    color=col_r[0,:3]*255\n)"
      ]
    },
    {
      "cell_type": "markdown",
      "metadata": {},
      "source": [
        "<img src=\"file://../_static/tutorial_01_rm_deep_before.png\" width=\"800\"\n   :alt:>\n\n"
      ]
    },
    {
      "cell_type": "markdown",
      "metadata": {},
      "source": [
        "**After:** deep vertices are removed, leaving only cortical surfaces.\n\n"
      ]
    },
    {
      "cell_type": "code",
      "execution_count": null,
      "metadata": {
        "collapsed": false
      },
      "outputs": [],
      "source": [
        "plot = show_surface(\n    surf_set,\n    layer_name='pial',\n    stage='nodeep',\n    hemi='lh',\n    plot_curvature=False,\n    camera_view=cam_view,\n    color=col_r[0,:3]*255\n)"
      ]
    },
    {
      "cell_type": "markdown",
      "metadata": {},
      "source": [
        "<img src=\"file://../_static/tutorial_01_rm_deep_after.png\" width=\"800\"\n   :alt:>\n\n"
      ]
    },
    {
      "cell_type": "markdown",
      "metadata": {},
      "source": [
        "## Combine hemispheres\n\nFreeSurfer outputs the left and right hemispheres separately. To facilitate visualization and later source modeling, we merge them into a single mesh.\n\nThis step:\n- Concatenates vertex and face arrays (left first, then right).\n- Does not introduce any new faces - hemispheres remain disconnected but stored together.\n- Is applied independently to each cortical layer.\n\n"
      ]
    },
    {
      "cell_type": "code",
      "execution_count": null,
      "metadata": {
        "collapsed": false
      },
      "outputs": [],
      "source": [
        "cam_view=[13, 64, 217,\n          21, 21, 33,\n          0, 1, 0]\nplot = show_surface(\n    surf_set,\n    layer_name='pial',\n    stage='combined',\n    plot_curvature=False,\n    camera_view=cam_view,\n    color=col_r[0,:3]*255\n)"
      ]
    },
    {
      "cell_type": "markdown",
      "metadata": {},
      "source": [
        "<img src=\"file://../_static/tutorial_01_combine_hemi.png\" width=\"800\"\n   :alt:>\n\n"
      ]
    },
    {
      "cell_type": "markdown",
      "metadata": {},
      "source": [
        "## Downsample\n\nThe original FreeSurfer meshes contain hundreds of thousands of vertices - far too dense for efficient source inversion. We therefore downsample the mesh while preserving **vertex correspondence** across layers (see [Bonaiuto et al. 2020, Estimates of cortical column orientation improve MEG source inversion](https://doi.org/10.1016/j.neuroimage.2020.116862)).\n\nTo achieve this:\n- The pial surface is downsampled using a purely reductive algorithm: it only *removes* vertices rather than modifying them or creating new ones.\n- The same vertex indices are then removed from every other layer to maintain correspondence.\n- The face structure from the downsampled pial surface is propagated to other layers.\n\nThis ensures that each vertex index corresponds to the same cortical column across depth.\n\n"
      ]
    },
    {
      "cell_type": "code",
      "execution_count": null,
      "metadata": {
        "collapsed": false
      },
      "outputs": [],
      "source": [
        "plot = show_surface(\n    surf_set,\n    layer_name='pial',\n    stage='ds',\n    plot_curvature=False,\n    camera_view=cam_view,\n    color=col_r[0,:3]*255\n)"
      ]
    },
    {
      "cell_type": "markdown",
      "metadata": {},
      "source": [
        "<img src=\"file://../_static/tutorial_01_downsample.png\" width=\"800\"\n   :alt:>\n\n"
      ]
    },
    {
      "cell_type": "markdown",
      "metadata": {},
      "source": [
        "## Compute link vectors\n\nDipole orientation is crucial for laminar source inversion. Here we compute **link vectors** - orientation vectors connecting corresponding vertices between pial and white matter surfaces.\n\nOther options include:\n- Downsampled surface normals\n- Original surface normals\n- Cortical patch statistics\n\nThese other options three compute vertex normals based on the orientation of the surrounding faces. They can be either computed separately for each layer, or the pial surface orientations can be used for all layers.\n\nLink vectors (as used here) are generally preferred, as they are stable across layers and align closely with the predominant orientation of cortical columns (see [Bonaiuto et al. 2020, Estimates of cortical column orientation improve MEG source inversion](https://doi.org/10.1016/j.neuroimage.2020.116862)). These vectors are stored in the `normals` attribute of each GIFTI surface.\n\n"
      ]
    },
    {
      "cell_type": "code",
      "execution_count": null,
      "metadata": {
        "collapsed": false
      },
      "outputs": [],
      "source": [
        "plot = k3d.plot(\n    grid_visible=False, menu_visibility=False, camera_auto_fit=False\n)\npial_surf = surf_set.load(layer_name='pial', stage='ds', orientation='link_vector', fixed=True)\npial_vertices, pial_faces, _ = pial_surf.agg_data()\n\nwhite_surf = surf_set.load(layer_name='white', stage='ds', orientation='link_vector', fixed=True)\nwhite_vertices, white_faces, _ = white_surf.agg_data()\n\ncam_view=[70, 40.5, 76.5,\n          22.5, 26, 73.5,\n          0, 0, 1]\n\npial_mesh = k3d.mesh(pial_vertices, pial_faces, side=\"double\", color=int(rgbtoint(col_r[0,:3]*255)), opacity=0.5)\nplot += pial_mesh\n\nwhite_mesh = k3d.mesh(white_vertices, white_faces, side=\"double\", color=int(rgbtoint(col_r[-1,:3]*255)), opacity=1)\nplot += white_mesh\n\ndipole_vectors = k3d.vectors(\n    white_vertices,\n    vectors=pial_vertices - white_vertices,\n    head_size=5,\n    line_width=0.1\n)\nplot += dipole_vectors\n\nplot.camera=cam_view\n\nplot.display()"
      ]
    },
    {
      "cell_type": "markdown",
      "metadata": {},
      "source": [
        "<img src=\"file://../_static/tutorial_01_link_vectors.png\" width=\"800\"\n   :alt:>\n\n"
      ]
    },
    {
      "cell_type": "markdown",
      "metadata": {},
      "source": [
        "## Combine layers\n\nFinally, all layers are merged into a single structure by concatenating their vertices and faces (from pial to white matter). No inter-layer connections are created.\n\nThe resulting surface set provides a compact representation of the cortical ribbon, where each vertex index corresponds to a single cortical column sampled at multiple depths.\n\n"
      ]
    },
    {
      "cell_type": "code",
      "execution_count": null,
      "metadata": {
        "collapsed": false
      },
      "outputs": [],
      "source": [
        "plot = k3d.plot(\n    grid_visible=False, menu_visibility=False, camera_auto_fit=False\n)\n\nfor l_idx, layer_name in enumerate(layer_names):\n    surface = surf_set.load(layer_name=layer_name, stage='ds')\n    vertices, faces = surface.agg_data()\n\n    mesh = k3d.mesh(vertices, faces, side=\"double\", color=int(rgbtoint(col_r[l_idx, :3] * 255)),\n                    opacity=l_idx / (surf_set.n_layers - 1))\n    plot += mesh\n\nplot.camera = cam_view\n\nplot.display()"
      ]
    },
    {
      "cell_type": "markdown",
      "metadata": {},
      "source": [
        "<img src=\"file://../_static/tutorial_01_combine_layers.png\" width=\"800\"\n   :alt:>\n\n"
      ]
    },
    {
      "cell_type": "markdown",
      "metadata": {},
      "source": [
        "## Putting it all together\n\nAll the above steps - surface inflation, deep vertex removal, hemisphere merging, downsampling, and orientation computation - can be performed automatically using:\n\n```python\nfrom lameg.surf import LayerSurfaceSet\n\nsurf_set = LayerSurfaceSet('sub-104', n_layers=11)\nsurf_set.create(\n    ds_factor=0.1,\n    orientation='link_vector',\n    fixed=True\n)\n```\n\nThis function allows flexible specification of the number of intermediate layers, downsampling ratio, and dipole orientation model.\n\n"
      ]
    },
    {
      "cell_type": "code",
      "execution_count": null,
      "metadata": {
        "collapsed": false
      },
      "outputs": [],
      "source": [
        "# Create a 2-layer surface (only pial and white)\nsurf_set = LayerSurfaceSet('sub-104', 2)\nsurf_set.create(\n    ds_factor=0.1,\n    orientation='link_vector'\n)\n\n# Create an 11-layer surface\nsurf_set = LayerSurfaceSet('sub-104', 11)\nsurf_set.create(\n    ds_factor=0.1,\n    orientation='link_vector'\n)\n\n# Create a 15-layer surface\nsurf_set = LayerSurfaceSet('sub-104', 15)\nsurf_set.create(\n    ds_factor=0.1,\n    orientation='link_vector'\n)"
      ]
    }
  ],
  "metadata": {
    "kernelspec": {
      "display_name": "Python 3",
      "language": "python",
      "name": "python3"
    },
    "language_info": {
      "codemirror_mode": {
        "name": "ipython",
        "version": 3
      },
      "file_extension": ".py",
      "mimetype": "text/x-python",
      "name": "python",
      "nbconvert_exporter": "python",
      "pygments_lexer": "ipython3",
      "version": "3.7.16"
    }
  },
  "nbformat": 4,
  "nbformat_minor": 0
}