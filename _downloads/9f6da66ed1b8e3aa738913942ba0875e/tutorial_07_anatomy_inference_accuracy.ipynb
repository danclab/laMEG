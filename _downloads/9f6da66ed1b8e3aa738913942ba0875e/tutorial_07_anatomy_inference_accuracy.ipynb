{
  "cells": [
    {
      "cell_type": "code",
      "execution_count": null,
      "metadata": {
        "collapsed": false
      },
      "outputs": [],
      "source": [
        "%matplotlib inline"
      ]
    },
    {
      "cell_type": "markdown",
      "metadata": {},
      "source": [
        "\n# Anatomical Predictors of Laminar Inference Accuracy\nIn [Szul et al., 2025, Beyond deep versus superficial: true laminar inference with MEG](https://doi.org/10.1101/2025.05.28.656642), we showed that even under ideal conditions (high SNR, perfect co-registration), the accuracy of laminar MEG source reconstruction varies regionally across the cortex.\nThis tutorial demonstrates how to compute vertex-wise anatomical predictors that explain this spatial variability using `laMEG` utilities.\n"
      ]
    },
    {
      "cell_type": "markdown",
      "metadata": {},
      "source": [
        "## Compute anatomical features\n\n\n"
      ]
    },
    {
      "cell_type": "code",
      "execution_count": null,
      "metadata": {
        "collapsed": false
      },
      "outputs": [],
      "source": [
        "import os\nimport shutil\nimport tempfile\nfrom IPython.display import Image\nimport base64\n\nimport numpy as np\nfrom scipy.stats import zscore\nfrom lameg.invert import coregister, invert_ebb, get_lead_field_rms_diff\nfrom lameg.surf import LayerSurfaceSet\nfrom lameg.util import get_fiducial_coords\nfrom lameg.viz import show_surface, color_map\nimport spm_standalone\n\n# Subject information for data to use\nsubj_id = 'sub-104'\nses_id = 'ses-01'\n\n# Fiducial coil coordinates\nfid_coords = get_fiducial_coords(subj_id, '../test_data/participants.tsv')\n\n# Data file to base simulations on\ndata_file = os.path.join(\n    '../test_data',\n    subj_id,\n    'meg',\n    ses_id,\n    f'spm/spm-converted_autoreject-{subj_id}-{ses_id}-001-btn_trial-epo.mat'\n)\n\nspm = spm_standalone.initialize()"
      ]
    },
    {
      "cell_type": "markdown",
      "metadata": {},
      "source": [
        "We'll use a forward model using the multilayer mesh\n\n"
      ]
    },
    {
      "cell_type": "code",
      "execution_count": null,
      "metadata": {
        "collapsed": false
      },
      "outputs": [],
      "source": [
        "surf_set = LayerSurfaceSet(subj_id, 11)"
      ]
    },
    {
      "cell_type": "markdown",
      "metadata": {},
      "source": [
        "We're going to copy the data file to a temporary directory and direct all output there.\n\n"
      ]
    },
    {
      "cell_type": "code",
      "execution_count": null,
      "metadata": {
        "collapsed": false
      },
      "outputs": [],
      "source": [
        "# Extract base name and path of data file\ndata_path, data_file_name = os.path.split(data_file)\ndata_base = os.path.splitext(data_file_name)[0]\n\n# Where to put simulated data\ntmp_dir = tempfile.mkdtemp()\n\n# Copy data files to tmp directory\nshutil.copy(\n    os.path.join(data_path, f'{data_base}.mat'),\n    os.path.join(tmp_dir, f'{data_base}.mat')\n)\nshutil.copy(\n    os.path.join(data_path, f'{data_base}.dat'),\n    os.path.join(tmp_dir, f'{data_base}.dat')\n)\n\n# Construct base file name for simulations\nbase_fname = os.path.join(tmp_dir, f'{data_base}.mat')"
      ]
    },
    {
      "cell_type": "markdown",
      "metadata": {},
      "source": [
        "First we need to run source reconstruction in order to get the lead field information\n\n"
      ]
    },
    {
      "cell_type": "code",
      "execution_count": null,
      "metadata": {
        "collapsed": false
      },
      "outputs": [],
      "source": [
        "# Patch size to use for inversion (in this case it matches the simulated patch size)\npatch_size = 5\n# Number of temporal modes to use for EBB inversion\nn_temp_modes = 4\n\n# Coregister data to multilayer mesh\ncoregister(\n    fid_coords,\n    base_fname,\n    surf_set,\n    spm_instance=spm\n)\n\n# Run inversion\n[_,_] = invert_ebb(\n    base_fname,\n    surf_set,\n    patch_size=patch_size,\n    n_temp_modes=n_temp_modes,\n    spm_instance=spm\n)"
      ]
    },
    {
      "cell_type": "markdown",
      "metadata": {},
      "source": [
        "Compute vertex-wise anatomical predictors\n\n"
      ]
    },
    {
      "cell_type": "code",
      "execution_count": null,
      "metadata": {
        "collapsed": false
      },
      "outputs": [],
      "source": [
        "thickness    = surf_set.get_cortical_thickness()              # Cortical thickness (mm)\nlf_rms_diff  = get_lead_field_rms_diff(base_fname, surf_set)  # Lead-field variability across depth\norientations = surf_set.get_radiality_to_scalp()              # Column orientation relative to scalp\ndistances    = surf_set.get_distance_to_scalp()               # Cortical distance to scalp (mm)"
      ]
    },
    {
      "cell_type": "markdown",
      "metadata": {},
      "source": [
        "Each predictor captures a distinct anatomical constraint on laminar inference:\n\n"
      ]
    },
    {
      "cell_type": "markdown",
      "metadata": {},
      "source": [
        "**Cortical thickness:** thicker patches of cortices have more separable laminar fields.\n\n"
      ]
    },
    {
      "cell_type": "code",
      "execution_count": null,
      "metadata": {
        "collapsed": false
      },
      "outputs": [],
      "source": [
        "c_range = [np.percentile(thickness,1), np.percentile(thickness,99)]\n\n# Plot change in power on each surface\ncolors,_ = color_map(\n    thickness,\n    \"Spectral_r\",\n    c_range[0],\n    c_range[1],\n    norm='N'\n)\n\ncam_view = [335, 9.5, 51,\n            60, 37, 17,\n            0, 0, 1]\n\nplot = show_surface(\n    surf_set,\n    vertex_colors=colors,\n    info=True,\n    camera_view=cam_view\n)"
      ]
    },
    {
      "cell_type": "markdown",
      "metadata": {},
      "source": [
        "<img src=\"file://../_static/tutorial_07_thickness.png\" width=\"800\"\n   :alt:>\n\n"
      ]
    },
    {
      "cell_type": "markdown",
      "metadata": {},
      "source": [
        "**Lead-field RMS difference**: quantifies the difference in lead field patterns between the deepest and most superficial vertices; higher values indicate stronger layer separation.\n\n"
      ]
    },
    {
      "cell_type": "code",
      "execution_count": null,
      "metadata": {
        "collapsed": false
      },
      "outputs": [],
      "source": [
        "c_range = [np.percentile(lf_rms_diff,1), np.percentile(lf_rms_diff,99)]\n\n# Plot change in power on each surface\ncolors,_ = color_map(\n    lf_rms_diff,\n    \"Spectral_r\",\n    c_range[0],\n    c_range[1],\n    norm='N'\n)\n\ncam_view = [335, 9.5, 51,\n            60, 37, 17,\n            0, 0, 1]\n\nplot = show_surface(\n    surf_set,\n    vertex_colors=colors,\n    info=True,\n    camera_view=cam_view\n)"
      ]
    },
    {
      "cell_type": "markdown",
      "metadata": {},
      "source": [
        "<img src=\"file://../_static/tutorial_07_lf_rms_diff.png\" width=\"800\"\n   :alt:>\n\n"
      ]
    },
    {
      "cell_type": "markdown",
      "metadata": {},
      "source": [
        "**Orientation**: measures dipole alignment with scalp normals (1 = radial, 0 = tangential).\n\n"
      ]
    },
    {
      "cell_type": "code",
      "execution_count": null,
      "metadata": {
        "collapsed": false
      },
      "outputs": [],
      "source": [
        "c_range = [np.percentile(orientations,1), np.percentile(orientations,99)]\n\n# Plot change in power on each surface\ncolors,_ = color_map(\n    orientations,\n    \"Spectral_r\",\n    c_range[0],\n    c_range[1],\n    norm='N'\n)\n\ncam_view = [335, 9.5, 51,\n            60, 37, 17,\n            0, 0, 1]\n\nplot = show_surface(\n    surf_set,\n    vertex_colors=colors,\n    info=True,\n    camera_view=cam_view\n)"
      ]
    },
    {
      "cell_type": "markdown",
      "metadata": {},
      "source": [
        "<img src=\"file://../_static/tutorial_07_orientation.png\" width=\"800\"\n   :alt:>\n\n"
      ]
    },
    {
      "cell_type": "markdown",
      "metadata": {},
      "source": [
        "**Distance**: reflects the distance to the scalp\n\n"
      ]
    },
    {
      "cell_type": "code",
      "execution_count": null,
      "metadata": {
        "collapsed": false
      },
      "outputs": [],
      "source": [
        "c_range = [np.percentile(distances,1), np.percentile(distances,99)]\n\n# Plot change in power on each surface\ncolors,_ = color_map(\n    distances,\n    \"Spectral_r\",\n    c_range[0],\n    c_range[1],\n    norm='N'\n)\n\ncam_view = [335, 9.5, 51,\n            60, 37, 17,\n            0, 0, 1]\n\nplot = show_surface(\n    surf_set,\n    vertex_colors=colors,\n    info=True,\n    camera_view=cam_view\n)"
      ]
    },
    {
      "cell_type": "markdown",
      "metadata": {},
      "source": [
        "<img src=\"file://../_static/tutorial_07_distance.png\" width=\"800\"\n   :alt:>\n\n"
      ]
    },
    {
      "cell_type": "markdown",
      "metadata": {},
      "source": [
        "## Normalize and combine predictors\nTo assess joint contributions of these features, we standardize (z-score) each anatomical predictor and form a composite 'anatomical score':\n\n"
      ]
    },
    {
      "cell_type": "code",
      "execution_count": null,
      "metadata": {
        "collapsed": false
      },
      "outputs": [],
      "source": [
        "# Z-score normalization (invert distance since smaller = closer to sensors)\nz_thickness     = zscore(thickness)\nz_lf_rms_diff   = zscore(lf_rms_diff)\nz_orient    = zscore(orientations)\nz_inv_dist  = zscore(-distances)\n\n# Composite anatomical score\nanatomical_score = z_thickness + z_lf_rms_diff + z_orient + z_inv_dist\n\nc_range = [np.percentile(anatomical_score,1), np.percentile(anatomical_score,99)]\n\n# Plot change in power on each surface\ncolors,_ = color_map(\n    anatomical_score,\n    \"Spectral_r\",\n    c_range[0],\n    c_range[1],\n    norm='N'\n)\n\ncam_view = [335, 9.5, 51,\n            60, 37, 17,\n            0, 0, 1]\n\nplot = show_surface(\n    surf_set,\n    vertex_colors=colors,\n    info=True,\n    camera_view=cam_view\n)"
      ]
    },
    {
      "cell_type": "markdown",
      "metadata": {},
      "source": [
        "<img src=\"file://../_static/tutorial_07_anatomical_score.png\" width=\"800\"\n   :alt:>\n\n"
      ]
    },
    {
      "cell_type": "markdown",
      "metadata": {},
      "source": [
        "We can find the best vertex over the whole brain for laminar inference. It happens to be the same one we've been using in the tutorial simulations. Isn't that a coincidence!?\n\n"
      ]
    },
    {
      "cell_type": "code",
      "execution_count": null,
      "metadata": {
        "collapsed": false
      },
      "outputs": [],
      "source": [
        "# Vertex with maximal predicted laminar discriminability\nbest_vertex = np.argmax(anatomical_score)\nprint(f\"Highest anatomical score at vertex {best_vertex}\")"
      ]
    },
    {
      "cell_type": "markdown",
      "metadata": {},
      "source": [
        "## Interpretation\nVertices with higher anatomical_score values are predicted to yield more accurate laminar inference. That is, lower reconstruction error when differentiating deep vs. superficial sources. In Szul et al., 2025, this multivariate anatomical score closely paralleled empirical reconstruction accuracy maps, highlighting regions where laminar separation is anatomically favorable.\n\n## Selecting anatomical priors within a region of interest\nIn practical laminar inference, it is often desirable to constrain model comparison to a subset of vertices, e.g., within an anatomical ROI or around vertices showing maximal task-related power or signal amplitude.\nWithin such a region, the anatomical score can guide the choice of the most anatomically suitable prior location for laminar inference:\n\n"
      ]
    },
    {
      "cell_type": "code",
      "execution_count": null,
      "metadata": {
        "collapsed": false
      },
      "outputs": [],
      "source": [
        "# Among the vertex in roi_idx, select the vertex with the best anatomical suitability\ncandidate_anat_scores = anatomical_score[roi_idx]\nprior_idx = roi_idx[np.argmax(candidate_anat_scores)]"
      ]
    },
    {
      "cell_type": "code",
      "execution_count": null,
      "metadata": {
        "collapsed": false
      },
      "outputs": [],
      "source": [
        "spm.terminate()\n\n# Delete simulation files\nshutil.rmtree(tmp_dir)"
      ]
    }
  ],
  "metadata": {
    "kernelspec": {
      "display_name": "Python 3",
      "language": "python",
      "name": "python3"
    },
    "language_info": {
      "codemirror_mode": {
        "name": "ipython",
        "version": 3
      },
      "file_extension": ".py",
      "mimetype": "text/x-python",
      "name": "python",
      "nbconvert_exporter": "python",
      "pygments_lexer": "ipython3",
      "version": "3.7.16"
    }
  },
  "nbformat": 4,
  "nbformat_minor": 0
}