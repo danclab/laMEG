{
 "cells": [
  {
   "cell_type": "code",
   "execution_count": null,
   "id": "e1587455",
   "metadata": {},
   "outputs": [],
   "source": [
    "from pathlib import Path\n",
    "from lameg.util import get_directories, get_files, make_directory, check_many, fif_spm_conversion"
   ]
  },
  {
   "cell_type": "code",
   "execution_count": null,
   "id": "207511bc",
   "metadata": {},
   "outputs": [],
   "source": [
    "path = Path(\"/home/common/mszul/explicit_implicit_beta/\")\n",
    "exp_name = \"betarotate\""
   ]
  },
  {
   "cell_type": "markdown",
   "id": "f8803ee5",
   "metadata": {},
   "source": [
    "The appropriate \"*.res4\" file is necessary for the right conversion. Optimally try to find a raw recording the \"*.fif\" file was derived from.\n",
    "\n",
    "Here the use of the inbuilt file finding functions is demonstrated. All the \"*.res4\" files from the experiment were found in a specified main directory. Then the appropriate file was selected based on the subject ID and run."
   ]
  },
  {
   "cell_type": "code",
   "execution_count": null,
   "id": "fdbcf576",
   "metadata": {},
   "outputs": [],
   "source": [
    "raw_path = path.joinpath(\"derivatives/processed/sub-130/sub-130-002-raw.fif\")\n",
    "epo_path = path.joinpath(\"derivatives/processed/sub-130/sub-130-002-motor-epo.fif\")\n",
    "raw_ctf_path = path.joinpath(\"data/\")\n",
    "subject = raw_path.parts[-2]\n",
    "res4_files = get_files(raw_ctf_path, \"*.res4\", strings=[exp_name])\n",
    "res4_file = [i for i in res4_files if check_many(i.parts, subject, func=\"any\")][1]"
   ]
  },
  {
   "cell_type": "markdown",
   "id": "5188e965",
   "metadata": {},
   "source": [
    "A new directory has been created (with the path returned as a variable), along with the core name of the new file."
   ]
  },
  {
   "cell_type": "code",
   "execution_count": null,
   "id": "9af55ec0",
   "metadata": {},
   "outputs": [],
   "source": [
    "output_path = make_directory(Path.cwd(), subdirs=[\"output\"], check=True)\n",
    "output_name = epo_path.stem\n",
    "\n",
    "fif_spm_conversion(\n",
    "    epo_path, res4_file, output_path, \n",
    "    output_name, epoched=True\n",
    ")"
   ]
  },
  {
   "cell_type": "code",
   "execution_count": null,
   "id": "a0cc3345",
   "metadata": {},
   "outputs": [],
   "source": [
    "output_name = raw_path.stem\n",
    "\n",
    "fif_spm_conversion(\n",
    "    raw_path, res4_file, output_path, \n",
    "    output_name, epoched=False\n",
    ")"
   ]
  }
 ],
 "metadata": {
  "kernelspec": {
   "display_name": "Python 3",
   "language": "python",
   "name": "python3"
  },
  "language_info": {
   "codemirror_mode": {
    "name": "ipython",
    "version": 3
   },
   "file_extension": ".py",
   "mimetype": "text/x-python",
   "name": "python",
   "nbconvert_exporter": "python",
   "pygments_lexer": "ipython3",
   "version": "3.6.13"
  }
 },
 "nbformat": 4,
 "nbformat_minor": 5
}
