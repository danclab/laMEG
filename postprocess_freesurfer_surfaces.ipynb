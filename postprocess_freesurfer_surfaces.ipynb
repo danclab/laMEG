{
 "cells": [
  {
   "cell_type": "code",
   "execution_count": 1,
   "metadata": {},
   "outputs": [],
   "source": [
    "import os\n",
    "import sys\n",
    "import subprocess\n",
    "import numpy as np\n",
    "import nibabel as nib\n",
    "from surf import *"
   ]
  },
  {
   "cell_type": "code",
   "execution_count": 2,
   "metadata": {},
   "outputs": [
    {
     "name": "stdout",
     "output_type": "stream",
     "text": [
      "[ 2.02536 36.9153  16.8828 ]\n",
      "100.0% of the vertices in the decimated surface belong to the original surface.\n"
     ]
    }
   ],
   "source": [
    "postprocess_freesurfer_surfaces('sub-104',                                \n",
    "                                './test_output',\n",
    "                                'multilayer.2.ds.link_vector.gii',\n",
    "                                n_surfaces=2, \n",
    "                                ds_factor=0.1, \n",
    "                                orientation='link_vector', \n",
    "                                remove_deep=True)"
   ]
  },
  {
   "cell_type": "code",
   "execution_count": 3,
   "metadata": {},
   "outputs": [
    {
     "name": "stdout",
     "output_type": "stream",
     "text": [
      "[ 2.02536 36.9153  16.8828 ]\n",
      "100.0% of the vertices in the decimated surface belong to the original surface.\n"
     ]
    }
   ],
   "source": [
    "postprocess_freesurfer_surfaces('sub-104',                                \n",
    "                                './test_output',\n",
    "                                'multilayer.11.ds.link_vector.gii',\n",
    "                                n_surfaces=11, \n",
    "                                ds_factor=0.1, \n",
    "                                orientation='link_vector', \n",
    "                                remove_deep=True)"
   ]
  },
  {
   "cell_type": "code",
   "execution_count": 4,
   "metadata": {},
   "outputs": [
    {
     "name": "stdout",
     "output_type": "stream",
     "text": [
      "[ 2.02536 36.9153  16.8828 ]\n",
      "100.0% of the vertices in the decimated surface belong to the original surface.\n"
     ]
    }
   ],
   "source": [
    "postprocess_freesurfer_surfaces('sub-104',                                \n",
    "                                './test_output',\n",
    "                                'multilayer.32.ds.link_vector.gii',\n",
    "                                n_surfaces=32, \n",
    "                                ds_factor=0.1, \n",
    "                                orientation='link_vector', \n",
    "                                remove_deep=True)"
   ]
  },
  {
   "cell_type": "code",
   "execution_count": null,
   "metadata": {},
   "outputs": [],
   "source": []
  }
 ],
 "metadata": {
  "kernelspec": {
   "display_name": "megsurfer_matlab",
   "language": "python",
   "name": "megsurfer_matlab"
  },
  "language_info": {
   "codemirror_mode": {
    "name": "ipython",
    "version": 3
   },
   "file_extension": ".py",
   "mimetype": "text/x-python",
   "name": "python",
   "nbconvert_exporter": "python",
   "pygments_lexer": "ipython3",
   "version": "3.6.13"
  }
 },
 "nbformat": 4,
 "nbformat_minor": 4
}
