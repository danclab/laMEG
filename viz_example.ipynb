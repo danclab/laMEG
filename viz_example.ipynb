{
 "cells": [
  {
   "cell_type": "code",
   "execution_count": 1,
   "id": "f13020f1",
   "metadata": {},
   "outputs": [],
   "source": [
    "import numpy as np\n",
    "from viz import color_map, show_surface"
   ]
  },
  {
   "cell_type": "code",
   "execution_count": 2,
   "id": "6ed7d92d",
   "metadata": {},
   "outputs": [
    {
     "data": {
      "application/vnd.jupyter.widget-view+json": {
       "model_id": "3a42605645c64ba3b11e668c6a2db511",
       "version_major": 2,
       "version_minor": 0
      },
      "text/plain": [
       "Output()"
      ]
     },
     "metadata": {},
     "output_type": "display_data"
    },
    {
     "name": "stdout",
     "output_type": "stream",
     "text": [
      "file: /home/common/bonaiuto/multiburst/derivatives/processed/sub-004/multilayer_11/pial.ds.inflated.nodeep.gii\n",
      "31162 vertices\n"
     ]
    }
   ],
   "source": [
    "path = \"/home/common/bonaiuto/multiburst/derivatives/processed/sub-004/multilayer_11/pial.ds.inflated.nodeep.gii\"\n",
    "data = np.random.randint(-1000, 1000, 31162)\n",
    "colors, c_map = color_map(\n",
    "    data, \"RdYlBu_r\", data.min(), data.max()\n",
    ")\n",
    "show_surface(path, colors=colors, info=True)"
   ]
  },
  {
   "cell_type": "code",
   "execution_count": null,
   "id": "10363acc",
   "metadata": {},
   "outputs": [],
   "source": []
  }
 ],
 "metadata": {
  "kernelspec": {
   "display_name": "Python 3",
   "language": "python",
   "name": "python3"
  },
  "language_info": {
   "codemirror_mode": {
    "name": "ipython",
    "version": 3
   },
   "file_extension": ".py",
   "mimetype": "text/x-python",
   "name": "python",
   "nbconvert_exporter": "python",
   "pygments_lexer": "ipython3",
   "version": "3.6.13"
  }
 },
 "nbformat": 4,
 "nbformat_minor": 5
}
