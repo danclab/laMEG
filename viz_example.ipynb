{
 "cells": [
  {
   "cell_type": "code",
   "execution_count": 1,
   "id": "f13020f1",
   "metadata": {},
   "outputs": [],
   "source": [
    "import numpy as np\n",
    "import nibabel as nib\n",
    "from viz import color_map, show_surface"
   ]
  },
  {
   "cell_type": "code",
   "execution_count": 2,
   "id": "6ed7d92d",
   "metadata": {},
   "outputs": [
    {
     "data": {
      "application/vnd.jupyter.widget-view+json": {
       "model_id": "f8d7f0a40b034c40a42490165cd7bed5",
       "version_major": 2,
       "version_minor": 0
      },
      "text/plain": [
       "Output()"
      ]
     },
     "metadata": {},
     "output_type": "display_data"
    },
    {
     "name": "stdout",
     "output_type": "stream",
     "text": [
      "49742 vertices\n"
     ]
    }
   ],
   "source": [
    "path = \"./test_output/sub-104/pial.ds.gii\"\n",
    "surface = nib.load(path)\n",
    "try:\n",
    "    vertices, faces, _ = surface.agg_data()\n",
    "except:\n",
    "    vertices, faces = surface.agg_data()\n",
    "n_verts=vertices.shape[0]\n",
    "\n",
    "data = np.random.randint(-1000, 1000, n_verts)\n",
    "\n",
    "colors, c_map = color_map(\n",
    "    data, \"RdYlBu_r\", data.min(), data.max()\n",
    ")\n",
    "show_surface(surface, colors=colors, info=True)"
   ]
  },
  {
   "cell_type": "code",
   "execution_count": null,
   "id": "0e635317",
   "metadata": {},
   "outputs": [],
   "source": []
  }
 ],
 "metadata": {
  "kernelspec": {
   "display_name": "lameg",
   "language": "python",
   "name": "lameg"
  },
  "language_info": {
   "codemirror_mode": {
    "name": "ipython",
    "version": 3
   },
   "file_extension": ".py",
   "mimetype": "text/x-python",
   "name": "python",
   "nbconvert_exporter": "python",
   "pygments_lexer": "ipython3",
   "version": "3.6.13"
  }
 },
 "nbformat": 4,
 "nbformat_minor": 5
}
