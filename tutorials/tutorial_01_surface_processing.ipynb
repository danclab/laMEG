{
 "cells": [
  {
   "cell_type": "markdown",
   "metadata": {},
   "source": [
    "# Surface processing"
   ]
  },
  {
   "cell_type": "markdown",
   "metadata": {},
   "source": [
    "***Create layer surfaces***\n",
    "Uses FreeSurfer mris-inflate. Based on the number of surfaces you specify. Each will be approximately equidistant. Vertex correspondence is maintained, i.e each layer will have vertices along the vector connecting a white matter surface vertex with the corresponding pial surface vertex. Each surface will then be converted to gifti format and the vertex coordinates will adjusted by the RAS at the center of the volume to put them in native space."
   ]
  },
  {
   "cell_type": "code",
   "execution_count": 18,
   "metadata": {
    "scrolled": false
   },
   "outputs": [
    {
     "data": {
      "application/vnd.jupyter.widget-view+json": {
       "model_id": "7c618460d4fd4fa39aad41bd74f94d31",
       "version_major": 2,
       "version_minor": 0
      },
      "text/plain": [
       "Output()"
      ]
     },
     "metadata": {},
     "output_type": "display_data"
    },
    {
     "data": {
      "application/vnd.jupyter.widget-view+json": {
       "model_id": "0c2e68b95ef946f8a3ba76aaa620a211",
       "version_major": 2,
       "version_minor": 0
      },
      "text/plain": [
       "Output()"
      ]
     },
     "metadata": {},
     "output_type": "display_data"
    },
    {
     "data": {
      "application/vnd.jupyter.widget-view+json": {
       "model_id": "78b4059293a841b592576868d9b13d44",
       "version_major": 2,
       "version_minor": 0
      },
      "text/plain": [
       "Output()"
      ]
     },
     "metadata": {},
     "output_type": "display_data"
    },
    {
     "data": {
      "application/vnd.jupyter.widget-view+json": {
       "model_id": "f1e586344a69498d9502a2395602e373",
       "version_major": 2,
       "version_minor": 0
      },
      "text/plain": [
       "Output()"
      ]
     },
     "metadata": {},
     "output_type": "display_data"
    },
    {
     "data": {
      "application/vnd.jupyter.widget-view+json": {
       "model_id": "fecf24931ac149c6ae0e3dcb0cf05f26",
       "version_major": 2,
       "version_minor": 0
      },
      "text/plain": [
       "Output()"
      ]
     },
     "metadata": {},
     "output_type": "display_data"
    },
    {
     "data": {
      "application/vnd.jupyter.widget-view+json": {
       "model_id": "ddf2f7d5a7d14505afc653561a72a71e",
       "version_major": 2,
       "version_minor": 0
      },
      "text/plain": [
       "Output()"
      ]
     },
     "metadata": {},
     "output_type": "display_data"
    },
    {
     "data": {
      "application/vnd.jupyter.widget-view+json": {
       "model_id": "0e80312859a245eaaf60545421f00e38",
       "version_major": 2,
       "version_minor": 0
      },
      "text/plain": [
       "Output()"
      ]
     },
     "metadata": {},
     "output_type": "display_data"
    },
    {
     "data": {
      "application/vnd.jupyter.widget-view+json": {
       "model_id": "0fb954b4fde64292b72e9371b850d3b4",
       "version_major": 2,
       "version_minor": 0
      },
      "text/plain": [
       "Output()"
      ]
     },
     "metadata": {},
     "output_type": "display_data"
    },
    {
     "data": {
      "application/vnd.jupyter.widget-view+json": {
       "model_id": "842b0fdf635c42f68dc696db9b412ff3",
       "version_major": 2,
       "version_minor": 0
      },
      "text/plain": [
       "Output()"
      ]
     },
     "metadata": {},
     "output_type": "display_data"
    },
    {
     "data": {
      "application/vnd.jupyter.widget-view+json": {
       "model_id": "d2909ad0342b42aa9ef6fa22a2fe7d5a",
       "version_major": 2,
       "version_minor": 0
      },
      "text/plain": [
       "Output()"
      ]
     },
     "metadata": {},
     "output_type": "display_data"
    },
    {
     "data": {
      "application/vnd.jupyter.widget-view+json": {
       "model_id": "ec35306df916417196bd856839646149",
       "version_major": 2,
       "version_minor": 0
      },
      "text/plain": [
       "Output()"
      ]
     },
     "metadata": {},
     "output_type": "display_data"
    }
   ],
   "source": [
    "import os\n",
    "import numpy as np\n",
    "import nibabel as nib\n",
    "import k3d\n",
    "import matplotlib.pyplot as plt\n",
    "from lameg.viz import show_surface, rgbtoint\n",
    "\n",
    "# Get name of each mesh that makes up the layers of the multilayer mesh\n",
    "n_layers = 11\n",
    "layers = np.linspace(1, 0, n_layers)\n",
    "\n",
    "surf_path = '../test_data/sub-104/surf'\n",
    "layer_fnames = []\n",
    "for l, layer in enumerate(layers):\n",
    "    if layer == 1:\n",
    "        layer_fnames.append(os.path.join(surf_path, f'lh.pial.gii'))\n",
    "    elif layer > 0 and layer < 1:\n",
    "        layer_name = '{:.3f}'.format(layer)\n",
    "        layer_fnames.append(os.path.join(surf_path, f'lh.{layer_name}.gii'))\n",
    "    elif layer == 0:\n",
    "        layer_fnames.append(os.path.join(surf_path, f'lh.white.gii'))\n",
    "\n",
    "cam_view=[-143, 14, 31.5,\n",
    "          -32, 22.5, 38.5,\n",
    "          0, 0, 1]\n",
    "col_r = plt.cm.cool(np.linspace(0,1, num=n_layers))\n",
    "\n",
    "for l_idx,layer_fname in enumerate(layer_fnames):\n",
    "    mesh = nib.load(layer_fname)\n",
    "    plot = show_surface(mesh, camera_view=cam_view, color=col_r[l_idx,:3]*255, height=256)\n"
   ]
  },
  {
   "cell_type": "markdown",
   "metadata": {},
   "source": [
    "***Remove deep vertices***\n",
    "Freesurfer operates on hemispheres independently, resulting in deep vertices and mesh faces cutting through subcortical structures. These are removed because they are not part of the cortical source space. Any vertex not labelled or labelled as unknown in the Desikan-Killiany atlas are removed. This is applied to each hemisphere of each layer mesh."
   ]
  },
  {
   "cell_type": "markdown",
   "metadata": {},
   "source": [
    "****Before****"
   ]
  },
  {
   "cell_type": "code",
   "execution_count": 19,
   "metadata": {},
   "outputs": [
    {
     "data": {
      "application/vnd.jupyter.widget-view+json": {
       "model_id": "671db904e07c49828426de331e26b4a1",
       "version_major": 2,
       "version_minor": 0
      },
      "text/plain": [
       "Output()"
      ]
     },
     "metadata": {},
     "output_type": "display_data"
    }
   ],
   "source": [
    "surf_fname = os.path.join(surf_path, f'lh.pial.gii')\n",
    "\n",
    "cam_view=[110, 18, 36,\n",
    "          -32, 22, 42,\n",
    "          0, 0, 1]\n",
    "col_r = plt.cm.cool(np.linspace(0,1, num=n_layers))\n",
    "\n",
    "mesh = nib.load(surf_fname)\n",
    "plot = show_surface(mesh, camera_view=cam_view, color=col_r[0,:3]*255)"
   ]
  },
  {
   "cell_type": "markdown",
   "metadata": {},
   "source": [
    "****After****"
   ]
  },
  {
   "cell_type": "code",
   "execution_count": 20,
   "metadata": {},
   "outputs": [
    {
     "data": {
      "application/vnd.jupyter.widget-view+json": {
       "model_id": "c43c66a5a078423db95d2a6fcdec701d",
       "version_major": 2,
       "version_minor": 0
      },
      "text/plain": [
       "Output()"
      ]
     },
     "metadata": {},
     "output_type": "display_data"
    }
   ],
   "source": [
    "surf_fname = os.path.join(surf_path, f'lh.pial.nodeep.gii')\n",
    "\n",
    "mesh = nib.load(surf_fname)\n",
    "plot = show_surface(mesh, camera_view=cam_view, color=col_r[0,:3]*255)"
   ]
  },
  {
   "cell_type": "markdown",
   "metadata": {},
   "source": [
    "***Combine hemispheres***\n",
    "The left and right hemisphere meshes are combined by concatenation of their vertices and faces (left then right). No new faces are created. This is done for each layer."
   ]
  },
  {
   "cell_type": "code",
   "execution_count": 21,
   "metadata": {},
   "outputs": [
    {
     "data": {
      "application/vnd.jupyter.widget-view+json": {
       "model_id": "2f16bbbed87042119fa2ec9e3cb3a34f",
       "version_major": 2,
       "version_minor": 0
      },
      "text/plain": [
       "Output()"
      ]
     },
     "metadata": {},
     "output_type": "display_data"
    }
   ],
   "source": [
    "surf_fname = os.path.join(surf_path, f'pial.gii')\n",
    "\n",
    "cam_view=[13, 64, 217,\n",
    "          21, 21, 33,\n",
    "          0, 1, 0]\n",
    "col_r = plt.cm.cool(np.linspace(0,1, num=n_layers))\n",
    "\n",
    "mesh = nib.load(surf_fname)\n",
    "plot = show_surface(mesh, camera_view=cam_view, color=col_r[0,:3]*255)"
   ]
  },
  {
   "cell_type": "markdown",
   "metadata": {},
   "source": [
    "***Downsample***\n",
    "The surfaces are much too dense to use in source reconstruction. They must be downsampled, but we must maintain vertex correspondence between them (see [Bonaiuto et al. 2020, Estimates of cortical column orientation improve MEG source inversion](https://doi.org/10.1016/j.neuroimage.2020.116862)). The pial surface is therefore downsampled by a factor of 10 using the vtkDecimatePro algorithm, which only removes vertices rather than creating new ones. The removed vertices are also removed from each other layer mesh, and the face structure from the pial mesh is copied to them (though the faces are not used in the source reconstruction if link vector orientations are used)."
   ]
  },
  {
   "cell_type": "code",
   "execution_count": 22,
   "metadata": {},
   "outputs": [
    {
     "data": {
      "application/vnd.jupyter.widget-view+json": {
       "model_id": "2a5406ffb6a04544b86f7bf084c65a73",
       "version_major": 2,
       "version_minor": 0
      },
      "text/plain": [
       "Output()"
      ]
     },
     "metadata": {},
     "output_type": "display_data"
    }
   ],
   "source": [
    "surf_fname = os.path.join(surf_path, f'pial.ds.link_vector.fixed.gii')\n",
    "\n",
    "cam_view=[13, 64, 217,\n",
    "          21, 21, 33,\n",
    "          0, 1, 0]\n",
    "col_r = plt.cm.cool(np.linspace(0,1, num=n_layers))\n",
    "\n",
    "mesh = nib.load(surf_fname)\n",
    "plot = show_surface(mesh, camera_view=cam_view, color=col_r[0,:3]*255)"
   ]
  },
  {
   "cell_type": "markdown",
   "metadata": {},
   "source": [
    "***Compute link vectors***\n",
    "The dipole orientation at each source location is computed. Downsampled surface normals, original surface normals, cortical patch statistics, or link vectors can be specified (see [Bonaiuto et al. 2020, Estimates of cortical column orientation improve MEG source inversion](https://doi.org/10.1016/j.neuroimage.2020.116862)). The first three compute vertex normals based on the orientation of the surrounding faces. They can be either computed separately for each layer, or the pial surface orientations can be used for all layers. The link vectors method computes vectors connecting corresponding pial and white matter vertices (pointing toward the white matter), which are therefore the same across layer. The orientation vectors are stored in the normals attribute of the gifti object."
   ]
  },
  {
   "cell_type": "code",
   "execution_count": 23,
   "metadata": {},
   "outputs": [
    {
     "data": {
      "application/vnd.jupyter.widget-view+json": {
       "model_id": "969bf4732af947878249fc85a1d7134f",
       "version_major": 2,
       "version_minor": 0
      },
      "text/plain": [
       "Output()"
      ]
     },
     "metadata": {},
     "output_type": "display_data"
    }
   ],
   "source": [
    "plot = k3d.plot(\n",
    "    grid_visible=False, menu_visibility=False, camera_auto_fit=False\n",
    ")\n",
    "pial_fname = os.path.join(surf_path, f'pial.ds.link_vector.fixed.gii')\n",
    "pial_surf = nib.load(pial_fname)\n",
    "pial_vertices, pial_faces, _ = pial_surf.agg_data()\n",
    "\n",
    "white_fname = os.path.join(surf_path, f'white.ds.link_vector.fixed.gii')\n",
    "white_surf = nib.load(white_fname)\n",
    "white_vertices, white_faces, _ = white_surf.agg_data()\n",
    "\n",
    "cam_view=[70, 40.5, 76.5,\n",
    "          22.5, 26, 73.5,\n",
    "          0, 0, 1]\n",
    "col_r = plt.cm.cool(np.linspace(0,1, num=n_layers))\n",
    "\n",
    "pial_mesh = k3d.mesh(pial_vertices, pial_faces, side=\"double\", color=rgbtoint(col_r[0,:3]*255), opacity=0.5)\n",
    "plot += pial_mesh\n",
    "\n",
    "white_mesh = k3d.mesh(white_vertices, white_faces, side=\"double\", color=rgbtoint(col_r[-1,:3]*255), opacity=1)\n",
    "plot += white_mesh\n",
    "\n",
    "dipole_vectors = k3d.vectors(\n",
    "    white_vertices,\n",
    "    vectors=pial_vertices - white_vertices,\n",
    "    head_size=5,\n",
    "    line_width=0.1\n",
    ")\n",
    "plot += dipole_vectors\n",
    "\n",
    "plot.camera=cam_view\n",
    "\n",
    "plot.display()"
   ]
  },
  {
   "cell_type": "markdown",
   "metadata": {},
   "source": [
    "***Combine layers***\n",
    "The layer meshes are then combined into a single mesh by concatenating their vertices and faces (from pial to white matter). No new faces are created (i.e. there are no edges connecting vertices across layers)"
   ]
  },
  {
   "cell_type": "code",
   "execution_count": 24,
   "metadata": {},
   "outputs": [
    {
     "data": {
      "application/vnd.jupyter.widget-view+json": {
       "model_id": "eee7f5afac52403f93d205bef6919e8a",
       "version_major": 2,
       "version_minor": 0
      },
      "text/plain": [
       "Output()"
      ]
     },
     "metadata": {},
     "output_type": "display_data"
    }
   ],
   "source": [
    "layer_fnames = []\n",
    "for l, layer in enumerate(layers):\n",
    "    if layer == 1:\n",
    "        layer_fnames.append(os.path.join(surf_path, f'pial.ds.link_vector.fixed.gii'))\n",
    "    elif layer > 0 and layer < 1:\n",
    "        layer_name = '{:.3f}'.format(layer)\n",
    "        layer_fnames.append(os.path.join(surf_path, f'{layer_name}.ds.link_vector.fixed.gii'))\n",
    "    elif layer == 0:\n",
    "        layer_fnames.append(os.path.join(surf_path, f'white.ds.link_vector.fixed.gii'))\n",
    "\n",
    "col_r = plt.cm.cool(np.linspace(0,1, num=n_layers+1))\n",
    "\n",
    "plot = k3d.plot(\n",
    "    grid_visible=False, menu_visibility=False, camera_auto_fit=False\n",
    ")\n",
    "\n",
    "for l_idx,layer_fname in enumerate(layer_fnames):\n",
    "    surface = nib.load(layer_fname)\n",
    "    vertices, faces, _ = surface.agg_data()\n",
    "    \n",
    "    mesh = k3d.mesh(vertices, faces, side=\"double\", color=rgbtoint(col_r[l_idx,:3]*255), opacity=l_idx/(n_layers-1))\n",
    "    plot += mesh\n",
    "    \n",
    "plot.camera=cam_view\n",
    "\n",
    "plot.display()"
   ]
  },
  {
   "cell_type": "markdown",
   "metadata": {},
   "source": [
    "# Putting it all together\n",
    "All of these steps can be run using the function:\n",
    "> postprocess_freesurfer_surfaces"
   ]
  },
  {
   "cell_type": "code",
   "execution_count": 1,
   "metadata": {},
   "outputs": [],
   "source": [
    "from lameg.surf import postprocess_freesurfer_surfaces"
   ]
  },
  {
   "cell_type": "code",
   "execution_count": 2,
   "metadata": {},
   "outputs": [
    {
     "name": "stdout",
     "output_type": "stream",
     "text": [
      "env: SUBJECTS_DIR=../test_data/fs\n"
     ]
    }
   ],
   "source": [
    "%env SUBJECTS_DIR=../test_data/fs"
   ]
  },
  {
   "cell_type": "code",
   "execution_count": null,
   "metadata": {},
   "outputs": [
    {
     "name": "stdout",
     "output_type": "stream",
     "text": [
      "[ 2.02536 36.9153  16.8828 ]\n",
      "100.0% of the vertices in the decimated surface belong to the original surface.\n"
     ]
    }
   ],
   "source": [
    "# Create a 2-layer surface (only pial and white)\n",
    "postprocess_freesurfer_surfaces(\n",
    "    'sub-104',                                \n",
    "    '../test_data/sub-104/surf', \n",
    "    'multilayer.2.ds.link_vector.fixed.gii',                                \n",
    "    n_surfaces=2,                                 \n",
    "    ds_factor=0.1,                                 \n",
    "    orientation='link_vector',                                 \n",
    "    remove_deep=True\n",
    ")"
   ]
  },
  {
   "cell_type": "code",
   "execution_count": 2,
   "metadata": {},
   "outputs": [
    {
     "name": "stdout",
     "output_type": "stream",
     "text": [
      "[ 2.02536 36.9153  16.8828 ]\n",
      "100.0% of the vertices in the decimated surface belong to the original surface.\n"
     ]
    }
   ],
   "source": [
    "# Create an 11-layer surface\n",
    "postprocess_freesurfer_surfaces(\n",
    "    'sub-104',                                \n",
    "    '../test_data/sub-104/surf', \n",
    "    'multilayer.11.ds.link_vector.fixed.gii',\n",
    "    n_surfaces=11, \n",
    "    ds_factor=0.1, \n",
    "    orientation='link_vector', \n",
    "    remove_deep=True\n",
    ")"
   ]
  },
  {
   "cell_type": "code",
   "execution_count": 5,
   "metadata": {},
   "outputs": [
    {
     "name": "stdout",
     "output_type": "stream",
     "text": [
      "[ 2.02536 36.9153  16.8828 ]\n",
      "100.0% of the vertices in the decimated surface belong to the original surface.\n"
     ]
    }
   ],
   "source": [
    "# Create a 15-layer surface\n",
    "postprocess_freesurfer_surfaces(\n",
    "    'sub-104',                                \n",
    "    '../test_data/sub-104/surf', \n",
    "    'multilayer.15.ds.link_vector.fixed.gii',\n",
    "    n_surfaces=15, \n",
    "    ds_factor=0.1, \n",
    "    orientation='link_vector', \n",
    "    remove_deep=True\n",
    ")"
   ]
  },
  {
   "cell_type": "code",
   "execution_count": null,
   "metadata": {},
   "outputs": [],
   "source": []
  }
 ],
 "metadata": {
  "kernelspec": {
   "display_name": "lameg",
   "language": "python",
   "name": "lameg"
  },
  "language_info": {
   "codemirror_mode": {
    "name": "ipython",
    "version": 3
   },
   "file_extension": ".py",
   "mimetype": "text/x-python",
   "name": "python",
   "nbconvert_exporter": "python",
   "pygments_lexer": "ipython3",
   "version": "3.7.16"
  }
 },
 "nbformat": 4,
 "nbformat_minor": 4
}
