{
 "cells": [
  {
   "cell_type": "markdown",
   "metadata": {},
   "source": [
    "# Surface processing"
   ]
  },
  {
   "cell_type": "markdown",
   "metadata": {},
   "source": [
    "***Create layer surfaces***\n",
    "Uses FreeSurfer mris-inflate. Based on the number of surfaces you specify. Each will be approximately equidistant. Vertex correspondence is maintained, i.e each layer will have vertices along the vector connecting a white matter surface vertex with the corresponding pial surface vertex. Each surface will then be converted to gifti format and the vertex coordinates will adjusted by the RAS at the center of the volume to put them in native space."
   ]
  },
  {
   "cell_type": "code",
   "execution_count": 13,
   "metadata": {
    "scrolled": false
   },
   "outputs": [
    {
     "data": {
      "application/vnd.jupyter.widget-view+json": {
       "model_id": "33dd468a5e654dc6ae3606afe648c3ab",
       "version_major": 2,
       "version_minor": 0
      },
      "text/plain": [
       "Output()"
      ]
     },
     "metadata": {},
     "output_type": "display_data"
    },
    {
     "data": {
      "application/vnd.jupyter.widget-view+json": {
       "model_id": "6270e650518047798083b1295ff1461a",
       "version_major": 2,
       "version_minor": 0
      },
      "text/plain": [
       "Output()"
      ]
     },
     "metadata": {},
     "output_type": "display_data"
    },
    {
     "data": {
      "application/vnd.jupyter.widget-view+json": {
       "model_id": "30ac98ad5581465c88a185844fd51e11",
       "version_major": 2,
       "version_minor": 0
      },
      "text/plain": [
       "Output()"
      ]
     },
     "metadata": {},
     "output_type": "display_data"
    },
    {
     "data": {
      "application/vnd.jupyter.widget-view+json": {
       "model_id": "f0557eecb53d4d549cb43352e561ce72",
       "version_major": 2,
       "version_minor": 0
      },
      "text/plain": [
       "Output()"
      ]
     },
     "metadata": {},
     "output_type": "display_data"
    },
    {
     "data": {
      "application/vnd.jupyter.widget-view+json": {
       "model_id": "980350134f32425c83c0bbbc0aa8bd32",
       "version_major": 2,
       "version_minor": 0
      },
      "text/plain": [
       "Output()"
      ]
     },
     "metadata": {},
     "output_type": "display_data"
    },
    {
     "data": {
      "application/vnd.jupyter.widget-view+json": {
       "model_id": "40bde5177616438291eb3a9a76901fb2",
       "version_major": 2,
       "version_minor": 0
      },
      "text/plain": [
       "Output()"
      ]
     },
     "metadata": {},
     "output_type": "display_data"
    },
    {
     "data": {
      "application/vnd.jupyter.widget-view+json": {
       "model_id": "44a264a313dc478e9b09003c966e3304",
       "version_major": 2,
       "version_minor": 0
      },
      "text/plain": [
       "Output()"
      ]
     },
     "metadata": {},
     "output_type": "display_data"
    },
    {
     "data": {
      "application/vnd.jupyter.widget-view+json": {
       "model_id": "f600137322944e7f804c0aa8b133ff47",
       "version_major": 2,
       "version_minor": 0
      },
      "text/plain": [
       "Output()"
      ]
     },
     "metadata": {},
     "output_type": "display_data"
    },
    {
     "data": {
      "application/vnd.jupyter.widget-view+json": {
       "model_id": "d7c8245788c84d02a1f56372c08ec9d1",
       "version_major": 2,
       "version_minor": 0
      },
      "text/plain": [
       "Output()"
      ]
     },
     "metadata": {},
     "output_type": "display_data"
    },
    {
     "data": {
      "application/vnd.jupyter.widget-view+json": {
       "model_id": "9efcc8a6da3541e0b22a01ad77517b36",
       "version_major": 2,
       "version_minor": 0
      },
      "text/plain": [
       "Output()"
      ]
     },
     "metadata": {},
     "output_type": "display_data"
    },
    {
     "data": {
      "application/vnd.jupyter.widget-view+json": {
       "model_id": "baf7a9e0a80f4d579b117107eafcf14f",
       "version_major": 2,
       "version_minor": 0
      },
      "text/plain": [
       "Output()"
      ]
     },
     "metadata": {},
     "output_type": "display_data"
    }
   ],
   "source": [
    "import os\n",
    "import numpy as np\n",
    "import nibabel as nib\n",
    "import k3d\n",
    "import matplotlib.pyplot as plt\n",
    "from lameg.viz import show_surface, rgbtoint\n",
    "\n",
    "# Get name of each mesh that makes up the layers of the multilayer mesh\n",
    "n_layers = 11\n",
    "layers = np.linspace(1, 0, n_layers)\n",
    "\n",
    "surf_path = '../test_data/sub-104/surf'\n",
    "layer_fnames = []\n",
    "for l, layer in enumerate(layers):\n",
    "    if layer == 1:\n",
    "        layer_fnames.append(os.path.join(surf_path, f'lh.pial.gii'))\n",
    "    elif layer > 0 and layer < 1:\n",
    "        layer_name = '{:.3f}'.format(layer)\n",
    "        layer_fnames.append(os.path.join(surf_path, f'lh.{layer_name}.gii'))\n",
    "    elif layer == 0:\n",
    "        layer_fnames.append(os.path.join(surf_path, f'lh.white.gii'))\n",
    "\n",
    "cam_view=[-143, 14, 31.5,\n",
    "          -32, 22.5, 38.5,\n",
    "          0, 0, 1]\n",
    "col_r = plt.cm.cool(np.linspace(0,1, num=n_layers))\n",
    "\n",
    "for l_idx,layer_fname in enumerate(layer_fnames):\n",
    "    mesh = nib.load(layer_fname)\n",
    "    plot = show_surface(mesh, camera_view=cam_view, color=col_r[l_idx,:3]*255, height=256)\n"
   ]
  },
  {
   "cell_type": "markdown",
   "metadata": {},
   "source": [
    "***Remove deep vertices***\n",
    "Freesurfer operates on hemispheres independently, resulting in deep vertices and mesh faces cutting through subcortical structures. These are removed because they are not part of the cortical source space. Any vertex not labelled or labelled as unknown in the Desikan-Killiany atlas are removed. This is applied to each hemisphere of each layer mesh."
   ]
  },
  {
   "cell_type": "markdown",
   "metadata": {},
   "source": [
    "****Before****"
   ]
  },
  {
   "cell_type": "code",
   "execution_count": 14,
   "metadata": {},
   "outputs": [
    {
     "data": {
      "application/vnd.jupyter.widget-view+json": {
       "model_id": "b08597c25a134b6ca4f59f9410de887c",
       "version_major": 2,
       "version_minor": 0
      },
      "text/plain": [
       "Output()"
      ]
     },
     "metadata": {},
     "output_type": "display_data"
    }
   ],
   "source": [
    "surf_fname = os.path.join(surf_path, f'lh.pial.gii')\n",
    "\n",
    "cam_view=[110, 18, 36,\n",
    "          -32, 22, 42,\n",
    "          0, 0, 1]\n",
    "col_r = plt.cm.cool(np.linspace(0,1, num=n_layers))\n",
    "\n",
    "mesh = nib.load(surf_fname)\n",
    "plot = show_surface(mesh, camera_view=cam_view, color=col_r[0,:3]*255)"
   ]
  },
  {
   "cell_type": "markdown",
   "metadata": {},
   "source": [
    "****After****"
   ]
  },
  {
   "cell_type": "code",
   "execution_count": 15,
   "metadata": {},
   "outputs": [
    {
     "data": {
      "application/vnd.jupyter.widget-view+json": {
       "model_id": "c6387623034242a1b48fc6d39bbcb2f0",
       "version_major": 2,
       "version_minor": 0
      },
      "text/plain": [
       "Output()"
      ]
     },
     "metadata": {},
     "output_type": "display_data"
    }
   ],
   "source": [
    "surf_fname = os.path.join(surf_path, f'lh.pial.nodeep.gii')\n",
    "\n",
    "mesh = nib.load(surf_fname)\n",
    "plot = show_surface(mesh, camera_view=cam_view, color=col_r[0,:3]*255)"
   ]
  },
  {
   "cell_type": "markdown",
   "metadata": {},
   "source": [
    "***Combine hemispheres***\n",
    "The left and right hemisphere meshes are combined by concatenation of their vertices and faces (left then right). No new faces are created. This is done for each layer."
   ]
  },
  {
   "cell_type": "code",
   "execution_count": 16,
   "metadata": {},
   "outputs": [
    {
     "data": {
      "application/vnd.jupyter.widget-view+json": {
       "model_id": "408995a239f443ae8054e7867c734f34",
       "version_major": 2,
       "version_minor": 0
      },
      "text/plain": [
       "Output()"
      ]
     },
     "metadata": {},
     "output_type": "display_data"
    }
   ],
   "source": [
    "surf_fname = os.path.join(surf_path, f'pial.gii')\n",
    "\n",
    "cam_view=[13, 64, 217,\n",
    "          21, 21, 33,\n",
    "          0, 1, 0]\n",
    "col_r = plt.cm.cool(np.linspace(0,1, num=n_layers))\n",
    "\n",
    "mesh = nib.load(surf_fname)\n",
    "plot = show_surface(mesh, camera_view=cam_view, color=col_r[0,:3]*255)"
   ]
  },
  {
   "cell_type": "markdown",
   "metadata": {},
   "source": [
    "***Downsample***\n",
    "The surfaces are much too dense to use in source reconstruction. They must be downsampled, but we must maintain vertex correspondence between them (see [Bonaiuto et al. 2020, Estimates of cortical column orientation improve MEG source inversion](https://doi.org/10.1016/j.neuroimage.2020.116862)). The pial surface is therefore downsampled by a factor of 10 using the vtkDecimatePro algorithm, which only removes vertices rather than creating new ones. The removed vertices are also removed from each other layer mesh, and the face structure from the pial mesh is copied to them (though the faces are not used in the source reconstruction if link vector orientations are used)."
   ]
  },
  {
   "cell_type": "code",
   "execution_count": 5,
   "metadata": {},
   "outputs": [
    {
     "data": {
      "application/vnd.jupyter.widget-view+json": {
       "model_id": "925f22ed9060448f8d3de14a921f82fc",
       "version_major": 2,
       "version_minor": 0
      },
      "text/plain": [
       "Output()"
      ]
     },
     "metadata": {},
     "output_type": "display_data"
    }
   ],
   "source": [
    "surf_fname = os.path.join(surf_path, f'pial.ds.link_vector.fixed.gii')\n",
    "\n",
    "cam_view=[13, 64, 217,\n",
    "          21, 21, 33,\n",
    "          0, 1, 0]\n",
    "col_r = plt.cm.cool(np.linspace(0,1, num=n_layers))\n",
    "\n",
    "mesh = nib.load(surf_fname)\n",
    "plot = show_surface(mesh, camera_view=cam_view, color=col_r[0,:3]*255)"
   ]
  },
  {
   "cell_type": "markdown",
   "metadata": {},
   "source": [
    "***Compute link vectors***\n",
    "The dipole orientation at each source location is computed. Downsampled surface normals, original surface normals, cortical patch statistics, or link vectors can be specified (see [Bonaiuto et al. 2020, Estimates of cortical column orientation improve MEG source inversion](https://doi.org/10.1016/j.neuroimage.2020.116862)). The first three compute vertex normals based on the orientation of the surrounding faces. They can be either computed separately for each layer, or the pial surface orientations can be used for all layers. The link vectors method computes vectors connecting corresponding pial and white matter vertices (pointing toward the white matter), which are therefore the same across layer. The orientation vectors are stored in the normals attribute of the gifti object."
   ]
  },
  {
   "cell_type": "code",
   "execution_count": 17,
   "metadata": {},
   "outputs": [
    {
     "data": {
      "application/vnd.jupyter.widget-view+json": {
       "model_id": "245ba9578e97471da61b5e975a1c78ef",
       "version_major": 2,
       "version_minor": 0
      },
      "text/plain": [
       "Output()"
      ]
     },
     "metadata": {},
     "output_type": "display_data"
    }
   ],
   "source": [
    "plot = k3d.plot(\n",
    "    grid_visible=False, menu_visibility=False, camera_auto_fit=False\n",
    ")\n",
    "pial_fname = os.path.join(surf_path, f'pial.ds.link_vector.fixed.gii')\n",
    "pial_surf = nib.load(pial_fname)\n",
    "pial_vertices, pial_faces, _ = pial_surf.agg_data()\n",
    "\n",
    "white_fname = os.path.join(surf_path, f'white.ds.link_vector.fixed.gii')\n",
    "white_surf = nib.load(white_fname)\n",
    "white_vertices, white_faces, _ = white_surf.agg_data()\n",
    "\n",
    "cam_view=[70, 40.5, 76.5,\n",
    "          22.5, 26, 73.5,\n",
    "          0, 0, 1]\n",
    "col_r = plt.cm.cool(np.linspace(0,1, num=n_layers))\n",
    "\n",
    "pial_mesh = k3d.mesh(pial_vertices, pial_faces, side=\"double\", color=rgbtoint(col_r[0,:3]*255), opacity=0.5)\n",
    "plot += pial_mesh\n",
    "\n",
    "white_mesh = k3d.mesh(white_vertices, white_faces, side=\"double\", color=rgbtoint(col_r[-1,:3]*255), opacity=1)\n",
    "plot += white_mesh\n",
    "\n",
    "dipole_vectors = k3d.vectors(\n",
    "    white_vertices,\n",
    "    vectors=pial_vertices - white_vertices,\n",
    "    head_size=5,\n",
    "    line_width=0.1\n",
    ")\n",
    "plot += dipole_vectors\n",
    "\n",
    "plot.camera=cam_view\n",
    "\n",
    "plot.display()"
   ]
  },
  {
   "cell_type": "markdown",
   "metadata": {},
   "source": [
    "***Combine layers***\n",
    "The layer meshes are then combined into a single mesh by concatenating their vertices and faces (from pial to white matter). No new faces are created (i.e. there are no edges connecting vertices across layers)"
   ]
  },
  {
   "cell_type": "code",
   "execution_count": 18,
   "metadata": {},
   "outputs": [
    {
     "data": {
      "application/vnd.jupyter.widget-view+json": {
       "model_id": "784fb5f5cf5343168cf5aa784d80233c",
       "version_major": 2,
       "version_minor": 0
      },
      "text/plain": [
       "Output()"
      ]
     },
     "metadata": {},
     "output_type": "display_data"
    }
   ],
   "source": [
    "layer_fnames = []\n",
    "for l, layer in enumerate(layers):\n",
    "    if layer == 1:\n",
    "        layer_fnames.append(os.path.join(surf_path, f'pial.ds.link_vector.fixed.gii'))\n",
    "    elif layer > 0 and layer < 1:\n",
    "        layer_name = '{:.3f}'.format(layer)\n",
    "        layer_fnames.append(os.path.join(surf_path, f'{layer_name}.ds.link_vector.fixed.gii'))\n",
    "    elif layer == 0:\n",
    "        layer_fnames.append(os.path.join(surf_path, f'white.ds.link_vector.fixed.gii'))\n",
    "\n",
    "col_r = plt.cm.cool(np.linspace(0,1, num=n_layers+1))\n",
    "\n",
    "plot = k3d.plot(\n",
    "    grid_visible=False, menu_visibility=False, camera_auto_fit=False\n",
    ")\n",
    "\n",
    "for l_idx,layer_fname in enumerate(layer_fnames):\n",
    "    surface = nib.load(layer_fname)\n",
    "    vertices, faces, _ = surface.agg_data()\n",
    "    \n",
    "    mesh = k3d.mesh(vertices, faces, side=\"double\", color=rgbtoint(col_r[l_idx,:3]*255), opacity=l_idx/(n_layers-1))\n",
    "    plot += mesh\n",
    "    \n",
    "plot.camera=cam_view\n",
    "\n",
    "plot.display()"
   ]
  },
  {
   "cell_type": "markdown",
   "metadata": {},
   "source": [
    "# Putting it all together\n",
    "All of these steps can be run using the function:\n",
    "> postprocess_freesurfer_surfaces"
   ]
  },
  {
   "cell_type": "code",
   "execution_count": 8,
   "metadata": {},
   "outputs": [],
   "source": [
    "from lameg.surf import postprocess_freesurfer_surfaces"
   ]
  },
  {
   "cell_type": "code",
   "execution_count": 9,
   "metadata": {},
   "outputs": [
    {
     "name": "stdout",
     "output_type": "stream",
     "text": [
      "env: SUBJECTS_DIR=../test_data/fs\n"
     ]
    }
   ],
   "source": [
    "%env SUBJECTS_DIR=../test_data/fs"
   ]
  },
  {
   "cell_type": "code",
   "execution_count": 10,
   "metadata": {},
   "outputs": [
    {
     "name": "stdout",
     "output_type": "stream",
     "text": [
      "[ 2.02536 36.9153  16.8828 ]\n",
      "Saving ../test_data/sub-104/surf/lh.pial.gii as a surface\n",
      "Saving ../test_data/sub-104/surf/rh.pial.gii as a surface\n",
      "Saving ../test_data/sub-104/surf/lh.white.gii as a surface\n",
      "Saving ../test_data/sub-104/surf/rh.white.gii as a surface\n",
      "Saving ../test_data/sub-104/surf/lh.inflated.gii as a surface\n",
      "Saving ../test_data/sub-104/surf/rh.inflated.gii as a surface\n",
      "100.0% of the vertices in the decimated surface belong to the original surface.\n"
     ]
    }
   ],
   "source": [
    "# Create a 2-layer surface (only pial and white)\n",
    "postprocess_freesurfer_surfaces(\n",
    "    'sub-104',                                \n",
    "    '../test_data/sub-104/surf', \n",
    "    'multilayer.2.ds.link_vector.fixed.gii',                                \n",
    "    n_surfaces=2,                                 \n",
    "    ds_factor=0.1,                                 \n",
    "    orientation='link_vector',                                 \n",
    "    remove_deep=True\n",
    ")"
   ]
  },
  {
   "cell_type": "code",
   "execution_count": 11,
   "metadata": {},
   "outputs": [
    {
     "name": "stdout",
     "output_type": "stream",
     "text": [
      "using distance as a % of thickness\n",
      "expanding surface ../test_data/fs/sub-104/surf/lh.white by 90.0% of thickness and writing it to ../test_data/fs/sub-104/surf/lh.0.900\n",
      "reading thickness...\n",
      "using distance as a % of thickness\n",
      "expanding surface ../test_data/fs/sub-104/surf/lh.white by 70.0% of thickness and writing it to ../test_data/fs/sub-104/surf/lh.0.700\n",
      "reading thickness...\n",
      "using distance as a % of thickness\n",
      "expanding surface ../test_data/fs/sub-104/surf/lh.white by 40.0% of thickness and writing it to ../test_data/fs/sub-104/surf/lh.0.400\n",
      "reading thickness...\n",
      "using distance as a % of thickness\n",
      "expanding surface ../test_data/fs/sub-104/surf/lh.white by 30.0% of thickness and writing it to ../test_data/fs/sub-104/surf/lh.0.300\n",
      "reading thickness...\n",
      "using distance as a % of thickness\n",
      "expanding surface ../test_data/fs/sub-104/surf/lh.white by 80.0% of thickness and writing it to ../test_data/fs/sub-104/surf/lh.0.800\n",
      "reading thickness...\n",
      "using distance as a % of thickness\n",
      "expanding surface ../test_data/fs/sub-104/surf/lh.white by 20.0% of thickness and writing it to ../test_data/fs/sub-104/surf/lh.0.200\n",
      "reading thickness...\n",
      "using distance as a % of thickness\n",
      "expanding surface ../test_data/fs/sub-104/surf/lh.white by 10.0% of thickness and writing it to ../test_data/fs/sub-104/surf/lh.0.100\n",
      "reading thickness...\n",
      "using distance as a % of thickness\n",
      "expanding surface ../test_data/fs/sub-104/surf/lh.white by 50.0% of thickness and writing it to ../test_data/fs/sub-104/surf/lh.0.500\n",
      "reading thickness...\n",
      "using distance as a % of thickness\n",
      "expanding surface ../test_data/fs/sub-104/surf/lh.white by 60.0% of thickness and writing it to ../test_data/fs/sub-104/surf/lh.0.600\n",
      "reading thickness...\n",
      "-01: dt=0.0000, 0 negative triangles\n",
      "ending sse = 9707.569352\n",
      "nrounds = 6\n",
      "step 1 of 432     -01: dt=0.0000, 0 negative triangles\n",
      "ending sse = 9707.569352\n",
      "nrounds = 6\n",
      "step 1 of 336     -01: dt=0.0000, 0 negative triangles\n",
      "ending sse = 9707.569352\n",
      "nrounds = 6\n",
      "step 1 of 96     -01: dt=0.0000, 0 negative triangles\n",
      "ending sse = 9707.569352\n",
      "nrounds = 6\n",
      "step 1 of 288     -01: dt=0.0000, 0 negative triangles\n",
      "ending sse = 9707.569352\n",
      "nrounds = 6\n",
      "step 1 of 240     -01: dt=0.0000, 0 negative triangles\n",
      "ending sse = 9707.569352\n",
      "nrounds = 6\n",
      "step 1 of 384     -01: dt=0.0000, 0 negative triangles\n",
      "ending sse = 9707.569352\n",
      "nrounds = 6\n",
      "step 1 of 48     -01: dt=0.0000, 0 negative triangles\n",
      "ending sse = 9707.569352\n",
      "nrounds = 6\n",
      "step 1 of 144     -01: dt=0.0000, 0 negative triangles\n",
      "ending sse = 9707.569352\n",
      "nrounds = 6\n",
      "step 47 of 96      \n",
      "writing expanded surface to ../test_data/fs/sub-104/surf/lh.0.100...\n",
      "surface expansion took 4 minutes and 56 seconds.\n",
      "step 45 of 240     using distance as a % of thickness\n",
      "expanding surface ../test_data/fs/sub-104/surf/rh.white by 10.0% of thickness and writing it to ../test_data/fs/sub-104/surf/rh.0.100\n",
      "reading thickness...\n",
      "step 70 of 432     -01: dt=0.0000, 0 negative triangles\n",
      "ending sse = 9976.720387\n",
      "nrounds = 6\n",
      "step 89 of 288     \n",
      "writing expanded surface to ../test_data/fs/sub-104/surf/lh.0.200...\n",
      "surface expansion took 8 minutes and 2 seconds.\n",
      "step 92 of 192     using distance as a % of thickness\n",
      "expanding surface ../test_data/fs/sub-104/surf/rh.white by 20.0% of thickness and writing it to ../test_data/fs/sub-104/surf/rh.0.200\n",
      "reading thickness...\n",
      "step 111 of 384     -01: dt=0.0000, 0 negative triangles\n",
      "ending sse = 9976.720387\n",
      "nrounds = 6\n",
      "step 124 of 144     \n",
      "writing expanded surface to ../test_data/fs/sub-104/surf/rh.0.100...\n",
      "surface expansion took 4 minutes and 59 seconds.\n",
      "step 125 of 432     \n",
      "writing expanded surface to ../test_data/fs/sub-104/surf/lh.0.300...\n",
      "surface expansion took 11 minutes and 13 seconds.\n",
      "step 142 of 192     using distance as a % of thickness\n",
      "expanding surface ../test_data/fs/sub-104/surf/rh.white by 30.0% of thickness and writing it to ../test_data/fs/sub-104/surf/rh.0.300\n",
      "reading thickness...\n",
      "step 152 of 384     -01: dt=0.0000, 0 negative triangles\n",
      "ending sse = 9976.720387\n",
      "nrounds = 6\n",
      "step 188 of 240     \n",
      "writing expanded surface to ../test_data/fs/sub-104/surf/lh.0.400...\n",
      "surface expansion took 14 minutes and 26 seconds.\n",
      "step 21 of 144      using distance as a % of thickness\n",
      "expanding surface ../test_data/fs/sub-104/surf/rh.white by 40.0% of thickness and writing it to ../test_data/fs/sub-104/surf/rh.0.400\n",
      "reading thickness...\n",
      "step 181 of 432     \n",
      "writing expanded surface to ../test_data/fs/sub-104/surf/rh.0.200...\n",
      "surface expansion took 8 minutes and 5 seconds.\n",
      "step 203 of 336     -01: dt=0.0000, 0 negative triangles\n",
      "ending sse = 9976.720387\n",
      "nrounds = 6\n",
      "step 23 of 192      \n",
      "writing expanded surface to ../test_data/fs/sub-104/surf/lh.0.500...\n",
      "surface expansion took 17 minutes and 49 seconds.\n",
      "step 226 of 336     using distance as a % of thickness\n",
      "expanding surface ../test_data/fs/sub-104/surf/rh.white by 50.0% of thickness and writing it to ../test_data/fs/sub-104/surf/rh.0.500\n",
      "reading thickness...\n",
      "step 261 of 288     -01: dt=0.0000, 0 negative triangles\n",
      "ending sse = 9976.720387\n",
      "nrounds = 6\n",
      "step 241 of 432     \n",
      "writing expanded surface to ../test_data/fs/sub-104/surf/lh.0.600...\n",
      "surface expansion took 21 minutes and 29 seconds.\n",
      "step 78 of 192      using distance as a % of thickness\n",
      "expanding surface ../test_data/fs/sub-104/surf/rh.white by 60.0% of thickness and writing it to ../test_data/fs/sub-104/surf/rh.0.600\n",
      "reading thickness...\n",
      "step 288 of 336     \n",
      "writing expanded surface to ../test_data/fs/sub-104/surf/rh.0.300...\n",
      "surface expansion took 11 minutes and 9 seconds.\n",
      "step 287 of 384     -01: dt=0.0000, 0 negative triangles\n",
      "ending sse = 9976.720387\n",
      "nrounds = 6\n",
      "step 88 of 240      \n",
      "writing expanded surface to ../test_data/fs/sub-104/surf/lh.0.700...\n",
      "surface expansion took 25 minutes and 44 seconds.\n",
      "step 288 of 432     using distance as a % of thickness\n",
      "expanding surface ../test_data/fs/sub-104/surf/rh.white by 70.0% of thickness and writing it to ../test_data/fs/sub-104/surf/rh.0.700\n",
      "reading thickness...\n",
      "step 336 of 384     -01: dt=0.0000, 0 negative triangles\n",
      "ending sse = 9976.720387\n",
      "nrounds = 6\n",
      "step 19 of 336      \n",
      "writing expanded surface to ../test_data/fs/sub-104/surf/rh.0.400...\n",
      "surface expansion took 14 minutes and 27 seconds.\n",
      "step 52 of 336      \n",
      "writing expanded surface to ../test_data/fs/sub-104/surf/lh.0.800...\n",
      "surface expansion took 31 minutes and 15 seconds.\n",
      "step 114 of 288     using distance as a % of thickness\n",
      "expanding surface ../test_data/fs/sub-104/surf/rh.white by 80.0% of thickness and writing it to ../test_data/fs/sub-104/surf/rh.0.800\n",
      "reading thickness...\n",
      "step 78 of 336      -01: dt=0.0000, 0 negative triangles\n",
      "ending sse = 9976.720387\n",
      "nrounds = 6\n",
      "step 114 of 336     \n",
      "writing expanded surface to ../test_data/fs/sub-104/surf/rh.0.500...\n",
      "surface expansion took 17 minutes and 53 seconds.\n",
      "step 183 of 336     \n",
      "writing expanded surface to ../test_data/fs/sub-104/surf/lh.0.900...\n",
      "surface expansion took 40 minutes and 36 seconds.\n",
      "step 252 of 288     using distance as a % of thickness\n",
      "expanding surface ../test_data/fs/sub-104/surf/rh.white by 90.0% of thickness and writing it to ../test_data/fs/sub-104/surf/rh.0.900\n",
      "reading thickness...\n",
      "step 128 of 384     -01: dt=0.0000, 0 negative triangles\n",
      "ending sse = 9976.720387\n",
      "nrounds = 6\n",
      "step 218 of 336     \n",
      "writing expanded surface to ../test_data/fs/sub-104/surf/rh.0.600...\n",
      "surface expansion took 21 minutes and 35 seconds.\n",
      "step 119 of 432     \n",
      "writing expanded surface to ../test_data/fs/sub-104/surf/rh.0.700...\n",
      "surface expansion took 25 minutes and 43 seconds.\n",
      "step 242 of 432     \n",
      "writing expanded surface to ../test_data/fs/sub-104/surf/rh.0.800...\n",
      "surface expansion took 31 minutes and 5 seconds.\n",
      "step 432 of 432     \n",
      "writing expanded surface to ../test_data/fs/sub-104/surf/rh.0.900...\n",
      "surface expansion took 40 minutes and 15 seconds.\n",
      "[ 2.02536 36.9153  16.8828 ]\n",
      "Saving ../test_data/sub-104/surf/lh.pial.gii as a surface\n",
      "Saving ../test_data/sub-104/surf/rh.pial.gii as a surface\n",
      "Saving ../test_data/sub-104/surf/lh.0.900.gii as a surface\n",
      "Saving ../test_data/sub-104/surf/rh.0.900.gii as a surface\n",
      "Saving ../test_data/sub-104/surf/lh.0.800.gii as a surface\n",
      "Saving ../test_data/sub-104/surf/rh.0.800.gii as a surface\n",
      "Saving ../test_data/sub-104/surf/lh.0.700.gii as a surface\n"
     ]
    },
    {
     "name": "stdout",
     "output_type": "stream",
     "text": [
      "Saving ../test_data/sub-104/surf/rh.0.700.gii as a surface\n",
      "Saving ../test_data/sub-104/surf/lh.0.600.gii as a surface\n",
      "Saving ../test_data/sub-104/surf/rh.0.600.gii as a surface\n",
      "Saving ../test_data/sub-104/surf/lh.0.500.gii as a surface\n",
      "Saving ../test_data/sub-104/surf/rh.0.500.gii as a surface\n",
      "Saving ../test_data/sub-104/surf/lh.0.400.gii as a surface\n",
      "Saving ../test_data/sub-104/surf/rh.0.400.gii as a surface\n",
      "Saving ../test_data/sub-104/surf/lh.0.300.gii as a surface\n",
      "Saving ../test_data/sub-104/surf/rh.0.300.gii as a surface\n",
      "Saving ../test_data/sub-104/surf/lh.0.200.gii as a surface\n",
      "Saving ../test_data/sub-104/surf/rh.0.200.gii as a surface\n",
      "Saving ../test_data/sub-104/surf/lh.0.100.gii as a surface\n",
      "Saving ../test_data/sub-104/surf/rh.0.100.gii as a surface\n",
      "Saving ../test_data/sub-104/surf/lh.white.gii as a surface\n",
      "Saving ../test_data/sub-104/surf/rh.white.gii as a surface\n",
      "Saving ../test_data/sub-104/surf/lh.inflated.gii as a surface\n",
      "Saving ../test_data/sub-104/surf/rh.inflated.gii as a surface\n",
      "100.0% of the vertices in the decimated surface belong to the original surface.\n"
     ]
    }
   ],
   "source": [
    "# Create an 11-layer surface\n",
    "postprocess_freesurfer_surfaces(\n",
    "    'sub-104',                                \n",
    "    '../test_data/sub-104/surf', \n",
    "    'multilayer.11.ds.link_vector.fixed.gii',\n",
    "    n_surfaces=11, \n",
    "    ds_factor=0.1, \n",
    "    orientation='link_vector', \n",
    "    remove_deep=True\n",
    ")"
   ]
  },
  {
   "cell_type": "code",
   "execution_count": 12,
   "metadata": {},
   "outputs": [
    {
     "name": "stdout",
     "output_type": "stream",
     "text": [
      "using distance as a % of thickness\n",
      "expanding surface ../test_data/fs/sub-104/surf/lh.white by 92.9% of thickness and writing it to ../test_data/fs/sub-104/surf/lh.0.929\n",
      "reading thickness...\n",
      "using distance as a % of thickness\n",
      "expanding surface ../test_data/fs/sub-104/surf/lh.white by 35.7% of thickness and writing it to ../test_data/fs/sub-104/surf/lh.0.357\n",
      "reading thickness...\n",
      "using distance as a % of thickness\n",
      "expanding surface ../test_data/fs/sub-104/surf/lh.white by 57.1% of thickness and writing it to ../test_data/fs/sub-104/surf/lh.0.571\n",
      "reading thickness...\n",
      "using distance as a % of thickness\n",
      "expanding surface ../test_data/fs/sub-104/surf/lh.white by 85.7% of thickness and writing it to ../test_data/fs/sub-104/surf/lh.0.857\n",
      "reading thickness...\n",
      "using distance as a % of thickness\n",
      "expanding surface ../test_data/fs/sub-104/surf/lh.white by 71.4% of thickness and writing it to ../test_data/fs/sub-104/surf/lh.0.714\n",
      "reading thickness...\n",
      "using distance as a % of thickness\n",
      "expanding surface ../test_data/fs/sub-104/surf/lh.white by 14.3% of thickness and writing it to ../test_data/fs/sub-104/surf/lh.0.143\n",
      "reading thickness...\n",
      "using distance as a % of thickness\n",
      "expanding surface ../test_data/fs/sub-104/surf/lh.white by 42.9% of thickness and writing it to ../test_data/fs/sub-104/surf/lh.0.429\n",
      "reading thickness...\n",
      "using distance as a % of thickness\n",
      "expanding surface ../test_data/fs/sub-104/surf/lh.white by 7.1% of thickness and writing it to ../test_data/fs/sub-104/surf/lh.0.071\n",
      "reading thickness...\n",
      "using distance as a % of thickness\n",
      "expanding surface ../test_data/fs/sub-104/surf/lh.white by 78.6% of thickness and writing it to ../test_data/fs/sub-104/surf/lh.0.786\n",
      "reading thickness...\n",
      "using distance as a % of thickness\n",
      "expanding surface ../test_data/fs/sub-104/surf/lh.white by 21.4% of thickness and writing it to ../test_data/fs/sub-104/surf/lh.0.214\n",
      "reading thickness...\n",
      "using distance as a % of thickness\n",
      "expanding surface ../test_data/fs/sub-104/surf/lh.white by 64.3% of thickness and writing it to ../test_data/fs/sub-104/surf/lh.0.643\n",
      "reading thickness...\n",
      "using distance as a % of thickness\n",
      "expanding surface ../test_data/fs/sub-104/surf/lh.white by 28.6% of thickness and writing it to ../test_data/fs/sub-104/surf/lh.0.286\n",
      "reading thickness...\n",
      "-01: dt=0.0000, 0 negative triangles\n",
      "ending sse = 9707.569352\n",
      "nrounds = 6\n",
      "step 1 of 276     -01: dt=0.0000, 0 negative triangles\n",
      "ending sse = 9707.569352\n",
      "nrounds = 6\n",
      "step 1 of 444     -01: dt=0.0000, 0 negative triangles\n",
      "ending sse = 9707.569352\n",
      "nrounds = 6\n",
      "step 1 of 204     -01: dt=0.0000, 0 negative triangles\n",
      "ending sse = 9707.569352\n",
      "nrounds = 6\n",
      "step 1 of 66     -01: dt=0.0000, 0 negative triangles\n",
      "ending sse = 9707.569352\n",
      "nrounds = 6\n",
      "step 1 of 414     -01: dt=0.0000, 0 negative triangles\n",
      "ending sse = 9707.569352\n",
      "nrounds = 6\n",
      "step 1 of 342     -01: dt=0.0000, 0 negative triangles\n",
      "ending sse = 9707.569352\n",
      "nrounds = 6\n",
      "step 1 of 174     -01: dt=0.0000, 0 negative triangles\n",
      "ending sse = 9707.569352\n",
      "nrounds = 6\n",
      "step 1 of 138     -01: dt=0.0000, 0 negative triangles\n",
      "ending sse = 9707.569352\n",
      "nrounds = 6\n",
      "step 1 of 102     -01: dt=0.0000, 0 negative triangles\n",
      "ending sse = 9707.569352\n",
      "nrounds = 6\n",
      "step 1 of 306     -01: dt=0.0000, 0 negative triangles\n",
      "ending sse = 9707.569352\n",
      "nrounds = 6\n",
      "step 1 of 378     -01: dt=0.0000, 0 negative triangles\n",
      "ending sse = 9707.569352\n",
      "nrounds = 6\n",
      "step 36 of 66      \n",
      "writing expanded surface to ../test_data/fs/sub-104/surf/lh.0.071...\n",
      "surface expansion took 4 minutes and 12 seconds.\n",
      "step 34 of 378     using distance as a % of thickness\n",
      "expanding surface ../test_data/fs/sub-104/surf/rh.white by 7.1% of thickness and writing it to ../test_data/fs/sub-104/surf/rh.0.071\n",
      "reading thickness...\n",
      "step 60 of 306     -01: dt=0.0000, 0 negative triangles\n",
      "ending sse = 9976.720387\n",
      "nrounds = 6\n",
      "step 65 of 102     \n",
      "writing expanded surface to ../test_data/fs/sub-104/surf/lh.0.143...\n",
      "surface expansion took 6 minutes and 8 seconds.\n",
      "step 2 of 36       using distance as a % of thickness\n",
      "expanding surface ../test_data/fs/sub-104/surf/rh.white by 14.3% of thickness and writing it to ../test_data/fs/sub-104/surf/rh.0.143\n",
      "reading thickness...\n",
      "step 91 of 204     -01: dt=0.0000, 0 negative triangles\n",
      "ending sse = 9976.720387\n",
      "nrounds = 6\n",
      "step 99 of 174      \n",
      "writing expanded surface to ../test_data/fs/sub-104/surf/rh.0.071...\n",
      "surface expansion took 4 minutes and 15 seconds.\n",
      "step 8 of 66        \n",
      "writing expanded surface to ../test_data/fs/sub-104/surf/lh.0.214...\n",
      "surface expansion took 8 minutes and 29 seconds.\n",
      "step 102 of 138     using distance as a % of thickness\n",
      "expanding surface ../test_data/fs/sub-104/surf/rh.white by 21.4% of thickness and writing it to ../test_data/fs/sub-104/surf/rh.0.214\n",
      "reading thickness...\n",
      "step 36 of 66       -01: dt=0.0000, 0 negative triangles\n",
      "ending sse = 9976.720387\n",
      "nrounds = 6\n",
      "step 121 of 414     \n",
      "writing expanded surface to ../test_data/fs/sub-104/surf/lh.0.286...\n",
      "surface expansion took 10 minutes and 49 seconds.\n",
      "step 123 of 378     using distance as a % of thickness\n",
      "expanding surface ../test_data/fs/sub-104/surf/rh.white by 28.6% of thickness and writing it to ../test_data/fs/sub-104/surf/rh.0.286\n",
      "reading thickness...\n",
      "step 142 of 378     \n",
      "writing expanded surface to ../test_data/fs/sub-104/surf/rh.0.143...\n",
      "surface expansion took 6 minutes and 9 seconds.\n",
      "step 147 of 378     -01: dt=0.0000, 0 negative triangles\n",
      "ending sse = 9976.720387\n",
      "nrounds = 6\n",
      "step 154 of 378     \n",
      "writing expanded surface to ../test_data/fs/sub-104/surf/lh.0.357...\n",
      "surface expansion took 13 minutes and 11 seconds.\n",
      "step 167 of 276     using distance as a % of thickness\n",
      "expanding surface ../test_data/fs/sub-104/surf/rh.white by 35.7% of thickness and writing it to ../test_data/fs/sub-104/surf/rh.0.357\n",
      "reading thickness...\n",
      "step 71 of 102      -01: dt=0.0000, 0 negative triangles\n",
      "ending sse = 9976.720387\n",
      "nrounds = 6\n",
      "step 192 of 306     \n",
      "writing expanded surface to ../test_data/fs/sub-104/surf/lh.0.429...\n",
      "surface expansion took 15 minutes and 17 seconds.\n",
      "step 189 of 342     using distance as a % of thickness\n",
      "expanding surface ../test_data/fs/sub-104/surf/rh.white by 42.9% of thickness and writing it to ../test_data/fs/sub-104/surf/rh.0.429\n",
      "reading thickness...\n",
      "step 185 of 444     \n",
      "writing expanded surface to ../test_data/fs/sub-104/surf/rh.0.214...\n",
      "surface expansion took 8 minutes and 31 seconds.\n",
      "step 226 of 276     -01: dt=0.0000, 0 negative triangles\n",
      "ending sse = 9976.720387\n",
      "nrounds = 6\n",
      "step 48 of 204      \n",
      "writing expanded surface to ../test_data/fs/sub-104/surf/lh.0.571...\n",
      "surface expansion took 20 minutes and 27 seconds.\n",
      "step 251 of 378     using distance as a % of thickness\n",
      "expanding surface ../test_data/fs/sub-104/surf/rh.white by 57.1% of thickness and writing it to ../test_data/fs/sub-104/surf/rh.0.571\n",
      "reading thickness...\n",
      "step 233 of 444     \n",
      "writing expanded surface to ../test_data/fs/sub-104/surf/rh.0.286...\n",
      "surface expansion took 10 minutes and 54 seconds.\n",
      "step 109 of 174     -01: dt=0.0000, 0 negative triangles\n",
      "ending sse = 9976.720387\n",
      "nrounds = 6\n",
      "step 87 of 204      \n",
      "writing expanded surface to ../test_data/fs/sub-104/surf/lh.0.643...\n",
      "surface expansion took 23 minutes and 6 seconds.\n",
      "using distance as a % of thickness\n",
      "expanding surface ../test_data/fs/sub-104/surf/rh.white by 64.3% of thickness and writing it to ../test_data/fs/sub-104/surf/rh.0.643\n",
      "reading thickness...\n",
      "step 115 of 204     -01: dt=0.0000, 0 negative triangles\n",
      "ending sse = 9976.720387\n",
      "nrounds = 6\n",
      "step 136 of 204     \n",
      "writing expanded surface to ../test_data/fs/sub-104/surf/lh.0.714...\n",
      "surface expansion took 26 minutes and 16 seconds.\n",
      "step 307 of 414     using distance as a % of thickness\n",
      "expanding surface ../test_data/fs/sub-104/surf/rh.white by 71.4% of thickness and writing it to ../test_data/fs/sub-104/surf/rh.0.714\n",
      "reading thickness...\n",
      "step 138 of 204     \n",
      "writing expanded surface to ../test_data/fs/sub-104/surf/rh.0.357...\n",
      "surface expansion took 13 minutes and 12 seconds.\n",
      "step 83 of 276      -01: dt=0.0000, 0 negative triangles\n",
      "ending sse = 9976.720387\n",
      "nrounds = 6\n",
      "step 202 of 204     \n",
      "writing expanded surface to ../test_data/fs/sub-104/surf/lh.0.786...\n",
      "surface expansion took 30 minutes and 28 seconds.\n",
      "step 80 of 306      using distance as a % of thickness\n",
      "expanding surface ../test_data/fs/sub-104/surf/rh.white by 78.6% of thickness and writing it to ../test_data/fs/sub-104/surf/rh.0.786\n",
      "reading thickness...\n"
     ]
    },
    {
     "name": "stdout",
     "output_type": "stream",
     "text": [
      "step 37 of 342      \n",
      "writing expanded surface to ../test_data/fs/sub-104/surf/rh.0.429...\n",
      "surface expansion took 15 minutes and 22 seconds.\n",
      "step 145 of 276     -01: dt=0.0000, 0 negative triangles\n",
      "ending sse = 9976.720387\n",
      "nrounds = 6\n",
      "step 204 of 276     \n",
      "writing expanded surface to ../test_data/fs/sub-104/surf/lh.0.857...\n",
      "surface expansion took 36 minutes and 10 seconds.\n",
      "step 162 of 306     using distance as a % of thickness\n",
      "expanding surface ../test_data/fs/sub-104/surf/rh.white by 85.7% of thickness and writing it to ../test_data/fs/sub-104/surf/rh.0.857\n",
      "reading thickness...\n",
      "step 229 of 276     -01: dt=0.0000, 0 negative triangles\n",
      "ending sse = 9976.720387\n",
      "nrounds = 6\n",
      "step 125 of 378     \n",
      "writing expanded surface to ../test_data/fs/sub-104/surf/rh.0.571...\n",
      "surface expansion took 21 minutes and 45 seconds.\n",
      "step 83 of 414      \n",
      "writing expanded surface to ../test_data/fs/sub-104/surf/lh.0.929...\n",
      "surface expansion took 45 minutes and 38 seconds.\n",
      "step 223 of 342     using distance as a % of thickness\n",
      "expanding surface ../test_data/fs/sub-104/surf/rh.white by 92.9% of thickness and writing it to ../test_data/fs/sub-104/surf/rh.0.929\n",
      "reading thickness...\n",
      "step 301 of 306     -01: dt=0.0000, 0 negative triangles\n",
      "ending sse = 9976.720387\n",
      "nrounds = 6\n",
      "step 256 of 342     \n",
      "writing expanded surface to ../test_data/fs/sub-104/surf/rh.0.643...\n",
      "surface expansion took 25 minutes and 12 seconds.\n",
      "step 279 of 378     \n",
      "writing expanded surface to ../test_data/fs/sub-104/surf/rh.0.714...\n",
      "surface expansion took 29 minutes and 7 seconds.\n",
      "step 176 of 444     \n",
      "writing expanded surface to ../test_data/fs/sub-104/surf/rh.0.786...\n",
      "surface expansion took 32 minutes and 44 seconds.\n",
      "step 305 of 444     \n",
      "writing expanded surface to ../test_data/fs/sub-104/surf/rh.0.857...\n",
      "surface expansion took 40 minutes and 51 seconds.\n",
      "step 444 of 444     \n",
      "writing expanded surface to ../test_data/fs/sub-104/surf/rh.0.929...\n",
      "surface expansion took 48 minutes and 41 seconds.\n",
      "[ 2.02536 36.9153  16.8828 ]\n",
      "Saving ../test_data/sub-104/surf/lh.pial.gii as a surface\n",
      "Saving ../test_data/sub-104/surf/rh.pial.gii as a surface\n",
      "Saving ../test_data/sub-104/surf/lh.0.929.gii as a surface\n",
      "Saving ../test_data/sub-104/surf/rh.0.929.gii as a surface\n",
      "Saving ../test_data/sub-104/surf/lh.0.857.gii as a surface\n",
      "Saving ../test_data/sub-104/surf/rh.0.857.gii as a surface\n",
      "Saving ../test_data/sub-104/surf/lh.0.786.gii as a surface\n",
      "Saving ../test_data/sub-104/surf/rh.0.786.gii as a surface\n",
      "Saving ../test_data/sub-104/surf/lh.0.714.gii as a surface\n",
      "Saving ../test_data/sub-104/surf/rh.0.714.gii as a surface\n",
      "Saving ../test_data/sub-104/surf/lh.0.643.gii as a surface\n",
      "Saving ../test_data/sub-104/surf/rh.0.643.gii as a surface\n",
      "Saving ../test_data/sub-104/surf/lh.0.571.gii as a surface\n",
      "Saving ../test_data/sub-104/surf/rh.0.571.gii as a surface\n",
      "Saving ../test_data/sub-104/surf/lh.0.500.gii as a surface\n",
      "Saving ../test_data/sub-104/surf/rh.0.500.gii as a surface\n",
      "Saving ../test_data/sub-104/surf/lh.0.429.gii as a surface\n",
      "Saving ../test_data/sub-104/surf/rh.0.429.gii as a surface\n",
      "Saving ../test_data/sub-104/surf/lh.0.357.gii as a surface\n",
      "Saving ../test_data/sub-104/surf/rh.0.357.gii as a surface\n",
      "Saving ../test_data/sub-104/surf/lh.0.286.gii as a surface\n",
      "Saving ../test_data/sub-104/surf/rh.0.286.gii as a surface\n",
      "Saving ../test_data/sub-104/surf/lh.0.214.gii as a surface\n",
      "Saving ../test_data/sub-104/surf/rh.0.214.gii as a surface\n",
      "Saving ../test_data/sub-104/surf/lh.0.143.gii as a surface\n",
      "Saving ../test_data/sub-104/surf/rh.0.143.gii as a surface\n",
      "Saving ../test_data/sub-104/surf/lh.0.071.gii as a surface\n",
      "Saving ../test_data/sub-104/surf/rh.0.071.gii as a surface\n",
      "Saving ../test_data/sub-104/surf/lh.white.gii as a surface\n",
      "Saving ../test_data/sub-104/surf/rh.white.gii as a surface\n",
      "Saving ../test_data/sub-104/surf/lh.inflated.gii as a surface\n",
      "Saving ../test_data/sub-104/surf/rh.inflated.gii as a surface\n",
      "100.0% of the vertices in the decimated surface belong to the original surface.\n"
     ]
    }
   ],
   "source": [
    "# Create a 15-layer surface\n",
    "postprocess_freesurfer_surfaces(\n",
    "    'sub-104',                                \n",
    "    '../test_data/sub-104/surf', \n",
    "    'multilayer.15.ds.link_vector.fixed.gii',\n",
    "    n_surfaces=15, \n",
    "    ds_factor=0.1, \n",
    "    orientation='link_vector', \n",
    "    remove_deep=True\n",
    ")"
   ]
  },
  {
   "cell_type": "code",
   "execution_count": null,
   "metadata": {},
   "outputs": [],
   "source": []
  }
 ],
 "metadata": {
  "kernelspec": {
   "display_name": "lameg",
   "language": "python",
   "name": "lameg"
  },
  "language_info": {
   "codemirror_mode": {
    "name": "ipython",
    "version": 3
   },
   "file_extension": ".py",
   "mimetype": "text/x-python",
   "name": "python",
   "nbconvert_exporter": "python",
   "pygments_lexer": "ipython3",
   "version": "3.7.16"
  }
 },
 "nbformat": 4,
 "nbformat_minor": 4
}
