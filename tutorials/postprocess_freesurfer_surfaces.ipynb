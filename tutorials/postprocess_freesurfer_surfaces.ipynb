{
 "cells": [
  {
   "cell_type": "markdown",
   "metadata": {},
   "source": [
    "# Surface processing"
   ]
  },
  {
   "cell_type": "markdown",
   "metadata": {},
   "source": [
    "***Create layer surfaces***\n",
    "Uses FreeSurfer mris-inflate. Based on the number of surfaces you specify. Each will be approximately equidistant. Vertex correspondence is maintained, i.e each layer will have vertices along the vector connecting a white matter surface vertex with the corresponding pial surface vertex. Each surface will then be converted to gifti format and the vertex coordinates will adjusted by the RAS at the center of the volume to put them in native space."
   ]
  },
  {
   "cell_type": "code",
   "execution_count": 34,
   "metadata": {
    "scrolled": false
   },
   "outputs": [
    {
     "data": {
      "text/html": [
       "<img src=\"../doc/img/screenshot_lh.pial.initial.png\"/>"
      ],
      "text/plain": [
       "<IPython.core.display.Image object>"
      ]
     },
     "metadata": {},
     "output_type": "display_data"
    },
    {
     "data": {
      "text/html": [
       "<img src=\"../doc/img/screenshot_lh.0.900.initial.png\"/>"
      ],
      "text/plain": [
       "<IPython.core.display.Image object>"
      ]
     },
     "metadata": {},
     "output_type": "display_data"
    },
    {
     "data": {
      "text/html": [
       "<img src=\"../doc/img/screenshot_lh.0.800.initial.png\"/>"
      ],
      "text/plain": [
       "<IPython.core.display.Image object>"
      ]
     },
     "metadata": {},
     "output_type": "display_data"
    },
    {
     "data": {
      "text/html": [
       "<img src=\"../doc/img/screenshot_lh.0.700.initial.png\"/>"
      ],
      "text/plain": [
       "<IPython.core.display.Image object>"
      ]
     },
     "metadata": {},
     "output_type": "display_data"
    },
    {
     "data": {
      "text/html": [
       "<img src=\"../doc/img/screenshot_lh.0.600.initial.png\"/>"
      ],
      "text/plain": [
       "<IPython.core.display.Image object>"
      ]
     },
     "metadata": {},
     "output_type": "display_data"
    },
    {
     "data": {
      "text/html": [
       "<img src=\"../doc/img/screenshot_lh.0.500.initial.png\"/>"
      ],
      "text/plain": [
       "<IPython.core.display.Image object>"
      ]
     },
     "metadata": {},
     "output_type": "display_data"
    },
    {
     "data": {
      "text/html": [
       "<img src=\"../doc/img/screenshot_lh.0.400.initial.png\"/>"
      ],
      "text/plain": [
       "<IPython.core.display.Image object>"
      ]
     },
     "metadata": {},
     "output_type": "display_data"
    },
    {
     "data": {
      "text/html": [
       "<img src=\"../doc/img/screenshot_lh.0.300.initial.png\"/>"
      ],
      "text/plain": [
       "<IPython.core.display.Image object>"
      ]
     },
     "metadata": {},
     "output_type": "display_data"
    },
    {
     "data": {
      "text/html": [
       "<img src=\"../doc/img/screenshot_lh.0.200.initial.png\"/>"
      ],
      "text/plain": [
       "<IPython.core.display.Image object>"
      ]
     },
     "metadata": {},
     "output_type": "display_data"
    },
    {
     "data": {
      "text/html": [
       "<img src=\"../doc/img/screenshot_lh.0.100.initial.png\"/>"
      ],
      "text/plain": [
       "<IPython.core.display.Image object>"
      ]
     },
     "metadata": {},
     "output_type": "display_data"
    },
    {
     "data": {
      "text/html": [
       "<img src=\"../doc/img/screenshot_lh.white.initial.png\"/>"
      ],
      "text/plain": [
       "<IPython.core.display.Image object>"
      ]
     },
     "metadata": {},
     "output_type": "display_data"
    }
   ],
   "source": [
    "import os\n",
    "import numpy as np\n",
    "import nibabel as nib\n",
    "import matplotlib.pyplot as plt\n",
    "from lameg.viz import show_surface, rgbtoint\n",
    "\n",
    "# Get name of each mesh that makes up the layers of the multilayer mesh\n",
    "n_layers = 11\n",
    "layers = np.linspace(1, 0, n_layers)\n",
    "\n",
    "surf_path = '../test_output/sub-104/'\n",
    "layer_fnames = []\n",
    "for l, layer in enumerate(layers):\n",
    "    if layer == 1:\n",
    "        layer_fnames.append(os.path.join(surf_path, f'lh.pial.initial.gii'))\n",
    "    elif layer > 0 and layer < 1:\n",
    "        layer_name = '{:.3f}'.format(layer)\n",
    "        layer_fnames.append(os.path.join(surf_path, f'lh.{layer_name}.initial.gii'))\n",
    "    elif layer == 0:\n",
    "        layer_fnames.append(os.path.join(surf_path, f'lh.white.initial.gii'))\n",
    "\n",
    "cam_view=[-143, 14, 31.5,\n",
    "          -32, 22.5, 38.5,\n",
    "          0, 0, 1]\n",
    "col_r = plt.cm.cool(np.linspace(0,1, num=n_layers))\n",
    "\n",
    "for l_idx,layer_fname in enumerate(layer_fnames):\n",
    "    mesh = nib.load(layer_fname)\n",
    "    plot = show_surface(mesh, camera_view=cam_view, color=col_r[l_idx,:3]*255, height=256)"
   ]
  },
  {
   "cell_type": "code",
   "execution_count": 30,
   "metadata": {},
   "outputs": [],
   "source": [
    "for idx in range(len(plots)):\n",
    "    plots[idx].fetch_screenshot()    "
   ]
  },
  {
   "cell_type": "code",
   "execution_count": 13,
   "metadata": {},
   "outputs": [
    {
     "data": {
      "text/plain": [
       "''"
      ]
     },
     "execution_count": 13,
     "metadata": {},
     "output_type": "execute_result"
    }
   ],
   "source": [
    "from IPython.display import display, Image\n",
    "for idx in range(len(plots)):\n",
    "    layer_fname=layer_fnames[idx]\n",
    "    layer_fname_base=os.path.splitext(os.path.split(layer_fname)[-1])[0]\n",
    "    screen_shot_name=f'../doc/img/screenshot_{layer_fname_base}.png'\n",
    "    with open(screen_shot_name, 'wb') as f:\n",
    "        out = b64decode(plots[idx].screenshot)    \n",
    "        f.write(out)\n",
    "\n",
    "    display(Image(url=screen_shot_name))"
   ]
  },
  {
   "cell_type": "markdown",
   "metadata": {},
   "source": [
    "***Remove deep vertices***\n",
    "Freesurfer operates on hemispheres independently, resulting in deep vertices and mesh faces cutting through subcortical structures. These are removed because they are not part of the cortical source space. Any vertex not labelled or labelled as unknown in the Desikan-Killiany atlas are removed. This is applied to each hemisphere of each layer mesh.\n",
    "\n",
    "****Before****\n",
    "![pre remove deep](../doc/img/screenshot_lh.pial.pre_remove_deep.png \"pial surface before removing deep vertices\")\n",
    "\n",
    "****After****\n",
    "![post remove deep](../doc/img/screenshot_lh.pial.post_remove_deep.png \"pial surface after removing deep vertices\")"
   ]
  },
  {
   "cell_type": "markdown",
   "metadata": {},
   "source": [
    "***Combine hemispheres***\n",
    "The left and right hemisphere meshes are combined by concatenation of their vertices and faces (left then right). No new faces are created. This is done for each layer.\n",
    "\n",
    "![combined pial](../doc/img/screenshot_combined.pial.png \"pial combined hemisphere surface\")"
   ]
  },
  {
   "cell_type": "markdown",
   "metadata": {},
   "source": [
    "***Downsample***\n",
    "The surfaces are much too dense to use in source reconstruction. They must be downsampled, but we must maintain vertex correspondence between them (see [Bonaiuto et al. 2020, Estimates of cortical column orientation improve MEG source inversion](https://doi.org/10.1016/j.neuroimage.2020.116862)). The pial surface is therefore downsampled by a factor of 10 using the vtkDecimatePro algorithm, which only removes vertices rather than creating new ones. The removed vertices are also removed from each other layer mesh, and the face structure from the pial mesh is copied to them (though the faces are not used in the source reconstruction if link vector orientations are used).\n",
    "\n",
    "![ds pial](../doc/img/screenshot_pial.ds.png \"downsampled pial surface\")"
   ]
  },
  {
   "cell_type": "markdown",
   "metadata": {},
   "source": [
    "***Compute link vectors***\n",
    "The dipole orientation at each source location is computed. Downsampled surface normals, original surface normals, cortical patch statistics, or link vectors can be specified (see [Bonaiuto et al. 2020, Estimates of cortical column orientation improve MEG source inversion](https://doi.org/10.1016/j.neuroimage.2020.116862)). The first three compute vertex normals based on the orientation of the surrounding faces. They can be either computed separately for each layer, or the pial surface orientations can be used for all layers. The link vectors method computes vectors connecting corresponding pial and white matter vertices (pointing toward the white matter), which are therefore the same across layer. The orientation vectors are stored in the normals attribute of the gifti object.\n",
    "\n",
    "![link vectors](../doc/img/screenshot_link_vectors.png \"link vectors\")"
   ]
  },
  {
   "cell_type": "markdown",
   "metadata": {},
   "source": [
    "***Combine layers***\n",
    "The layer meshes are then combined into a single mesh by concatenating their vertices and faces (from pial to white matter). No new faces are created (i.e. there are no edges connecting vertices across layers)\n",
    "\n",
    "![multilayer](../doc/img/screenshot_multilayer.png \"multilayer\")"
   ]
  },
  {
   "cell_type": "markdown",
   "metadata": {},
   "source": [
    "# Putting it all together\n",
    "All of these steps can be run using the function:\n",
    "> postprocess_freesurfer_surfaces"
   ]
  },
  {
   "cell_type": "code",
   "execution_count": 26,
   "metadata": {},
   "outputs": [
    {
     "name": "stdout",
     "output_type": "stream",
     "text": [
      "[ 2.02536 36.9153  16.8828 ]\n",
      "100.0% of the vertices in the decimated surface belong to the original surface.\n"
     ]
    }
   ],
   "source": [
    "from lameg.surf import postprocess_freesurfer_surfaces\n",
    "\n",
    "# Create a 2-layer surface (only pial and white)\n",
    "postprocess_freesurfer_surfaces(\n",
    "    'sub-104',                                \n",
    "    './test_output',                                \n",
    "    'multilayer.2.ds.link_vector.gii',                                \n",
    "    n_surfaces=2,                                 \n",
    "    ds_factor=0.1,                                 \n",
    "    orientation='link_vector',                                 \n",
    "    remove_deep=True\n",
    ")"
   ]
  },
  {
   "cell_type": "code",
   "execution_count": 27,
   "metadata": {},
   "outputs": [
    {
     "name": "stdout",
     "output_type": "stream",
     "text": [
      "[ 2.02536 36.9153  16.8828 ]\n",
      "100.0% of the vertices in the decimated surface belong to the original surface.\n"
     ]
    }
   ],
   "source": [
    "# Create an 11-layer surface\n",
    "postprocess_freesurfer_surfaces(\n",
    "    'sub-104',                                \n",
    "    './test_output',\n",
    "    'multilayer.11.ds.link_vector.gii',\n",
    "    n_surfaces=11, \n",
    "    ds_factor=0.1, \n",
    "    orientation='link_vector', \n",
    "    remove_deep=True\n",
    ")"
   ]
  },
  {
   "cell_type": "code",
   "execution_count": 28,
   "metadata": {},
   "outputs": [
    {
     "name": "stdout",
     "output_type": "stream",
     "text": [
      "[ 2.02536 36.9153  16.8828 ]\n",
      "100.0% of the vertices in the decimated surface belong to the original surface.\n"
     ]
    }
   ],
   "source": [
    "# Create a 32-layer surface\n",
    "postprocess_freesurfer_surfaces(\n",
    "    'sub-104',                                \n",
    "    './test_output',\n",
    "    'multilayer.32.ds.link_vector.gii',\n",
    "    n_surfaces=32, \n",
    "    ds_factor=0.1, \n",
    "    orientation='link_vector', \n",
    "    remove_deep=True\n",
    ")"
   ]
  },
  {
   "cell_type": "code",
   "execution_count": null,
   "metadata": {},
   "outputs": [],
   "source": []
  }
 ],
 "metadata": {
  "kernelspec": {
   "display_name": "lameg",
   "language": "python",
   "name": "lameg"
  },
  "language_info": {
   "codemirror_mode": {
    "name": "ipython",
    "version": 3
   },
   "file_extension": ".py",
   "mimetype": "text/x-python",
   "name": "python",
   "nbconvert_exporter": "python",
   "pygments_lexer": "ipython3",
   "version": "3.6.13"
  }
 },
 "nbformat": 4,
 "nbformat_minor": 4
}
