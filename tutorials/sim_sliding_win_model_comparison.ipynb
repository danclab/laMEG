{
 "cells": [
  {
   "cell_type": "markdown",
   "metadata": {},
   "source": [
    "# Sliding time window laminar model comparison using free energy"
   ]
  },
  {
   "cell_type": "markdown",
   "metadata": {},
   "source": [
    "This tutorial demonstrates how to perform laminar inference of event-related responses in a sliding time window using model comparison based on free energy as a metric of model fit, described in [Bonaiuto et al., 2021, Laminar dynamics of high amplitude beta bursts in human motor cortex](https://doi.org/10.1016/j.neuroimage.2021.118479). A temporal Gaussian function is simulated at a particular cortical location in various layers. Source reconstruction is performed on the whole time window using the Empirical Bayesian Beamformer on the simulated sensor data using a forward model based on the multilayer mesh as a localizer. This is used to select priors on each layer mesh for a sliding time window model comparison using free energy.\n",
    "\n",
    "## Setting up the simulations\n",
    "\n",
    "Simulations are based on an existing dataset, which is used to define the sampling rate, number of trials, duration of each trial, and the channel layout."
   ]
  },
  {
   "cell_type": "code",
   "execution_count": 26,
   "metadata": {},
   "outputs": [],
   "source": [
    "import os\n",
    "import shutil\n",
    "import numpy as np\n",
    "import nibabel as nib\n",
    "from matplotlib import colors\n",
    "import matplotlib.pyplot as plt\n",
    "\n",
    "from lameg.invert import coregister, invert_ebb, load_source_time_series\n",
    "from lameg.laminar import sliding_window_model_comparison\n",
    "from lameg.simulate import run_dipole_simulation\n",
    "from lameg.surf import interpolate_data\n",
    "from lameg.util import get_surface_names, load_meg_sensor_data\n",
    "from lameg.viz import show_surface, color_map\n",
    "\n",
    "# Subject information for data to base the simulations on\n",
    "subj_id = 'sub-104'\n",
    "ses_id = 'ses-01'\n",
    "\n",
    "# Fiducial coil coordinates\n",
    "nas = [0.9662503311032098, 108.83514306876269, 1.6712361927090313]\n",
    "lpa = [-74.28671169006893, 20.15061014698176, -29.849056272705948]\n",
    "rpa = [76.02110531729883, 18.9467849625573, -25.779407159603114]\n",
    "\n",
    "# Data file to base simulations on\n",
    "data_file = os.path.join(\n",
    "    '../test_data/processed', \n",
    "    subj_id, \n",
    "    ses_id, \n",
    "    'spm/pspm-converted_autoreject-sub-104-ses-01-001-btn_trial-epo.mat'\n",
    ")"
   ]
  },
  {
   "cell_type": "markdown",
   "metadata": {},
   "source": [
    "For source reconstructions, we need an MRI and a surface mesh. The simulations will be based on a forward model using the multilayer mesh, and the model comparison will use each layer mesh"
   ]
  },
  {
   "cell_type": "code",
   "execution_count": 24,
   "metadata": {},
   "outputs": [],
   "source": [
    "# Native space MRI to use for coregistration\n",
    "mri_fname = os.path.join('../test_data/spm', subj_id, 's2023-02-28_13-33-133958-00001-00224-1.nii' )\n",
    "\n",
    "# Mesh to use for forward model in the simulations\n",
    "multilayer_mesh_fname = os.path.join('../test_output', subj_id, 'multilayer.11.ds.link_vector.gii')\n",
    "\n",
    "# Load multilayer mesh and compute the number of vertices per layer\n",
    "mesh = nib.load(multilayer_mesh_fname)\n",
    "n_layers = 11\n",
    "verts_per_surf = int(mesh.darrays[0].data.shape[0]/n_layers)\n",
    "\n",
    "# Get name of each mesh that makes up the layers of the multilayer mesh - these will be used for the source \n",
    "# reconstruction\n",
    "layer_fnames = get_surface_names(\n",
    "    n_layers, \n",
    "    os.path.join('../test_output', subj_id), \n",
    "    'link_vector'\n",
    ")\n",
    "\n",
    "# Inflated meshes for plotting\n",
    "ds_inflated = nib.load(os.path.join('../test_output', subj_id, 'inflated.ds.gii'))\n",
    "orig_inflated = nib.load(os.path.join('../test_output', subj_id, 'inflated.gii'))"
   ]
  },
  {
   "cell_type": "markdown",
   "metadata": {},
   "source": [
    "We're going to copy the data file to a temporary directory and direct all output there."
   ]
  },
  {
   "cell_type": "code",
   "execution_count": 10,
   "metadata": {},
   "outputs": [],
   "source": [
    "# Extract base name and path of data file\n",
    "data_path, data_file_name = os.path.split(data_file)\n",
    "data_base = os.path.splitext(data_file_name)[0]\n",
    "\n",
    "# Where to put simulated data\n",
    "tmp_dir = '/scratch/bonaiuto/simulated_data/sliding_window'\n",
    "\n",
    "# Copy data files to tmp directory\n",
    "shutil.copy(\n",
    "    os.path.join(data_path, f'{data_base}.mat'), \n",
    "    os.path.join(tmp_dir, f'{data_base}.mat')\n",
    ")\n",
    "shutil.copy(\n",
    "    os.path.join(data_path, f'{data_base}.dat'), \n",
    "    os.path.join(tmp_dir, f'{data_base}.dat')\n",
    ")\n",
    "\n",
    "# Construct base file name for simulations\n",
    "base_fname = os.path.join(tmp_dir, f'{data_base}.mat')"
   ]
  },
  {
   "cell_type": "markdown",
   "metadata": {},
   "source": [
    "Invert the subject's data using the multilayer mesh. This step only has to be done once - this is just to compute the forward model that will be used in the simulations"
   ]
  },
  {
   "cell_type": "code",
   "execution_count": 11,
   "metadata": {},
   "outputs": [
    {
     "name": "stdout",
     "output_type": "stream",
     "text": [
      "Smoothing ../test_output/sub-104/multilayer.11.ds.link_vector.gii\n",
      "FWHM of 5.00 is approx 3.33 times vertex spacing\n"
     ]
    }
   ],
   "source": [
    "# Patch size to use for inversion (in this case it matches the simulated patch size)\n",
    "patch_size = 5\n",
    "# Number of temporal modes to use for EBB inversion\n",
    "n_temp_modes = 4\n",
    "\n",
    "# Coregister data to multilayer mesh\n",
    "coregister(\n",
    "    nas, \n",
    "    lpa, \n",
    "    rpa, \n",
    "    mri_fname, \n",
    "    multilayer_mesh_fname, \n",
    "    base_fname\n",
    ")\n",
    "\n",
    "# Run inversion\n",
    "[_,_] = invert_ebb(\n",
    "    multilayer_mesh_fname, \n",
    "    base_fname, \n",
    "    n_layers, \n",
    "    patch_size=patch_size, \n",
    "    n_temp_modes=n_temp_modes\n",
    ")"
   ]
  },
  {
   "cell_type": "markdown",
   "metadata": {},
   "source": [
    "## Simulating a signal on the pial surface\n",
    "We're going to simulate 200ms of a Gaussian with a dipole moment of 5nAm and a width of 25ms"
   ]
  },
  {
   "cell_type": "code",
   "execution_count": 33,
   "metadata": {},
   "outputs": [
    {
     "data": {
      "text/plain": [
       "Text(0, 0.5, 'Amplitude (nAm)')"
      ]
     },
     "execution_count": 33,
     "metadata": {},
     "output_type": "execute_result"
    },
    {
     "data": {
      "image/png": "[encoded data removed]",
      "text/plain": [
       "<Figure size 432x288 with 1 Axes>"
      ]
     },
     "metadata": {
      "needs_background": "light"
     },
     "output_type": "display_data"
    }
   ],
   "source": [
    "# Strength of simulated activity (nAm)\n",
    "dipole_moment = 5\n",
    "# Temporal width of the simulated Gaussian\n",
    "signal_width=.025 # 25ms\n",
    "# Sampling rate (must match the data file)\n",
    "s_rate = 600\n",
    "\n",
    "# Generate 200ms of a Gaussian at a sampling rate of 600Hz (to match the data file)\n",
    "time=np.linspace(0,.2,121)\n",
    "zero_time=time[int((len(time)-1)/2+1)]\n",
    "sim_signal=np.exp(-((time-zero_time)**2)/(2*signal_width**2)).reshape(1,-1)\n",
    "plt.plot(time,dipole_moment*sim_signal[0,:])\n",
    "plt.xlabel('Time (s)')\n",
    "plt.ylabel('Amplitude (nAm)')"
   ]
  },
  {
   "cell_type": "markdown",
   "metadata": {},
   "source": [
    "We need to pick a location (mesh vertex) to simulate at"
   ]
  },
  {
   "cell_type": "code",
   "execution_count": 73,
   "metadata": {},
   "outputs": [
    {
     "data": {
      "application/vnd.jupyter.widget-view+json": {
       "model_id": "105544062d1f483aac1d5a015a89199f",
       "version_major": 2,
       "version_minor": 0
      },
      "text/plain": [
       "Output()"
      ]
     },
     "metadata": {},
     "output_type": "display_data"
    }
   ],
   "source": [
    "# Vertex to simulate activity at\n",
    "sim_vertex=24588\n",
    "\n",
    "pial_ds_mesh_fname = os.path.join('../test_output', subj_id, 'pial.ds.link_vector.gii')\n",
    "pial_ds_mesh = nib.load(pial_ds_mesh_fname)\n",
    "pial_coord = pial_ds_mesh.darrays[0].data[sim_vertex,:]\n",
    "pial_mesh_fname = os.path.join('../test_output', subj_id, 'pial.gii')\n",
    "pial_mesh = nib.load(pial_mesh_fname)\n",
    "cam_view = [152, 28, 15,\n",
    "            3.5, 26, 38.5,\n",
    "            0, 0, 1]\n",
    "plot = show_surface(\n",
    "    pial_mesh, \n",
    "    opacity=1, \n",
    "    coords=pial_coord,\n",
    "    coord_size=2,\n",
    "    camera_view=cam_view\n",
    ")"
   ]
  },
  {
   "cell_type": "markdown",
   "metadata": {},
   "source": [
    "We'll simulate a 5mm patch of activity with -5 dB SNR at the sensor level. The desired level of SNR is achieved by adding white noise to the projected sensor signals"
   ]
  },
  {
   "cell_type": "code",
   "execution_count": null,
   "metadata": {},
   "outputs": [],
   "source": [
    "# Simulate at a vertex on the pial surface\n",
    "pial_vertex = sim_vertex\n",
    "# Orientation of the simulated dipole\n",
    "pial_unit_norm = mesh.darrays[2].data[pial_vertex,:]\n",
    "prefix = f'sim_{sim_vertex}_pial.'\n",
    "\n",
    "# Size of simulated patch of activity (mm)\n",
    "sim_patch_size = 5\n",
    "# SNR of simulated data (dB)\n",
    "SNR = -5\n",
    "\n",
    "# Generate simulated data\n",
    "pial_sim_fname=run_dipole_simulation(\n",
    "    base_fname, \n",
    "    prefix, \n",
    "    pial_vertex, \n",
    "    sim_signal, \n",
    "    pial_unit_norm, \n",
    "    dipole_moment, \n",
    "    sim_patch_size, \n",
    "    SNR\n",
    ") "
   ]
  },
  {
   "cell_type": "markdown",
   "metadata": {},
   "source": [
    "## Localizer inversion\n",
    "Now we'll run a source reconstruction using the multilayer mesh, extract the signal in the pial layer, and select a prior based on the peak."
   ]
  },
  {
   "cell_type": "code",
   "execution_count": 64,
   "metadata": {},
   "outputs": [
    {
     "name": "stdout",
     "output_type": "stream",
     "text": [
      "Simulated vertex=24588, Prior vertex=24588\n",
      "Simulated coordinate\n",
      "[167.26544   -24.875505    6.3826694]\n",
      "Prior coordinate\n",
      "[167.26544   -24.875505    6.3826694]\n"
     ]
    }
   ],
   "source": [
    "[_,_,MU] = invert_ebb(\n",
    "    multilayer_mesh_fname, \n",
    "    pial_sim_fname, \n",
    "    n_layers, \n",
    "    patch_size=patch_size, \n",
    "    n_temp_modes=n_temp_modes,\n",
    "    return_mu_matrix=True\n",
    ")\n",
    "\n",
    "layer_vertices = np.arange(verts_per_surf)\n",
    "layer_ts = load_source_time_series(\n",
    "    pial_sim_fname, \n",
    "    mu_matrix=MU, \n",
    "    vertices=layer_vertices\n",
    ")\n",
    "\n",
    "# Layer peak\n",
    "m_layer_max = np.max(np.mean(layer_ts,axis=-1),-1)\n",
    "prior = np.argmax(m_layer_max)\n",
    "\n",
    "sim_coord = ds_inflated.darrays[0].data[sim_vertex,:]\n",
    "prior_coord = ds_inflated.darrays[0].data[prior,:]\n",
    "\n",
    "print(f'Simulated vertex={sim_vertex}, Prior vertex={prior}')\n",
    "print('Simulated coordinate')\n",
    "print(sim_coord)\n",
    "print('Prior coordinate')\n",
    "print(prior_coord)\n"
   ]
  },
  {
   "cell_type": "markdown",
   "metadata": {},
   "source": [
    "We can see that the prior is the same as the location we simulated at"
   ]
  },
  {
   "cell_type": "code",
   "execution_count": 65,
   "metadata": {},
   "outputs": [
    {
     "data": {
      "application/vnd.jupyter.widget-view+json": {
       "model_id": "a7e60dc58b374bddbcd38ee11abac476",
       "version_major": 2,
       "version_minor": 0
      },
      "text/plain": [
       "Output()"
      ]
     },
     "metadata": {},
     "output_type": "display_data"
    },
    {
     "name": "stdout",
     "output_type": "stream",
     "text": [
      "507832 vertices\n"
     ]
    }
   ],
   "source": [
    "# Interpolate for display on the original inflated surface\n",
    "interpolated_data = interpolate_data(orig_inflated, ds_inflated, m_layer_max)\n",
    "          \n",
    "# Plot colors and camera view\n",
    "max_abs=np.max(np.abs(m_layer_max))\n",
    "c_range = [-max_abs, max_abs]\n",
    "cam_view=[289, 32, -19,\n",
    "          3.5, 29, 26,\n",
    "          0, 0, 1]\n",
    "\n",
    "# Plot peak\n",
    "colors,_ = color_map(\n",
    "    interpolated_data, \"RdYlBu_r\", c_range[0], c_range[1],    \n",
    ")\n",
    "\n",
    "_=show_surface(\n",
    "    orig_inflated, \n",
    "    colors=colors, \n",
    "    info=True, \n",
    "    camera_view=cam_view, \n",
    "    coords=prior_coord, \n",
    "    coord_size=2, \n",
    "    coord_color=[0,0,255]\n",
    ")"
   ]
  },
  {
   "cell_type": "markdown",
   "metadata": {},
   "source": [
    "## Sliding time window model comparison (pial - white matter)\n",
    "Now we can run sliding time window model comparison between source models based on the pial and white matter surfaces using free energy. Specifically, we'll look at the difference in free energy between the two models (pial - white matter), in sliding and overlapping windows of 16ms. The free energy difference (pial - white matter) should be positive (more model evidence for the pial surface model) because we simulated activity on the pial surface."
   ]
  },
  {
   "cell_type": "code",
   "execution_count": 66,
   "metadata": {},
   "outputs": [
    {
     "name": "stdout",
     "output_type": "stream",
     "text": [
      "Smoothing ../test_output/sub-104/pial.ds.link_vector.gii\n",
      "FWHM of 5.00 is approx 3.11 times vertex spacing\n",
      "Smoothing ../test_output/sub-104/white.ds.link_vector.gii\n",
      "FWHM of 5.00 is approx 3.58 times vertex spacing\n"
     ]
    },
    {
     "data": {
      "text/plain": [
       "Text(0, 0.5, '$\\\\Delta$F')"
      ]
     },
     "execution_count": 66,
     "metadata": {},
     "output_type": "execute_result"
    },
    {
     "data": {
      "image/png": "[encoded data removed]",
      "text/plain": [
       "<Figure size 432x288 with 1 Axes>"
      ]
     },
     "metadata": {
      "needs_background": "light"
     },
     "output_type": "display_data"
    }
   ],
   "source": [
    "# Number of temporal models for sliding time window inversion\n",
    "sliding_n_temp_modes = 4\n",
    "# Size of sliding window (in ms)\n",
    "win_size = 16\n",
    "# Whether or not windows overlap\n",
    "win_overlap = True\n",
    "\n",
    "# Run sliding time window model comparison between the first layer (pial) and the last layer (white matter)\n",
    "[Fs,wois] = sliding_window_model_comparison(\n",
    "    prior, \n",
    "    nas, \n",
    "    lpa, \n",
    "    rpa, \n",
    "    mri_fname, \n",
    "    [layer_fnames[0], layer_fnames[-1]], \n",
    "    pial_sim_fname, \n",
    "    patch_size=patch_size, \n",
    "    n_temp_modes=sliding_n_temp_modes,\n",
    "    win_size=win_size, \n",
    "    win_overlap=win_overlap\n",
    ")\n",
    "\n",
    "# Plot difference in free energy over time (pial minus white) - this should be positive\n",
    "plt.plot(np.mean(wois,axis=-1), Fs[0,:]-Fs[1,:])\n",
    "plt.xlabel('Time (ms)')\n",
    "plt.ylabel(r'$\\Delta$F')"
   ]
  },
  {
   "cell_type": "markdown",
   "metadata": {
    "scrolled": false
   },
   "source": [
    "## White matter surface simulation with pial - white matter sliding time window model comparison\n",
    "Let's simulate the same pattern of activity, in the same location, but on the white matter surface. This time, sliding time window model comparison should yield greater model evidence for the white matter surface, and therefore the difference in free energy (pial - white matter) should be negative."
   ]
  },
  {
   "cell_type": "code",
   "execution_count": 67,
   "metadata": {},
   "outputs": [
    {
     "name": "stdout",
     "output_type": "stream",
     "text": [
      "Smoothing ../test_output/sub-104/multilayer.11.ds.link_vector.gii\n",
      "FWHM of 5.00 is approx 3.33 times vertex spacing\n",
      "Simulated vertex=24588, Prior vertex=24588\n",
      "Simulated coordinate\n",
      "[167.26544   -24.875505    6.3826694]\n",
      "Prior coordinate\n",
      "[167.26544   -24.875505    6.3826694]\n",
      "Smoothing ../test_output/sub-104/pial.ds.link_vector.gii\n",
      "FWHM of 5.00 is approx 3.11 times vertex spacing\n",
      "Smoothing ../test_output/sub-104/white.ds.link_vector.gii\n",
      "FWHM of 5.00 is approx 3.58 times vertex spacing\n"
     ]
    },
    {
     "data": {
      "text/plain": [
       "Text(0, 0.5, '$\\\\Delta$F')"
      ]
     },
     "execution_count": 67,
     "metadata": {},
     "output_type": "execute_result"
    },
    {
     "data": {
      "image/png": "[encoded data removed]",
      "text/plain": [
       "<Figure size 432x288 with 1 Axes>"
      ]
     },
     "metadata": {
      "needs_background": "light"
     },
     "output_type": "display_data"
    }
   ],
   "source": [
    "# Simulate at the corresponding vertex on the white matter surface\n",
    "white_vertex = (n_layers-1)*verts_per_surf+sim_vertex\n",
    "prefix = f'sim_{sim_vertex}_white.'\n",
    "\n",
    "# Generate simulated data\n",
    "white_sim_fname = run_dipole_simulation(\n",
    "    base_fname, \n",
    "    prefix, \n",
    "    white_vertex, \n",
    "    sim_signal, \n",
    "    pial_unit_norm, \n",
    "    dipole_moment, \n",
    "    sim_patch_size, \n",
    "    SNR\n",
    ") \n",
    "\n",
    "# Localizer\n",
    "[_,_,MU] = invert_ebb(\n",
    "    multilayer_mesh_fname, \n",
    "    white_sim_fname, \n",
    "    n_layers, \n",
    "    patch_size=patch_size, \n",
    "    n_temp_modes=n_temp_modes,\n",
    "    return_mu_matrix=True\n",
    ")\n",
    "\n",
    "layer_vertices = np.arange(verts_per_surf)\n",
    "layer_ts = load_source_time_series(\n",
    "    white_sim_fname, \n",
    "    mu_matrix=MU, \n",
    "    vertices=layer_vertices\n",
    ")\n",
    "\n",
    "# Layer peak\n",
    "m_layer_max = np.max(np.mean(layer_ts,axis=-1),-1)\n",
    "prior = np.argmax(m_layer_max)\n",
    "prior_coord = ds_inflated.darrays[0].data[prior,:]\n",
    "\n",
    "print(f'Simulated vertex={sim_vertex}, Prior vertex={prior}')\n",
    "print('Simulated coordinate')\n",
    "print(sim_coord)\n",
    "print('Prior coordinate')\n",
    "print(prior_coord)\n",
    "\n",
    "# Run sliding time window model comparison between the first layer (pial) and the last layer (white matter)\n",
    "[Fs,wois] = sliding_window_model_comparison(\n",
    "    prior, \n",
    "    nas, \n",
    "    lpa, \n",
    "    rpa, \n",
    "    mri_fname, \n",
    "    [layer_fnames[0], layer_fnames[-1]], \n",
    "    white_sim_fname, \n",
    "    patch_size=patch_size, \n",
    "    n_temp_modes=sliding_n_temp_modes,\n",
    "    win_size=win_size, \n",
    "    win_overlap=win_overlap\n",
    ")\n",
    "\n",
    "# Plot difference in free energy over time (pial minus white) - this should be negative\n",
    "plt.plot(np.mean(wois,axis=-1), Fs[0,:]-Fs[1,:])\n",
    "plt.xlabel('Time (ms)')\n",
    "plt.ylabel(r'$\\Delta$F')"
   ]
  },
  {
   "cell_type": "markdown",
   "metadata": {},
   "source": [
    "## Simulation in each layer with sliding time window model comparison across layers\n",
    "That was sliding time window model comparison with two candidate models: one based on the white matter surface, and one on the pial. Let's now simulate on each layer, and for each simulation, run sliding time window model comparison across all layers. We'll turn off SPM visualization here."
   ]
  },
  {
   "cell_type": "code",
   "execution_count": 70,
   "metadata": {
    "scrolled": true
   },
   "outputs": [
    {
     "name": "stdout",
     "output_type": "stream",
     "text": [
      "Simulating in layer 0\n",
      "Smoothing ../test_output/sub-104/multilayer.11.ds.link_vector.gii\n",
      "FWHM of 5.00 is approx 3.33 times vertex spacing\n",
      "Simulated vertex=24588, Prior vertex=24588\n",
      "Simulated coordinate\n",
      "[167.26544   -24.875505    6.3826694]\n",
      "Prior coordinate\n",
      "[167.26544   -24.875505    6.3826694]\n",
      "Smoothing ../test_output/sub-104/pial.ds.link_vector.gii\n",
      "FWHM of 5.00 is approx 3.11 times vertex spacing\n",
      "Smoothing ../test_output/sub-104/0.900.ds.link_vector.gii\n",
      "FWHM of 5.00 is approx 3.15 times vertex spacing\n",
      "Smoothing ../test_output/sub-104/0.800.ds.link_vector.gii\n",
      "FWHM of 5.00 is approx 3.20 times vertex spacing\n",
      "Smoothing ../test_output/sub-104/0.700.ds.link_vector.gii\n",
      "FWHM of 5.00 is approx 3.24 times vertex spacing\n",
      "Smoothing ../test_output/sub-104/0.600.ds.link_vector.gii\n",
      "FWHM of 5.00 is approx 3.29 times vertex spacing\n",
      "Smoothing ../test_output/sub-104/0.500.ds.link_vector.gii\n",
      "FWHM of 5.00 is approx 3.33 times vertex spacing\n",
      "Smoothing ../test_output/sub-104/0.400.ds.link_vector.gii\n",
      "FWHM of 5.00 is approx 3.38 times vertex spacing\n",
      "Smoothing ../test_output/sub-104/0.300.ds.link_vector.gii\n",
      "FWHM of 5.00 is approx 3.43 times vertex spacing\n",
      "Smoothing ../test_output/sub-104/0.200.ds.link_vector.gii\n",
      "FWHM of 5.00 is approx 3.48 times vertex spacing\n",
      "Smoothing ../test_output/sub-104/0.100.ds.link_vector.gii\n",
      "FWHM of 5.00 is approx 3.53 times vertex spacing\n",
      "Smoothing ../test_output/sub-104/white.ds.link_vector.gii\n",
      "FWHM of 5.00 is approx 3.58 times vertex spacing\n",
      "Simulating in layer 1\n",
      "Smoothing ../test_output/sub-104/multilayer.11.ds.link_vector.gii\n",
      "FWHM of 5.00 is approx 3.33 times vertex spacing\n",
      "Simulated vertex=24588, Prior vertex=24588\n",
      "Simulated coordinate\n",
      "[167.26544   -24.875505    6.3826694]\n",
      "Prior coordinate\n",
      "[167.26544   -24.875505    6.3826694]\n",
      "Smoothing ../test_output/sub-104/pial.ds.link_vector.gii\n",
      "FWHM of 5.00 is approx 3.11 times vertex spacing\n",
      "Smoothing ../test_output/sub-104/0.900.ds.link_vector.gii\n",
      "FWHM of 5.00 is approx 3.15 times vertex spacing\n",
      "Smoothing ../test_output/sub-104/0.800.ds.link_vector.gii\n",
      "FWHM of 5.00 is approx 3.20 times vertex spacing\n",
      "Smoothing ../test_output/sub-104/0.700.ds.link_vector.gii\n",
      "FWHM of 5.00 is approx 3.24 times vertex spacing\n",
      "Smoothing ../test_output/sub-104/0.600.ds.link_vector.gii\n",
      "FWHM of 5.00 is approx 3.29 times vertex spacing\n",
      "Smoothing ../test_output/sub-104/0.500.ds.link_vector.gii\n",
      "FWHM of 5.00 is approx 3.33 times vertex spacing\n",
      "Smoothing ../test_output/sub-104/0.400.ds.link_vector.gii\n",
      "FWHM of 5.00 is approx 3.38 times vertex spacing\n",
      "Smoothing ../test_output/sub-104/0.300.ds.link_vector.gii\n",
      "FWHM of 5.00 is approx 3.43 times vertex spacing\n",
      "Smoothing ../test_output/sub-104/0.200.ds.link_vector.gii\n",
      "FWHM of 5.00 is approx 3.48 times vertex spacing\n",
      "Smoothing ../test_output/sub-104/0.100.ds.link_vector.gii\n",
      "FWHM of 5.00 is approx 3.53 times vertex spacing\n",
      "Smoothing ../test_output/sub-104/white.ds.link_vector.gii\n",
      "FWHM of 5.00 is approx 3.58 times vertex spacing\n",
      "Simulating in layer 2\n",
      "Smoothing ../test_output/sub-104/multilayer.11.ds.link_vector.gii\n",
      "FWHM of 5.00 is approx 3.33 times vertex spacing\n",
      "Simulated vertex=24588, Prior vertex=24588\n",
      "Simulated coordinate\n",
      "[167.26544   -24.875505    6.3826694]\n",
      "Prior coordinate\n",
      "[167.26544   -24.875505    6.3826694]\n",
      "Smoothing ../test_output/sub-104/pial.ds.link_vector.gii\n",
      "FWHM of 5.00 is approx 3.11 times vertex spacing\n",
      "Smoothing ../test_output/sub-104/0.900.ds.link_vector.gii\n",
      "FWHM of 5.00 is approx 3.15 times vertex spacing\n",
      "Smoothing ../test_output/sub-104/0.800.ds.link_vector.gii\n",
      "FWHM of 5.00 is approx 3.20 times vertex spacing\n",
      "Smoothing ../test_output/sub-104/0.700.ds.link_vector.gii\n",
      "FWHM of 5.00 is approx 3.24 times vertex spacing\n",
      "Smoothing ../test_output/sub-104/0.600.ds.link_vector.gii\n",
      "FWHM of 5.00 is approx 3.29 times vertex spacing\n",
      "Smoothing ../test_output/sub-104/0.500.ds.link_vector.gii\n",
      "FWHM of 5.00 is approx 3.33 times vertex spacing\n",
      "Smoothing ../test_output/sub-104/0.400.ds.link_vector.gii\n",
      "FWHM of 5.00 is approx 3.38 times vertex spacing\n",
      "Smoothing ../test_output/sub-104/0.300.ds.link_vector.gii\n",
      "FWHM of 5.00 is approx 3.43 times vertex spacing\n",
      "Smoothing ../test_output/sub-104/0.200.ds.link_vector.gii\n",
      "FWHM of 5.00 is approx 3.48 times vertex spacing\n",
      "Smoothing ../test_output/sub-104/0.100.ds.link_vector.gii\n",
      "FWHM of 5.00 is approx 3.53 times vertex spacing\n",
      "Smoothing ../test_output/sub-104/white.ds.link_vector.gii\n",
      "FWHM of 5.00 is approx 3.58 times vertex spacing\n",
      "Simulating in layer 3\n",
      "Smoothing ../test_output/sub-104/multilayer.11.ds.link_vector.gii\n",
      "FWHM of 5.00 is approx 3.33 times vertex spacing\n",
      "Simulated vertex=24588, Prior vertex=24588\n",
      "Simulated coordinate\n",
      "[167.26544   -24.875505    6.3826694]\n",
      "Prior coordinate\n",
      "[167.26544   -24.875505    6.3826694]\n",
      "Smoothing ../test_output/sub-104/pial.ds.link_vector.gii\n",
      "FWHM of 5.00 is approx 3.11 times vertex spacing\n",
      "Smoothing ../test_output/sub-104/0.900.ds.link_vector.gii\n",
      "FWHM of 5.00 is approx 3.15 times vertex spacing\n",
      "Smoothing ../test_output/sub-104/0.800.ds.link_vector.gii\n",
      "FWHM of 5.00 is approx 3.20 times vertex spacing\n",
      "Smoothing ../test_output/sub-104/0.700.ds.link_vector.gii\n",
      "FWHM of 5.00 is approx 3.24 times vertex spacing\n",
      "Smoothing ../test_output/sub-104/0.600.ds.link_vector.gii\n",
      "FWHM of 5.00 is approx 3.29 times vertex spacing\n",
      "Smoothing ../test_output/sub-104/0.500.ds.link_vector.gii\n",
      "FWHM of 5.00 is approx 3.33 times vertex spacing\n",
      "Smoothing ../test_output/sub-104/0.400.ds.link_vector.gii\n",
      "FWHM of 5.00 is approx 3.38 times vertex spacing\n",
      "Smoothing ../test_output/sub-104/0.300.ds.link_vector.gii\n",
      "FWHM of 5.00 is approx 3.43 times vertex spacing\n",
      "Smoothing ../test_output/sub-104/0.200.ds.link_vector.gii\n",
      "FWHM of 5.00 is approx 3.48 times vertex spacing\n",
      "Smoothing ../test_output/sub-104/0.100.ds.link_vector.gii\n",
      "FWHM of 5.00 is approx 3.53 times vertex spacing\n",
      "Smoothing ../test_output/sub-104/white.ds.link_vector.gii\n",
      "FWHM of 5.00 is approx 3.58 times vertex spacing\n",
      "Simulating in layer 4\n",
      "Smoothing ../test_output/sub-104/multilayer.11.ds.link_vector.gii\n",
      "FWHM of 5.00 is approx 3.33 times vertex spacing\n",
      "Simulated vertex=24588, Prior vertex=24588\n",
      "Simulated coordinate\n",
      "[167.26544   -24.875505    6.3826694]\n",
      "Prior coordinate\n",
      "[167.26544   -24.875505    6.3826694]\n",
      "Smoothing ../test_output/sub-104/pial.ds.link_vector.gii\n",
      "FWHM of 5.00 is approx 3.11 times vertex spacing\n",
      "Smoothing ../test_output/sub-104/0.900.ds.link_vector.gii\n",
      "FWHM of 5.00 is approx 3.15 times vertex spacing\n",
      "Smoothing ../test_output/sub-104/0.800.ds.link_vector.gii\n",
      "FWHM of 5.00 is approx 3.20 times vertex spacing\n",
      "Smoothing ../test_output/sub-104/0.700.ds.link_vector.gii\n",
      "FWHM of 5.00 is approx 3.24 times vertex spacing\n",
      "Smoothing ../test_output/sub-104/0.600.ds.link_vector.gii\n",
      "FWHM of 5.00 is approx 3.29 times vertex spacing\n",
      "Smoothing ../test_output/sub-104/0.500.ds.link_vector.gii\n",
      "FWHM of 5.00 is approx 3.33 times vertex spacing\n",
      "Smoothing ../test_output/sub-104/0.400.ds.link_vector.gii\n",
      "FWHM of 5.00 is approx 3.38 times vertex spacing\n",
      "Smoothing ../test_output/sub-104/0.300.ds.link_vector.gii\n",
      "FWHM of 5.00 is approx 3.43 times vertex spacing\n",
      "Smoothing ../test_output/sub-104/0.200.ds.link_vector.gii\n",
      "FWHM of 5.00 is approx 3.48 times vertex spacing\n",
      "Smoothing ../test_output/sub-104/0.100.ds.link_vector.gii\n",
      "FWHM of 5.00 is approx 3.53 times vertex spacing\n",
      "Smoothing ../test_output/sub-104/white.ds.link_vector.gii\n",
      "FWHM of 5.00 is approx 3.58 times vertex spacing\n",
      "Simulating in layer 5\n",
      "Smoothing ../test_output/sub-104/multilayer.11.ds.link_vector.gii\n",
      "FWHM of 5.00 is approx 3.33 times vertex spacing\n",
      "Simulated vertex=24588, Prior vertex=24588\n",
      "Simulated coordinate\n",
      "[167.26544   -24.875505    6.3826694]\n",
      "Prior coordinate\n",
      "[167.26544   -24.875505    6.3826694]\n",
      "Smoothing ../test_output/sub-104/pial.ds.link_vector.gii\n",
      "FWHM of 5.00 is approx 3.11 times vertex spacing\n",
      "Smoothing ../test_output/sub-104/0.900.ds.link_vector.gii\n",
      "FWHM of 5.00 is approx 3.15 times vertex spacing\n",
      "Smoothing ../test_output/sub-104/0.800.ds.link_vector.gii\n",
      "FWHM of 5.00 is approx 3.20 times vertex spacing\n",
      "Smoothing ../test_output/sub-104/0.700.ds.link_vector.gii\n",
      "FWHM of 5.00 is approx 3.24 times vertex spacing\n",
      "Smoothing ../test_output/sub-104/0.600.ds.link_vector.gii\n",
      "FWHM of 5.00 is approx 3.29 times vertex spacing\n",
      "Smoothing ../test_output/sub-104/0.500.ds.link_vector.gii\n",
      "FWHM of 5.00 is approx 3.33 times vertex spacing\n"
     ]
    },
    {
     "name": "stdout",
     "output_type": "stream",
     "text": [
      "Smoothing ../test_output/sub-104/0.400.ds.link_vector.gii\n",
      "FWHM of 5.00 is approx 3.38 times vertex spacing\n",
      "Smoothing ../test_output/sub-104/0.300.ds.link_vector.gii\n",
      "FWHM of 5.00 is approx 3.43 times vertex spacing\n",
      "Smoothing ../test_output/sub-104/0.200.ds.link_vector.gii\n",
      "FWHM of 5.00 is approx 3.48 times vertex spacing\n",
      "Smoothing ../test_output/sub-104/0.100.ds.link_vector.gii\n",
      "FWHM of 5.00 is approx 3.53 times vertex spacing\n",
      "Smoothing ../test_output/sub-104/white.ds.link_vector.gii\n",
      "FWHM of 5.00 is approx 3.58 times vertex spacing\n",
      "Simulating in layer 6\n",
      "Smoothing ../test_output/sub-104/multilayer.11.ds.link_vector.gii\n",
      "FWHM of 5.00 is approx 3.33 times vertex spacing\n",
      "Simulated vertex=24588, Prior vertex=24588\n",
      "Simulated coordinate\n",
      "[167.26544   -24.875505    6.3826694]\n",
      "Prior coordinate\n",
      "[167.26544   -24.875505    6.3826694]\n",
      "Smoothing ../test_output/sub-104/pial.ds.link_vector.gii\n",
      "FWHM of 5.00 is approx 3.11 times vertex spacing\n",
      "Smoothing ../test_output/sub-104/0.900.ds.link_vector.gii\n",
      "FWHM of 5.00 is approx 3.15 times vertex spacing\n",
      "Smoothing ../test_output/sub-104/0.800.ds.link_vector.gii\n",
      "FWHM of 5.00 is approx 3.20 times vertex spacing\n",
      "Smoothing ../test_output/sub-104/0.700.ds.link_vector.gii\n",
      "FWHM of 5.00 is approx 3.24 times vertex spacing\n",
      "Smoothing ../test_output/sub-104/0.600.ds.link_vector.gii\n",
      "FWHM of 5.00 is approx 3.29 times vertex spacing\n",
      "Smoothing ../test_output/sub-104/0.500.ds.link_vector.gii\n",
      "FWHM of 5.00 is approx 3.33 times vertex spacing\n",
      "Smoothing ../test_output/sub-104/0.400.ds.link_vector.gii\n",
      "FWHM of 5.00 is approx 3.38 times vertex spacing\n",
      "Smoothing ../test_output/sub-104/0.300.ds.link_vector.gii\n",
      "FWHM of 5.00 is approx 3.43 times vertex spacing\n",
      "Smoothing ../test_output/sub-104/0.200.ds.link_vector.gii\n",
      "FWHM of 5.00 is approx 3.48 times vertex spacing\n",
      "Smoothing ../test_output/sub-104/0.100.ds.link_vector.gii\n",
      "FWHM of 5.00 is approx 3.53 times vertex spacing\n",
      "Smoothing ../test_output/sub-104/white.ds.link_vector.gii\n",
      "FWHM of 5.00 is approx 3.58 times vertex spacing\n",
      "Simulating in layer 7\n",
      "Smoothing ../test_output/sub-104/multilayer.11.ds.link_vector.gii\n",
      "FWHM of 5.00 is approx 3.33 times vertex spacing\n",
      "Simulated vertex=24588, Prior vertex=24588\n",
      "Simulated coordinate\n",
      "[167.26544   -24.875505    6.3826694]\n",
      "Prior coordinate\n",
      "[167.26544   -24.875505    6.3826694]\n",
      "Smoothing ../test_output/sub-104/pial.ds.link_vector.gii\n",
      "FWHM of 5.00 is approx 3.11 times vertex spacing\n",
      "Smoothing ../test_output/sub-104/0.900.ds.link_vector.gii\n",
      "FWHM of 5.00 is approx 3.15 times vertex spacing\n",
      "Smoothing ../test_output/sub-104/0.800.ds.link_vector.gii\n",
      "FWHM of 5.00 is approx 3.20 times vertex spacing\n",
      "Smoothing ../test_output/sub-104/0.700.ds.link_vector.gii\n",
      "FWHM of 5.00 is approx 3.24 times vertex spacing\n",
      "Smoothing ../test_output/sub-104/0.600.ds.link_vector.gii\n",
      "FWHM of 5.00 is approx 3.29 times vertex spacing\n",
      "Smoothing ../test_output/sub-104/0.500.ds.link_vector.gii\n",
      "FWHM of 5.00 is approx 3.33 times vertex spacing\n",
      "Smoothing ../test_output/sub-104/0.400.ds.link_vector.gii\n",
      "FWHM of 5.00 is approx 3.38 times vertex spacing\n",
      "Smoothing ../test_output/sub-104/0.300.ds.link_vector.gii\n",
      "FWHM of 5.00 is approx 3.43 times vertex spacing\n",
      "Smoothing ../test_output/sub-104/0.200.ds.link_vector.gii\n",
      "FWHM of 5.00 is approx 3.48 times vertex spacing\n",
      "Smoothing ../test_output/sub-104/0.100.ds.link_vector.gii\n",
      "FWHM of 5.00 is approx 3.53 times vertex spacing\n",
      "Smoothing ../test_output/sub-104/white.ds.link_vector.gii\n",
      "FWHM of 5.00 is approx 3.58 times vertex spacing\n",
      "Simulating in layer 8\n",
      "Smoothing ../test_output/sub-104/multilayer.11.ds.link_vector.gii\n",
      "FWHM of 5.00 is approx 3.33 times vertex spacing\n",
      "Simulated vertex=24588, Prior vertex=24588\n",
      "Simulated coordinate\n",
      "[167.26544   -24.875505    6.3826694]\n",
      "Prior coordinate\n",
      "[167.26544   -24.875505    6.3826694]\n",
      "Smoothing ../test_output/sub-104/pial.ds.link_vector.gii\n",
      "FWHM of 5.00 is approx 3.11 times vertex spacing\n",
      "Smoothing ../test_output/sub-104/0.900.ds.link_vector.gii\n",
      "FWHM of 5.00 is approx 3.15 times vertex spacing\n",
      "Smoothing ../test_output/sub-104/0.800.ds.link_vector.gii\n",
      "FWHM of 5.00 is approx 3.20 times vertex spacing\n",
      "Smoothing ../test_output/sub-104/0.700.ds.link_vector.gii\n",
      "FWHM of 5.00 is approx 3.24 times vertex spacing\n",
      "Smoothing ../test_output/sub-104/0.600.ds.link_vector.gii\n",
      "FWHM of 5.00 is approx 3.29 times vertex spacing\n",
      "Smoothing ../test_output/sub-104/0.500.ds.link_vector.gii\n",
      "FWHM of 5.00 is approx 3.33 times vertex spacing\n",
      "Smoothing ../test_output/sub-104/0.400.ds.link_vector.gii\n",
      "FWHM of 5.00 is approx 3.38 times vertex spacing\n",
      "Smoothing ../test_output/sub-104/0.300.ds.link_vector.gii\n",
      "FWHM of 5.00 is approx 3.43 times vertex spacing\n",
      "Smoothing ../test_output/sub-104/0.200.ds.link_vector.gii\n",
      "FWHM of 5.00 is approx 3.48 times vertex spacing\n",
      "Smoothing ../test_output/sub-104/0.100.ds.link_vector.gii\n",
      "FWHM of 5.00 is approx 3.53 times vertex spacing\n",
      "Smoothing ../test_output/sub-104/white.ds.link_vector.gii\n",
      "FWHM of 5.00 is approx 3.58 times vertex spacing\n",
      "Simulating in layer 9\n",
      "Smoothing ../test_output/sub-104/multilayer.11.ds.link_vector.gii\n",
      "FWHM of 5.00 is approx 3.33 times vertex spacing\n",
      "Simulated vertex=24588, Prior vertex=24588\n",
      "Simulated coordinate\n",
      "[167.26544   -24.875505    6.3826694]\n",
      "Prior coordinate\n",
      "[167.26544   -24.875505    6.3826694]\n",
      "Smoothing ../test_output/sub-104/pial.ds.link_vector.gii\n",
      "FWHM of 5.00 is approx 3.11 times vertex spacing\n",
      "Smoothing ../test_output/sub-104/0.900.ds.link_vector.gii\n",
      "FWHM of 5.00 is approx 3.15 times vertex spacing\n",
      "Smoothing ../test_output/sub-104/0.800.ds.link_vector.gii\n",
      "FWHM of 5.00 is approx 3.20 times vertex spacing\n",
      "Smoothing ../test_output/sub-104/0.700.ds.link_vector.gii\n",
      "FWHM of 5.00 is approx 3.24 times vertex spacing\n",
      "Smoothing ../test_output/sub-104/0.600.ds.link_vector.gii\n",
      "FWHM of 5.00 is approx 3.29 times vertex spacing\n",
      "Smoothing ../test_output/sub-104/0.500.ds.link_vector.gii\n",
      "FWHM of 5.00 is approx 3.33 times vertex spacing\n",
      "Smoothing ../test_output/sub-104/0.400.ds.link_vector.gii\n",
      "FWHM of 5.00 is approx 3.38 times vertex spacing\n",
      "Smoothing ../test_output/sub-104/0.300.ds.link_vector.gii\n",
      "FWHM of 5.00 is approx 3.43 times vertex spacing\n",
      "Smoothing ../test_output/sub-104/0.200.ds.link_vector.gii\n",
      "FWHM of 5.00 is approx 3.48 times vertex spacing\n",
      "Smoothing ../test_output/sub-104/0.100.ds.link_vector.gii\n",
      "FWHM of 5.00 is approx 3.53 times vertex spacing\n",
      "Smoothing ../test_output/sub-104/white.ds.link_vector.gii\n",
      "FWHM of 5.00 is approx 3.58 times vertex spacing\n",
      "Simulating in layer 10\n",
      "Smoothing ../test_output/sub-104/multilayer.11.ds.link_vector.gii\n",
      "FWHM of 5.00 is approx 3.33 times vertex spacing\n",
      "Simulated vertex=24588, Prior vertex=24588\n",
      "Simulated coordinate\n",
      "[167.26544   -24.875505    6.3826694]\n",
      "Prior coordinate\n",
      "[167.26544   -24.875505    6.3826694]\n",
      "Smoothing ../test_output/sub-104/pial.ds.link_vector.gii\n",
      "FWHM of 5.00 is approx 3.11 times vertex spacing\n",
      "Smoothing ../test_output/sub-104/0.900.ds.link_vector.gii\n",
      "FWHM of 5.00 is approx 3.15 times vertex spacing\n",
      "Smoothing ../test_output/sub-104/0.800.ds.link_vector.gii\n",
      "FWHM of 5.00 is approx 3.20 times vertex spacing\n",
      "Smoothing ../test_output/sub-104/0.700.ds.link_vector.gii\n",
      "FWHM of 5.00 is approx 3.24 times vertex spacing\n",
      "Smoothing ../test_output/sub-104/0.600.ds.link_vector.gii\n",
      "FWHM of 5.00 is approx 3.29 times vertex spacing\n",
      "Smoothing ../test_output/sub-104/0.500.ds.link_vector.gii\n",
      "FWHM of 5.00 is approx 3.33 times vertex spacing\n",
      "Smoothing ../test_output/sub-104/0.400.ds.link_vector.gii\n",
      "FWHM of 5.00 is approx 3.38 times vertex spacing\n",
      "Smoothing ../test_output/sub-104/0.300.ds.link_vector.gii\n",
      "FWHM of 5.00 is approx 3.43 times vertex spacing\n",
      "Smoothing ../test_output/sub-104/0.200.ds.link_vector.gii\n",
      "FWHM of 5.00 is approx 3.48 times vertex spacing\n",
      "Smoothing ../test_output/sub-104/0.100.ds.link_vector.gii\n",
      "FWHM of 5.00 is approx 3.53 times vertex spacing\n",
      "Smoothing ../test_output/sub-104/white.ds.link_vector.gii\n",
      "FWHM of 5.00 is approx 3.58 times vertex spacing\n"
     ]
    }
   ],
   "source": [
    "# Now simulate at the corresponding vertex on each layer, and for each simulation, run sliding window model \n",
    "# comparison across all layers\n",
    "all_layerF = []\n",
    "for l in range(n_layers):\n",
    "    print(f'Simulating in layer {l}')\n",
    "    l_vertex = l*verts_per_surf+sim_vertex\n",
    "    prefix = f'sim_{sim_vertex}{l}.'\n",
    "    \n",
    "    l_sim_fname = run_dipole_simulation(\n",
    "        base_fname, \n",
    "        prefix, \n",
    "        l_vertex, \n",
    "        sim_signal, \n",
    "        pial_unit_norm, \n",
    "        dipole_moment, \n",
    "        sim_patch_size, \n",
    "        SNR, \n",
    "        viz=False\n",
    "    ) \n",
    "    \n",
    "    # Localizer\n",
    "    [_,_,MU] = invert_ebb(\n",
    "        multilayer_mesh_fname, \n",
    "        l_sim_fname, \n",
    "        n_layers, \n",
    "        patch_size=patch_size, \n",
    "        n_temp_modes=n_temp_modes,\n",
    "        return_mu_matrix=True\n",
    "    )\n",
    "\n",
    "    layer_vertices = np.arange(verts_per_surf)\n",
    "    layer_ts = load_source_time_series(\n",
    "        l_sim_fname, \n",
    "        mu_matrix=MU, \n",
    "        vertices=layer_vertices\n",
    "    )\n",
    "\n",
    "    # Layer peak\n",
    "    m_layer_max = np.max(np.mean(layer_ts,axis=-1),-1)\n",
    "    prior = np.argmax(m_layer_max)    \n",
    "    prior_coord = ds_inflated.darrays[0].data[prior,:]\n",
    "\n",
    "    print(f'Simulated vertex={sim_vertex}, Prior vertex={prior}')\n",
    "    print('Simulated coordinate')\n",
    "    print(sim_coord)\n",
    "    print('Prior coordinate')\n",
    "    print(prior_coord)\n",
    "\n",
    "    [Fs,wois] = sliding_window_model_comparison(\n",
    "        prior, \n",
    "        nas, \n",
    "        lpa, \n",
    "        rpa, \n",
    "        mri_fname, \n",
    "        layer_fnames, \n",
    "        l_sim_fname, \n",
    "        patch_size=patch_size, \n",
    "        n_temp_modes=sliding_n_temp_modes,\n",
    "        win_size=win_size, \n",
    "        win_overlap=win_overlap,\n",
    "        viz=False\n",
    "    )\n",
    "    \n",
    "    all_layerF.append(Fs)\n",
    "all_layerF = np.squeeze(np.array(all_layerF))"
   ]
  },
  {
   "cell_type": "markdown",
   "metadata": {},
   "source": [
    "For each simulation, we can plot the free energy for all models relative to the worst model within a central time window. The layer model with the highest free energy should correspond to the layer that the activity was simulated in."
   ]
  },
  {
   "cell_type": "code",
   "execution_count": 71,
   "metadata": {},
   "outputs": [
    {
     "data": {
      "image/png": "[encoded data removed]",
      "text/plain": [
       "<Figure size 720x288 with 2 Axes>"
      ]
     },
     "metadata": {
      "needs_background": "light"
     },
     "output_type": "display_data"
    }
   ],
   "source": [
    "# Average free energy within small time window in center of the epoch\n",
    "woi_t = np.mean(wois,axis=-1)\n",
    "woi_idx = np.where((woi_t>=-20) & (woi_t<=20))[0]\n",
    "m_all_layerF = np.mean(all_layerF[:,:,woi_idx],axis=2)\n",
    "\n",
    "col_r = plt.cm.cool(np.linspace(0,1, num=n_layers))\n",
    "plt.figure(figsize=(10,4))\n",
    "\n",
    "# For each simulation, plot the mean free energy of each layer model relative to that of the worst\n",
    "# model for that simulation\n",
    "plt.subplot(1,2,1)\n",
    "for l in range(n_layers):\n",
    "    layerF = m_all_layerF[l,:]\n",
    "    plt.plot(layerF-np.min(layerF), label=f'{l}', color=col_r[l,:])\n",
    "plt.legend()\n",
    "plt.xlabel('Eval layer')\n",
    "plt.ylabel(r'$\\Delta$F')\n",
    "\n",
    "# For each simulation, find which layer model had the greatest free energy\n",
    "plt.subplot(1,2,2)\n",
    "peaks=[]\n",
    "for l in range(n_layers):\n",
    "    layerF = m_all_layerF[l,:]\n",
    "    layerF = layerF-np.min(layerF)\n",
    "    pk = np.argmax(layerF)\n",
    "    peaks.append(pk)\n",
    "plt.plot(peaks)\n",
    "plt.xlim([-0.5,10.5])\n",
    "plt.ylim([-0.5,10.5])\n",
    "plt.plot([0,10],[0,10],'k--')\n",
    "plt.xlabel('Sim layer')\n",
    "plt.ylabel(r'Peak $\\Delta$F')\n",
    "plt.tight_layout()"
   ]
  },
  {
   "cell_type": "code",
   "execution_count": 72,
   "metadata": {},
   "outputs": [],
   "source": [
    "# Delete simulation files\n",
    "\n",
    "# Iterate over all items in the directory\n",
    "for item in os.listdir(tmp_dir):\n",
    "    item_path = os.path.join(tmp_dir, item)\n",
    "\n",
    "    # Check if it's a file or a directory\n",
    "    if os.path.isfile(item_path):\n",
    "        # Delete the file\n",
    "        os.remove(item_path)\n",
    "    elif os.path.isdir(item_path):\n",
    "        # Recursively delete the directory\n",
    "        shutil.rmtree(item_path)"
   ]
  },
  {
   "cell_type": "code",
   "execution_count": null,
   "metadata": {},
   "outputs": [],
   "source": []
  }
 ],
 "metadata": {
  "kernelspec": {
   "display_name": "lameg",
   "language": "python",
   "name": "lameg"
  },
  "language_info": {
   "codemirror_mode": {
    "name": "ipython",
    "version": 3
   },
   "file_extension": ".py",
   "mimetype": "text/x-python",
   "name": "python",
   "nbconvert_exporter": "python",
   "pygments_lexer": "ipython3",
   "version": "3.6.13"
  }
 },
 "nbformat": 4,
 "nbformat_minor": 4
}
