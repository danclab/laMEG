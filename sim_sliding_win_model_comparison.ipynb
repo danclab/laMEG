{
 "cells": [
  {
   "cell_type": "code",
   "execution_count": 1,
   "metadata": {},
   "outputs": [],
   "source": [
    "import os\n",
    "import shutil\n",
    "import nibabel as nib\n",
    "import numpy as np\n",
    "import matplotlib.pyplot as plt\n",
    "from invert import invert_ebb\n",
    "from simulate import run_dipole_simulation\n",
    "from laminar import sliding_window_model_comparison\n",
    "from matplotlib import colors"
   ]
  },
  {
   "cell_type": "code",
   "execution_count": 2,
   "metadata": {},
   "outputs": [],
   "source": [
    "sim_vertex=420\n",
    "sim_patch_size=5\n",
    "dipole_moment=10\n",
    "SNR=-5\n",
    "n_layers=11\n",
    "layers = np.linspace(1, 0, n_layers)\n",
    "signal_width=.025 # 25ms\n",
    "\n",
    "data_dir='./test_data'\n",
    "out_dir='./test_output'\n",
    "tmp_dir='/scratch/bonaiuto/simulated_data/sliding_window'\n",
    "subj_id='sub-104'\n",
    "ses_id='ses-01'\n",
    "# Subject fiducial coil coordinates\n",
    "nas=[0.9662503311032098, 108.83514306876269, 1.6712361927090313]\n",
    "lpa=[-74.28671169006893, 20.15061014698176, -29.849056272705948]\n",
    "rpa=[76.02110531729883, 18.9467849625573, -25.779407159603114]\n",
    "\n",
    "# T1\n",
    "mri_fname = os.path.join(data_dir,'spm', subj_id, 's2023-02-28_13-33-133958-00001-00224-1.nii')\n",
    "\n",
    "mesh_fname = os.path.join(out_dir, subj_id, 'multilayer.11.ds.link_vector.gii')\n",
    "\n",
    "## Create intermediate surfaces if needed\n",
    "layer_fnames = []\n",
    "for l, layer in enumerate(layers):\n",
    "    if layer == 1:\n",
    "        layer_fnames.append(os.path.join(out_dir, subj_id, 'pial.ds.link_vector.gii'))\n",
    "    elif layer > 0 and layer < 1:\n",
    "        layer_name = '{:.3f}'.format(layer)\n",
    "        layer_fnames.append(os.path.join(out_dir, subj_id, f'{layer_name}.ds.link_vector.gii'))        \n",
    "    elif layer == 0:\n",
    "        layer_fnames.append(os.path.join(out_dir, subj_id, 'white.ds.link_vector.gii'))\n",
    "\n",
    "# Data file to base simulations on\n",
    "data_file=os.path.join(data_dir, 'processed', subj_id, ses_id, 'spm/pspm-converted_autoreject-sub-104-ses-01-001-btn_trial-epo.mat')\n",
    "\n",
    "patch_size=5\n",
    "n_temp_modes = 4\n",
    "sliding_n_temp_modes = 1\n",
    "win_size=10\n",
    "win_overlap=True\n",
    "\n",
    "mesh=nib.load(mesh_fname)\n",
    "verts_per_surf=int(mesh.darrays[0].data.shape[0]/n_layers)\n",
    "subject_out_dir = os.path.join(out_dir, subj_id, 'inv')"
   ]
  },
  {
   "cell_type": "code",
   "execution_count": null,
   "metadata": {},
   "outputs": [
    {
     "name": "stdout",
     "output_type": "stream",
     "text": [
      "Smoothing ./test_output/sub-104/multilayer.11.ds.link_vector.gii\n",
      "FWHM of 5.00 is approx 3.33 times vertex spacing\n"
     ]
    }
   ],
   "source": [
    "# Invert the subject's data. This step only has to be done once\n",
    "[base_fname,_,_]=invert_ebb(tmp_dir, nas, lpa, rpa, mri_fname, mesh_fname, data_file, n_layers, \n",
    "                            patch_size=patch_size, n_temp_modes=n_temp_modes)"
   ]
  },
  {
   "cell_type": "code",
   "execution_count": null,
   "metadata": {},
   "outputs": [],
   "source": [
    "time=np.linspace(0,.2,121)\n",
    "zero_time=time[int((len(time)-1)/2+1)]\n",
    "\n",
    "signal=np.exp(-((time-zero_time)**2)/(2*signal_width**2))\n",
    "\n",
    "plt.figure()\n",
    "plt.plot(time,signal)\n",
    "plt.xlabel('Time (s)')\n",
    "plt.ylabel('Amplitude (normalised)')"
   ]
  },
  {
   "cell_type": "code",
   "execution_count": null,
   "metadata": {},
   "outputs": [],
   "source": [
    "pial_vertex=sim_vertex\n",
    "white_vertex=(n_layers-1)*int(verts_per_surf)+sim_vertex\n",
    "\n",
    "pial_unit_norm=mesh.darrays[2].data[pial_vertex,:]\n",
    "white_unit_norm=-1*mesh.darrays[2].data[white_vertex,:]"
   ]
  },
  {
   "cell_type": "code",
   "execution_count": null,
   "metadata": {},
   "outputs": [],
   "source": [
    "prefix=f'sim_{sim_vertex}_superficial.'\n",
    "pial_sim_fname=run_dipole_simulation(base_fname, prefix, pial_vertex, signal, pial_unit_norm, dipole_moment, \n",
    "                                     sim_patch_size, SNR)    "
   ]
  },
  {
   "cell_type": "code",
   "execution_count": null,
   "metadata": {},
   "outputs": [],
   "source": [
    "[Fs,wois]=sliding_window_model_comparison(tmp_dir, sim_vertex, nas, lpa, rpa, mri_fname, \n",
    "                                          [layer_fnames[0], layer_fnames[-1]], pial_sim_fname, \n",
    "                                          patch_size=sim_patch_size, n_temp_modes=sliding_n_temp_modes,\n",
    "                                          win_size=win_size, win_overlap=win_overlap)\n",
    "Fs=np.array(Fs)\n",
    "wois=np.array(wois)"
   ]
  },
  {
   "cell_type": "code",
   "execution_count": null,
   "metadata": {},
   "outputs": [],
   "source": [
    "plt.plot(np.mean(wois,axis=-1), Fs[0,:]-Fs[1,:])\n",
    "plt.xlabel('Time (ms)')\n",
    "plt.ylabel(r'$\\Delta$F')"
   ]
  },
  {
   "cell_type": "code",
   "execution_count": null,
   "metadata": {},
   "outputs": [],
   "source": [
    "[Fs,wois]=sliding_window_model_comparison(tmp_dir, sim_vertex, nas, lpa, rpa, mri_fname, layer_fnames, \n",
    "                                          pial_sim_fname,  patch_size=sim_patch_size, \n",
    "                                          n_temp_modes=sliding_n_temp_modes, win_size=win_size, \n",
    "                                          win_overlap=win_overlap)\n",
    "\n",
    "Fs=np.array(Fs)\n",
    "wois=np.array(wois)"
   ]
  },
  {
   "cell_type": "code",
   "execution_count": null,
   "metadata": {},
   "outputs": [],
   "source": [
    "F_diff=np.zeros((Fs.shape[0],Fs.shape[1]))\n",
    "for t in range(Fs.shape[1]):\n",
    "    minF=np.min(Fs[:,t,0])\n",
    "    F_diff[:,t]=Fs[:,t,0]-minF\n",
    "    \n",
    "col_r = plt.cm.cool(np.linspace(0,1, num=n_layers))\n",
    "plt.figure(figsize=(10,4))\n",
    "plt.subplot(1,2,1)\n",
    "for l in range(n_layers):\n",
    "    plt.plot(F_diff[l,:], label=f'{l}', color=col_r[l,:])\n",
    "plt.legend()\n",
    "plt.xlabel('Time (ms)')\n",
    "plt.ylabel(r'$\\Delta$F')\n",
    "plt.subplot(1,2,2)\n",
    "h=plt.imshow(F_diff,aspect='auto')\n",
    "plt.xlabel('Time (ms)')\n",
    "plt.ylabel('Layer')\n",
    "col_r=plt.colorbar(h)\n",
    "col_r.set_label(r'$\\Delta$F')\n",
    "plt.tight_layout()"
   ]
  },
  {
   "cell_type": "code",
   "execution_count": null,
   "metadata": {},
   "outputs": [],
   "source": [
    "prefix=f'sim_{sim_vertex}_deep.'\n",
    "white_sim_fname=run_dipole_simulation(base_fname, prefix, white_vertex, signal, white_unit_norm, dipole_moment, \n",
    "                                      sim_patch_size, SNR)    "
   ]
  },
  {
   "cell_type": "code",
   "execution_count": null,
   "metadata": {},
   "outputs": [],
   "source": [
    "[Fs,wois]=sliding_window_model_comparison(tmp_dir, sim_vertex, nas, lpa, rpa, mri_fname, \n",
    "                                          [layer_fnames[0], layer_fnames[-1]], white_sim_fname, \n",
    "                                          patch_size=sim_patch_size, n_temp_modes=sliding_n_temp_modes,\n",
    "                                          win_size=win_size, win_overlap=win_overlap)\n",
    "Fs=np.array(Fs)\n",
    "wois=np.array(wois)"
   ]
  },
  {
   "cell_type": "code",
   "execution_count": null,
   "metadata": {
    "scrolled": true
   },
   "outputs": [],
   "source": [
    "plt.plot(np.mean(wois,axis=-1), Fs[0,:]-Fs[1,:])\n",
    "plt.xlabel('Time (ms)')\n",
    "plt.ylabel(r'$\\Delta$F')"
   ]
  },
  {
   "cell_type": "code",
   "execution_count": null,
   "metadata": {},
   "outputs": [],
   "source": [
    "[Fs,wois]=sliding_window_model_comparison(tmp_dir, sim_vertex, nas, lpa, rpa, mri_fname, layer_fnames, \n",
    "                                          white_sim_fname, patch_size=sim_patch_size, \n",
    "                                          n_temp_modes=sliding_n_temp_modes, win_size=win_size, \n",
    "                                          win_overlap=win_overlap)\n",
    "\n",
    "Fs=np.array(Fs)\n",
    "wois=np.array(wois)"
   ]
  },
  {
   "cell_type": "code",
   "execution_count": null,
   "metadata": {},
   "outputs": [],
   "source": [
    "F_diff=np.zeros((Fs.shape[0],Fs.shape[1]))\n",
    "for t in range(Fs.shape[1]):\n",
    "    minF=np.min(Fs[:,t,0])\n",
    "    F_diff[:,t]=Fs[:,t,0]-minF\n",
    "    \n",
    "col_r = plt.cm.cool(np.linspace(0,1, num=n_layers))\n",
    "plt.figure(figsize=(10,4))\n",
    "plt.subplot(1,2,1)\n",
    "for l in range(n_layers):\n",
    "    plt.plot(F_diff[l,:], label=f'{l}', color=col_r[l,:])\n",
    "plt.legend()\n",
    "plt.xlabel('Time (ms)')\n",
    "plt.ylabel(r'$\\Delta$F')\n",
    "plt.subplot(1,2,2)\n",
    "h=plt.imshow(F_diff,aspect='auto')\n",
    "plt.xlabel('Time (ms)')\n",
    "plt.ylabel('Layer')\n",
    "col_r=plt.colorbar(h)\n",
    "col_r.set_label(r'$\\Delta$F')\n",
    "plt.tight_layout()"
   ]
  },
  {
   "cell_type": "code",
   "execution_count": null,
   "metadata": {},
   "outputs": [],
   "source": [
    "deep_width=.025\n",
    "superficial_width=.01\n",
    "deep_signal=np.exp(-((time-zero_time)**2)/(2*deep_width**2))\n",
    "superficial_signal=np.exp(-((time-zero_time)**2)/(2*superficial_width**2))\n",
    "\n",
    "sim_pos=[white_vertex, pial_vertex]\n",
    "# Orientation of each dipole\n",
    "sim_ori=np.vstack([white_unit_norm, pial_unit_norm])\n",
    "# Dipole momemnts\n",
    "sim_dipmom=[6, 8] # nAm\n",
    "# Combined signal\n",
    "sim_signal=np.vstack([deep_signal, superficial_signal])\n",
    "# Width of patch\n",
    "sim_dipfwhm=[5, 5] # mm\n",
    "    \n",
    "\n",
    "prefix=f'sim_{sim_vertex}_burst.'\n",
    "burst_sim_fname=run_dipole_simulation(base_fname, prefix, sim_pos, sim_signal, sim_ori, sim_dipmom, sim_dipfwhm, \n",
    "                                      SNR)    "
   ]
  },
  {
   "cell_type": "code",
   "execution_count": null,
   "metadata": {},
   "outputs": [],
   "source": [
    "plt.figure()\n",
    "plt.plot(time,superficial_signal, label='superficial')\n",
    "plt.plot(time,deep_signal, label='deep')\n",
    "plt.legend()\n",
    "plt.xlabel('Time (s)')\n",
    "plt.ylabel('Amplitude (normalised)')"
   ]
  },
  {
   "cell_type": "code",
   "execution_count": null,
   "metadata": {},
   "outputs": [],
   "source": [
    "[Fs,wois]=sliding_window_model_comparison(tmp_dir, sim_vertex, nas, lpa, rpa, mri_fname, \n",
    "                                          [layer_fnames[0], layer_fnames[-1]], burst_sim_fname, \n",
    "                                          patch_size=sim_patch_size, n_temp_modes=sliding_n_temp_modes,\n",
    "                                          win_size=win_size, win_overlap=win_overlap)\n",
    "\n",
    "Fs=np.array(Fs)\n",
    "wois=np.array(wois)"
   ]
  },
  {
   "cell_type": "code",
   "execution_count": null,
   "metadata": {
    "scrolled": true
   },
   "outputs": [],
   "source": [
    "plt.plot(np.mean(wois,axis=-1), Fs[0,:]-Fs[1,:])\n",
    "plt.xlabel('Time (ms)')\n",
    "plt.ylabel(r'$\\Delta$F')"
   ]
  },
  {
   "cell_type": "code",
   "execution_count": null,
   "metadata": {},
   "outputs": [],
   "source": [
    "[Fs,wois]=sliding_window_model_comparison(tmp_dir, sim_vertex, nas, lpa, rpa, mri_fname, \n",
    "                                          layer_fnames, burst_sim_fname, patch_size=sim_patch_size, \n",
    "                                          n_temp_modes=sliding_n_temp_modes, win_size=win_size, \n",
    "                                          win_overlap=win_overlap)\n",
    "\n",
    "Fs=np.array(Fs)\n",
    "wois=np.array(wois)"
   ]
  },
  {
   "cell_type": "code",
   "execution_count": null,
   "metadata": {},
   "outputs": [],
   "source": [
    "F_diff=np.zeros((Fs.shape[0],Fs.shape[1]))\n",
    "for t in range(Fs.shape[1]):\n",
    "    minF=np.min(Fs[:,t,0])\n",
    "    F_diff[:,t]=Fs[:,t,0]-minF\n",
    "    \n",
    "col_r = plt.cm.cool(np.linspace(0,1, num=n_layers))\n",
    "plt.figure(figsize=(10,4))\n",
    "plt.subplot(1,2,1)\n",
    "for l in range(n_layers):\n",
    "    plt.plot(F_diff[l,:], label=f'{l}', color=col_r[l,:])\n",
    "plt.legend()\n",
    "plt.xlabel('Time (ms)')\n",
    "plt.ylabel(r'$\\Delta$F')\n",
    "plt.subplot(1,2,2)\n",
    "h=plt.imshow(F_diff,aspect='auto')\n",
    "plt.xlabel('Time (ms)')\n",
    "plt.ylabel('Layer')\n",
    "col_r=plt.colorbar(h)\n",
    "col_r.set_label(r'$\\Delta$F')\n",
    "plt.tight_layout()"
   ]
  },
  {
   "cell_type": "code",
   "execution_count": null,
   "metadata": {},
   "outputs": [],
   "source": [
    "keep_mat = os.path.join(tmp_dir, base_fname)\n",
    "keep_dat = os.path.join(tmp_dir, os.path.splitext(base_fname)[0] + '.dat')\n",
    "\n",
    "# Iterate over all items in the directory\n",
    "for item in os.listdir(tmp_dir):\n",
    "    item_path = os.path.join(tmp_dir, item)\n",
    "\n",
    "    # Check if the item is not one of the three to keep\n",
    "    if item_path not in [keep_mat, keep_dat]:\n",
    "        # Check if it's a file or a directory\n",
    "        if os.path.isfile(item_path):\n",
    "            # Delete the file\n",
    "            os.remove(item_path)\n",
    "        elif os.path.isdir(item_path):\n",
    "            # Recursively delete the directory\n",
    "            shutil.rmtree(item_path)"
   ]
  },
  {
   "cell_type": "code",
   "execution_count": null,
   "metadata": {},
   "outputs": [],
   "source": []
  }
 ],
 "metadata": {
  "kernelspec": {
   "display_name": "megsurfer_matlab",
   "language": "python",
   "name": "megsurfer_matlab"
  },
  "language_info": {
   "codemirror_mode": {
    "name": "ipython",
    "version": 3
   },
   "file_extension": ".py",
   "mimetype": "text/x-python",
   "name": "python",
   "nbconvert_exporter": "python",
   "pygments_lexer": "ipython3",
   "version": "3.6.13"
  }
 },
 "nbformat": 4,
 "nbformat_minor": 4
}
