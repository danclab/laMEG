{
 "cells": [
  {
   "cell_type": "code",
   "execution_count": 1,
   "metadata": {},
   "outputs": [],
   "source": [
    "import os\n",
    "import nibabel as nib\n",
    "import numpy as np\n",
    "import matplotlib.pyplot as plt\n",
    "from invert import invert_ebb, invert_msp, load_source_time_series\n",
    "from simulate import run_dipole_simulation\n",
    "from laminar import sliding_window_model_comparison, model_comparison\n",
    "from matplotlib import colors\n"
   ]
  },
  {
   "cell_type": "code",
   "execution_count": 2,
   "metadata": {},
   "outputs": [],
   "source": [
    "sim_vertex=420\n",
    "sim_patch_size=5\n",
    "dipole_moment=10\n",
    "SNR=-5\n",
    "n_layers=11\n",
    "layers = np.linspace(1, 0, n_layers)\n",
    "signal_width=.025 # 25ms\n",
    "\n",
    "data_dir='./test_data'\n",
    "out_dir='./test_output'\n",
    "tmp_dir='/scratch/bonaiuto/simulated_data/'\n",
    "subj_id='sub-104'\n",
    "ses_id='ses-01'\n",
    "# Subject fiducial coil coordinates\n",
    "nas=[0.9662503311032098, 108.83514306876269, 1.6712361927090313]\n",
    "lpa=[-74.28671169006893, 20.15061014698176, -29.849056272705948]\n",
    "rpa=[76.02110531729883, 18.9467849625573, -25.779407159603114]\n",
    "\n",
    "# T1\n",
    "mri_fname = os.path.join(data_dir,'spm', subj_id, 's2023-02-28_13-33-133958-00001-00224-1.nii')\n",
    "\n",
    "mesh_fname = os.path.join(out_dir, subj_id, 'multilayer.11.ds.link_vector.gii')\n",
    "\n",
    "## Create intermediate surfaces if needed\n",
    "layer_fnames = []\n",
    "for l, layer in enumerate(layers):\n",
    "    if layer == 1:\n",
    "        layer_fnames.append(os.path.join(out_dir, subj_id, 'pial.ds.link_vector.gii'))\n",
    "    elif layer > 0 and layer < 1:\n",
    "        layer_name = '{:.3f}'.format(layer)\n",
    "        layer_fnames.append(os.path.join(out_dir, subj_id, f'{layer_name}.ds.link_vector.gii'))        \n",
    "    elif layer == 0:\n",
    "        layer_fnames.append(os.path.join(out_dir, subj_id, 'white.ds.link_vector.gii'))\n",
    "\n",
    "# Data file to base simulations on\n",
    "data_file=os.path.join(data_dir, 'processed', subj_id, ses_id, 'spm/pspm-converted_autoreject-sub-104-ses-01-001-btn_trial-epo.mat')\n",
    "\n",
    "patch_size=5\n",
    "n_temp_modes = 4\n",
    "win_size=10\n",
    "win_overlap=True\n",
    "\n",
    "mesh=nib.load(mesh_fname)\n",
    "verts_per_surf=int(mesh.darrays[0].data.shape[0]/n_layers)\n",
    "subject_out_dir = os.path.join(out_dir, subj_id, 'inv')"
   ]
  },
  {
   "cell_type": "code",
   "execution_count": 3,
   "metadata": {},
   "outputs": [],
   "source": [
    "# Invert the subject's data. This step only has to be done once\n",
    "# [base_fname,F,_]=invert_ebb(tmp_dir, nas, lpa, rpa, mri_fname, mesh_fname, data_file, n_layers, \n",
    "#                             patch_size=patch_size, n_temp_modes=n_temp_modes)"
   ]
  },
  {
   "cell_type": "code",
   "execution_count": 4,
   "metadata": {},
   "outputs": [],
   "source": [
    "base_fname='/scratch/bonaiuto/simulated_data/multilayer.11.ds.link_vector.pspm-converted_autoreject-sub-104-ses-01-001-btn_trial-epo.mat'"
   ]
  },
  {
   "cell_type": "code",
   "execution_count": 5,
   "metadata": {},
   "outputs": [
    {
     "data": {
      "text/plain": [
       "Text(0, 0.5, 'Amplitude (normalised)')"
      ]
     },
     "execution_count": 5,
     "metadata": {},
     "output_type": "execute_result"
    },
    {
     "data": {
      "image/png": "[encoded data removed]",
      "text/plain": [
       "<Figure size 432x288 with 1 Axes>"
      ]
     },
     "metadata": {
      "needs_background": "light"
     },
     "output_type": "display_data"
    }
   ],
   "source": [
    "time=np.linspace(0,.2,121)\n",
    "zero_time=time[int((len(time)-1)/2+1)]\n",
    "\n",
    "signal=np.exp(-((time-zero_time)**2)/(2*signal_width**2))\n",
    "\n",
    "plt.figure()\n",
    "plt.plot(time,signal)\n",
    "plt.xlabel('Time (s)')\n",
    "plt.ylabel('Amplitude (normalised)')"
   ]
  },
  {
   "cell_type": "code",
   "execution_count": 6,
   "metadata": {},
   "outputs": [],
   "source": [
    "pial_vertex=sim_vertex\n",
    "white_vertex=(n_layers-1)*int(verts_per_surf)+sim_vertex\n",
    "\n",
    "pial_unit_norm=mesh.darrays[2].data[pial_vertex,:]\n",
    "white_unit_norm=-1*mesh.darrays[2].data[white_vertex,:]"
   ]
  },
  {
   "cell_type": "code",
   "execution_count": 7,
   "metadata": {},
   "outputs": [],
   "source": [
    "prefix=f'sim_{sim_vertex}_superficial.'\n",
    "pial_sim_fname=run_dipole_simulation(base_fname, prefix, pial_vertex, signal, pial_unit_norm, dipole_moment, \n",
    "                                     sim_patch_size, SNR)    "
   ]
  },
  {
   "cell_type": "code",
   "execution_count": 8,
   "metadata": {},
   "outputs": [
    {
     "name": "stdout",
     "output_type": "stream",
     "text": [
      "Smoothing ./test_output/sub-104/pial.ds.link_vector.gii\n",
      "FWHM of 5.00 is approx 3.11 times vertex spacing\n"
     ]
    },
    {
     "ename": "TypeError",
     "evalue": "'NoneType' object is not iterable",
     "output_type": "error",
     "traceback": [
      "\u001b[0;31m---------------------------------------------------------------------------\u001b[0m",
      "\u001b[0;31mTypeError\u001b[0m                                 Traceback (most recent call last)",
      "\u001b[0;32m<ipython-input-8-96bdf6c26194>\u001b[0m in \u001b[0;36m<module>\u001b[0;34m\u001b[0m\n\u001b[1;32m      2\u001b[0m                                           \u001b[0;34m[\u001b[0m\u001b[0mlayer_fnames\u001b[0m\u001b[0;34m[\u001b[0m\u001b[0;36m0\u001b[0m\u001b[0;34m]\u001b[0m\u001b[0;34m,\u001b[0m \u001b[0mlayer_fnames\u001b[0m\u001b[0;34m[\u001b[0m\u001b[0;34m-\u001b[0m\u001b[0;36m1\u001b[0m\u001b[0;34m]\u001b[0m\u001b[0;34m]\u001b[0m\u001b[0;34m,\u001b[0m \u001b[0mpial_sim_fname\u001b[0m\u001b[0;34m,\u001b[0m\u001b[0;34m\u001b[0m\u001b[0;34m\u001b[0m\u001b[0m\n\u001b[1;32m      3\u001b[0m                                           \u001b[0mpatch_size\u001b[0m\u001b[0;34m=\u001b[0m\u001b[0msim_patch_size\u001b[0m\u001b[0;34m,\u001b[0m \u001b[0mn_temp_modes\u001b[0m\u001b[0;34m=\u001b[0m\u001b[0mn_temp_modes\u001b[0m\u001b[0;34m,\u001b[0m\u001b[0;34m\u001b[0m\u001b[0;34m\u001b[0m\u001b[0m\n\u001b[0;32m----> 4\u001b[0;31m                                           win_size=win_size, win_overlap=win_overlap)\n\u001b[0m\u001b[1;32m      5\u001b[0m \u001b[0mFs\u001b[0m\u001b[0;34m=\u001b[0m\u001b[0mnp\u001b[0m\u001b[0;34m.\u001b[0m\u001b[0marray\u001b[0m\u001b[0;34m(\u001b[0m\u001b[0mFs\u001b[0m\u001b[0;34m)\u001b[0m\u001b[0;34m\u001b[0m\u001b[0;34m\u001b[0m\u001b[0m\n\u001b[1;32m      6\u001b[0m \u001b[0mwois\u001b[0m\u001b[0;34m=\u001b[0m\u001b[0mnp\u001b[0m\u001b[0;34m.\u001b[0m\u001b[0marray\u001b[0m\u001b[0;34m(\u001b[0m\u001b[0mwois\u001b[0m\u001b[0;34m)\u001b[0m\u001b[0;34m\u001b[0m\u001b[0;34m\u001b[0m\u001b[0m\n",
      "\u001b[0;32m~/MEGsurfer/python/laminar.py\u001b[0m in \u001b[0;36msliding_window_model_comparison\u001b[0;34m(out_dir, prior, nas, lpa, rpa, mri_fname, mesh_fnames, data_file, patch_size, n_temp_modes, win_size, win_overlap, mat_eng)\u001b[0m\n\u001b[1;32m     25\u001b[0m         [_, mesh_fvals, wois] = invert_sliding_window(out_dir, prior, nas, lpa, rpa, mri_fname, mesh_fname, data_file,\n\u001b[1;32m     26\u001b[0m                                                       \u001b[0;36m1\u001b[0m\u001b[0;34m,\u001b[0m \u001b[0mpatch_size\u001b[0m\u001b[0;34m=\u001b[0m\u001b[0mpatch_size\u001b[0m\u001b[0;34m,\u001b[0m \u001b[0mn_temp_modes\u001b[0m\u001b[0;34m=\u001b[0m\u001b[0mn_temp_modes\u001b[0m\u001b[0;34m,\u001b[0m\u001b[0;34m\u001b[0m\u001b[0;34m\u001b[0m\u001b[0m\n\u001b[0;32m---> 27\u001b[0;31m                                                       win_size=win_size, win_overlap=win_overlap, mat_eng=mat_eng)\n\u001b[0m\u001b[1;32m     28\u001b[0m         \u001b[0mf_vals\u001b[0m\u001b[0;34m.\u001b[0m\u001b[0mappend\u001b[0m\u001b[0;34m(\u001b[0m\u001b[0mmesh_fvals\u001b[0m\u001b[0;34m)\u001b[0m\u001b[0;34m\u001b[0m\u001b[0;34m\u001b[0m\u001b[0m\n\u001b[1;32m     29\u001b[0m     \u001b[0;32mreturn\u001b[0m \u001b[0mf_vals\u001b[0m\u001b[0;34m,\u001b[0m \u001b[0mwois\u001b[0m\u001b[0;34m\u001b[0m\u001b[0;34m\u001b[0m\u001b[0m\n",
      "\u001b[0;32m~/MEGsurfer/python/invert.py\u001b[0m in \u001b[0;36minvert_sliding_window\u001b[0;34m(out_dir, prior, nas, lpa, rpa, mri_fname, mesh_fname, data_file, n_layers, patch_size, n_temp_modes, win_size, win_overlap, foi, mat_eng)\u001b[0m\n\u001b[1;32m     91\u001b[0m                                            \u001b[0mmatlab\u001b[0m\u001b[0;34m.\u001b[0m\u001b[0mdouble\u001b[0m\u001b[0;34m(\u001b[0m\u001b[0mlpa\u001b[0m\u001b[0;34m)\u001b[0m\u001b[0;34m,\u001b[0m \u001b[0mmatlab\u001b[0m\u001b[0;34m.\u001b[0m\u001b[0mdouble\u001b[0m\u001b[0;34m(\u001b[0m\u001b[0mrpa\u001b[0m\u001b[0;34m)\u001b[0m\u001b[0;34m,\u001b[0m \u001b[0mfloat\u001b[0m\u001b[0;34m(\u001b[0m\u001b[0mpatch_size\u001b[0m\u001b[0;34m)\u001b[0m\u001b[0;34m,\u001b[0m\u001b[0;34m\u001b[0m\u001b[0;34m\u001b[0m\u001b[0m\n\u001b[1;32m     92\u001b[0m                                            \u001b[0mfloat\u001b[0m\u001b[0;34m(\u001b[0m\u001b[0mn_temp_modes\u001b[0m\u001b[0;34m)\u001b[0m\u001b[0;34m,\u001b[0m \u001b[0mfloat\u001b[0m\u001b[0;34m(\u001b[0m\u001b[0mwin_size\u001b[0m\u001b[0;34m)\u001b[0m\u001b[0;34m,\u001b[0m \u001b[0mwin_overlap\u001b[0m\u001b[0;34m,\u001b[0m \u001b[0mmatlab\u001b[0m\u001b[0;34m.\u001b[0m\u001b[0mdouble\u001b[0m\u001b[0;34m(\u001b[0m\u001b[0mfoi\u001b[0m\u001b[0;34m)\u001b[0m\u001b[0;34m,\u001b[0m\u001b[0;34m\u001b[0m\u001b[0;34m\u001b[0m\u001b[0m\n\u001b[0;32m---> 93\u001b[0;31m                                            spm_path, nargout=2)\n\u001b[0m\u001b[1;32m     94\u001b[0m \u001b[0;34m\u001b[0m\u001b[0m\n\u001b[1;32m     95\u001b[0m     \u001b[0;32mif\u001b[0m \u001b[0mclose_matlab\u001b[0m\u001b[0;34m:\u001b[0m\u001b[0;34m\u001b[0m\u001b[0;34m\u001b[0m\u001b[0m\n",
      "\u001b[0;31mTypeError\u001b[0m: 'NoneType' object is not iterable"
     ]
    }
   ],
   "source": [
    "[Fs,wois]=sliding_window_model_comparison(tmp_dir, sim_vertex, nas, lpa, rpa, mri_fname, \n",
    "                                          [layer_fnames[0], layer_fnames[-1]], pial_sim_fname, \n",
    "                                          patch_size=sim_patch_size, n_temp_modes=n_temp_modes,\n",
    "                                          win_size=win_size, win_overlap=win_overlap)\n",
    "Fs=np.array(Fs)\n",
    "wois=np.array(wois)"
   ]
  },
  {
   "cell_type": "code",
   "execution_count": null,
   "metadata": {},
   "outputs": [],
   "source": [
    "plt.plot(np.mean(wois,axis=-1), Fs[0,:]-Fs[1,:])\n",
    "plt.xlabel('Time (ms)')\n",
    "plt.ylabel(r'$\\Delta$F')"
   ]
  },
  {
   "cell_type": "code",
   "execution_count": null,
   "metadata": {},
   "outputs": [],
   "source": [
    "prefix=f'sim_{sim_vertex}_deep.'\n",
    "white_sim_fname=run_dipole_simulation(base_fname, prefix, white_vertex, signal, white_unit_norm, dipole_moment, \n",
    "                                      sim_patch_size, SNR)    "
   ]
  },
  {
   "cell_type": "code",
   "execution_count": null,
   "metadata": {},
   "outputs": [],
   "source": [
    "[Fs,wois]=sliding_window_model_comparison(tmp_dir, sim_vertex, nas, lpa, rpa, mri_fname, \n",
    "                                          [layer_fnames[0], layer_fnames[-1]], white_sim_fname, \n",
    "                                          patch_size=sim_patch_size, n_temp_modes=n_temp_modes,\n",
    "                                          win_size=win_size, win_overlap=win_overlap)\n",
    "Fs=np.array(Fs)\n",
    "wois=np.array(wois)"
   ]
  },
  {
   "cell_type": "code",
   "execution_count": null,
   "metadata": {
    "scrolled": true
   },
   "outputs": [],
   "source": [
    "plt.plot(np.mean(wois,axis=-1), Fs[0,:]-Fs[1,:])\n",
    "plt.xlabel('Time (ms)')\n",
    "plt.ylabel(r'$\\Delta$F')"
   ]
  },
  {
   "cell_type": "code",
   "execution_count": null,
   "metadata": {},
   "outputs": [],
   "source": [
    "deep_width=.025\n",
    "superficial_width=.01\n",
    "deep_signal=np.exp(-((time-zero_time)**2)/(2*deep_width**2))\n",
    "superficial_signal=np.exp(-((time-zero_time)**2)/(2*superficial_width**2))\n",
    "\n",
    "sim_pos=[white_vertex, pial_vertex]\n",
    "# Orientation of each dipole\n",
    "sim_ori=np.vstack([white_unit_norm, pial_unit_norm])\n",
    "# Dipole momemnts\n",
    "sim_dipmom=[6, 8] # nAm\n",
    "# Combined signal\n",
    "sim_signal=np.vstack([deep_signal, superficial_signal])\n",
    "# Width of patch\n",
    "sim_dipfwhm=[5, 5] # mm\n",
    "    \n",
    "\n",
    "prefix=f'sim_{sim_vertex}_burst.'\n",
    "burst_sim_fname=run_dipole_simulation(base_fname, prefix, sim_pos, sim_signal, sim_ori, sim_dipmom, sim_dipfwhm, SNR)    "
   ]
  },
  {
   "cell_type": "code",
   "execution_count": null,
   "metadata": {},
   "outputs": [],
   "source": [
    "plt.figure()\n",
    "plt.plot(time,superficial_signal, label='superficial')\n",
    "plt.plot(time,deep_signal, label='deep')\n",
    "plt.legend()\n",
    "plt.xlabel('Time (s)')\n",
    "plt.ylabel('Amplitude (normalised)')"
   ]
  },
  {
   "cell_type": "code",
   "execution_count": null,
   "metadata": {},
   "outputs": [],
   "source": [
    "[Fs,wois]=sliding_window_model_comparison(tmp_dir, sim_vertex, nas, lpa, rpa, mri_fname, \n",
    "                                          [layer_fnames[0], layer_fnames[-1]], burst_sim_fname, \n",
    "                                          patch_size=sim_patch_size, n_temp_modes=n_temp_modes,\n",
    "                                          win_size=win_size, win_overlap=win_overlap)\n",
    "\n",
    "Fs=np.array(Fs)\n",
    "wois=np.array(wois)"
   ]
  },
  {
   "cell_type": "code",
   "execution_count": null,
   "metadata": {
    "scrolled": true
   },
   "outputs": [],
   "source": [
    "plt.plot(np.mean(wois,axis=-1), Fs[0,:]-Fs[1,:])\n",
    "plt.xlabel('Time (ms)')\n",
    "plt.ylabel(r'$\\Delta$F')"
   ]
  },
  {
   "cell_type": "code",
   "execution_count": null,
   "metadata": {},
   "outputs": [],
   "source": [
    "[Fs,wois]=sliding_window_model_comparison(tmp_dir, sim_vertex, nas, lpa, rpa, mri_fname, \n",
    "                                          layer_fnames, burst_sim_fname, \n",
    "                                          patch_size=sim_patch_size, n_temp_modes=n_temp_modes,\n",
    "                                          win_size=win_size, win_overlap=win_overlap)\n",
    "\n",
    "Fs=np.array(Fs)\n",
    "wois=np.array(wois)"
   ]
  },
  {
   "cell_type": "code",
   "execution_count": null,
   "metadata": {},
   "outputs": [],
   "source": [
    "F_diff=np.zeros((Fs.shape[0],Fs.shape[1]))\n",
    "for t in range(Fs.shape[1]):\n",
    "    minF=np.min(Fs[:,t,0])\n",
    "    F_diff[:,t]=Fs[:,t,0]-minF"
   ]
  },
  {
   "cell_type": "code",
   "execution_count": null,
   "metadata": {},
   "outputs": [],
   "source": [
    "col_r = plt.cm.cool(np.linspace(0,1, num=n_layers))\n",
    "plt.figure(figsize=(10,4))\n",
    "plt.subplot(1,2,1)\n",
    "for l in range(n_layers):\n",
    "    plt.plot(F_diff[l,:], label=f'{l}', color=col_r[l,:])\n",
    "plt.legend()\n",
    "plt.xlabel('Time (ms)')\n",
    "plt.ylabel(r'$\\Delta$F')\n",
    "plt.subplot(1,2,2)\n",
    "h=plt.imshow(F_diff,aspect='auto')\n",
    "plt.xlabel('Time (ms)')\n",
    "plt.ylabel('Layer')\n",
    "col_r=plt.colorbar(h)\n",
    "col_r.set_label(r'$\\Delta$F')\n",
    "plt.tight_layout()"
   ]
  },
  {
   "cell_type": "code",
   "execution_count": null,
   "metadata": {},
   "outputs": [],
   "source": []
  }
 ],
 "metadata": {
  "kernelspec": {
   "display_name": "megsurfer_matlab",
   "language": "python",
   "name": "megsurfer_matlab"
  },
  "language_info": {
   "codemirror_mode": {
    "name": "ipython",
    "version": 3
   },
   "file_extension": ".py",
   "mimetype": "text/x-python",
   "name": "python",
   "nbconvert_exporter": "python",
   "pygments_lexer": "ipython3",
   "version": "3.6.13"
  }
 },
 "nbformat": 4,
 "nbformat_minor": 4
}
